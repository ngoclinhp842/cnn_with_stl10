{
 "cells": [
  {
   "cell_type": "markdown",
   "metadata": {},
   "source": [
    "**Varsha Yarram and Michelle Phan**\n",
    "\n",
    "Fall 2024\n",
    "\n",
    "CS343: Neural Networks\n",
    "\n",
    "Project 3: Convolutional Neural Networks"
   ]
  },
  {
   "cell_type": "code",
   "execution_count": 3,
   "metadata": {},
   "outputs": [],
   "source": [
    "import numpy as np\n",
    "import matplotlib.pyplot as plt\n",
    "\n",
    "plt.show()\n",
    "plt.style.use(['seaborn-v0_8-colorblind', 'seaborn-v0_8-darkgrid'])\n",
    "plt.rcParams.update({'font.size': 20})\n",
    "\n",
    "np.set_printoptions(suppress=True, precision=7)\n",
    "\n",
    "# Automatically reload your external source code\n",
    "%load_ext autoreload\n",
    "%autoreload 2"
   ]
  },
  {
   "cell_type": "markdown",
   "metadata": {},
   "source": [
    "## Goal\n",
    "\n",
    "**Make sure any debug printouts do not appear if `verbose=False`!**\n",
    "\n",
    "This week, you will test your CNN on the STL-10 dataset! The last step before you can do this is implementing an optimizer to update your network weights during gradient descent. You will implement a few and compare them."
   ]
  },
  {
   "cell_type": "markdown",
   "metadata": {},
   "source": [
    "## Task 5: Implement weight optimizers for gradient descent\n",
    "\n",
    "To change the weights during training, we need an optimization algorithm to have our loss decrease over epochs as we learn the structure of the input patterns. Until now, we used **Stochastic gradient descent (SGD)**, which is the simplest algorithm. You will implement 4 popular algorithms:\n",
    "\n",
    "1. `SGD` (stochastic gradient descent)\n",
    "2. `SGD_Momentum` (stochastic gradient descent with momentum)\n",
    "3. `Adam` (Adaptive Moment Estimation)\n",
    "4. `AdamW` (Adaptive Moment Estimation Weight decay) <br/>*Skip AdamW for now. There is a task below that focuses on this optimizer.*\n",
    "\n",
    "Implement each of these according to the update equations (the `update_weights()` in each subclass in `optimizer.py`). Let's use $w_t$ in the math below to represent the weights in a layer at time step $t$, $dw$ to represent the gradient of the weights in a layer, and $\\eta$ represent the learning rate. We use vectorized notation below (update applies to all weights element-wise). Then:\n",
    "\n",
    "**SGD**: \n",
    "\n",
    "$w_{t} = w_{t-1} - \\eta \\times dw$\n",
    "\n",
    "**SGD (momentum)**:\n",
    "\n",
    "$v_{t} = m \\times v_{t-1} - \\eta \\times dw$\n",
    "\n",
    "$w_{t} = w_{t-1} + v_t$\n",
    "\n",
    "where $v_t$ is called the `velocity` at time $t$. At the first time step (0), velocity should be set to all zeros and have the same shape as $w$. $m$ is a constant that determines how much of the gradient obtained on the previous time step should factor into the weight update for the current time step.\n",
    "\n",
    "\n",
    "**Adam**:\n",
    "\n",
    "$v_{t} = \\beta_1 \\times v_{t-1} + (1 - \\beta_1)\\times dw$\n",
    "\n",
    "$p_{t} = \\beta_2 \\times p_{t-1} + (1 - \\beta_2)\\times dw^2$\n",
    "\n",
    "$vc = v_{t} / \\left (1-(\\beta_1^t) \\right )$\n",
    "\n",
    "$pc = p_{t} / \\left (1-(\\beta_2^t) \\right )$\n",
    "\n",
    "$w_{t} = w_{t-1} - \\left ( \\eta \\times vc \\right ) / \\left ( \\sqrt(pc) + \\epsilon \\right ) $\n",
    "\n",
    "\n",
    "Like SGD (momentum), Adam records momentum terms $v$ and $p$. At time step 0, you should initialize them to zeros in an array equal in size to the weights. $vc$ and $pc$ are variables computed on each time step. The remaining quantities are constants. Note that $t$ keeps track of the integer time step, and needs to be incremented on each update. \n"
   ]
  },
  {
   "cell_type": "code",
   "execution_count": 6,
   "metadata": {},
   "outputs": [],
   "source": [
    "from optimizer import *"
   ]
  },
  {
   "cell_type": "markdown",
   "metadata": {},
   "source": [
    "####  Test SGD"
   ]
  },
  {
   "cell_type": "code",
   "execution_count": 14,
   "metadata": {},
   "outputs": [
    {
     "name": "stdout",
     "output_type": "stream",
     "text": [
      "SGD: Wts after 1 iter [-3.012573  -1.9867895 -1.0640423 -0.01049    1.0535669  1.9638405]\n",
      "SGD: Wts after 2 iter [-3.025146  -1.973579  -1.1280845 -0.02098    1.1071339  1.927681 ]\n"
     ]
    }
   ],
   "source": [
    "rng = np.random.default_rng(0)\n",
    "\n",
    "wts = np.arange(-3, 3, dtype=np.float64)\n",
    "d_wts = rng.standard_normal(len(wts))\n",
    "\n",
    "optimizer = SGD()\n",
    "optimizer.prepare(wts, d_wts)\n",
    "\n",
    "new_wts_1 = optimizer.update_weights()\n",
    "new_wts_2 = optimizer.update_weights()\n",
    "\n",
    "print(f'SGD: Wts after 1 iter {new_wts_1}')\n",
    "print(f'SGD: Wts after 2 iter {new_wts_2}')"
   ]
  },
  {
   "cell_type": "markdown",
   "metadata": {},
   "source": [
    "Output should be:\n",
    "\n",
    "    SGD: Wts after 1 iter [-3.012573  -1.9867895 -1.0640423 -0.01049    1.0535669  1.9638405]\n",
    "    SGD: Wts after 2 iter [-3.025146  -1.973579  -1.1280845 -0.02098    1.1071339  1.927681 ]"
   ]
  },
  {
   "cell_type": "markdown",
   "metadata": {},
   "source": [
    "####  Test SGD_Momentum"
   ]
  },
  {
   "cell_type": "code",
   "execution_count": 7,
   "metadata": {},
   "outputs": [
    {
     "name": "stdout",
     "output_type": "stream",
     "text": [
      "SGD M: Wts after 1 iter\n",
      "[[ 0.3582333 -0.1102257  0.7650137  0.1781269]\n",
      " [-0.4812435  0.3932251  1.262837   0.8428296]\n",
      " [-0.6908818 -1.4020678 -0.556755   0.006175 ]]\n",
      "SGD M: Wts after 2 iter\n",
      "[[ 0.7302382 -0.075219   0.9643595  0.2952896]\n",
      " [-0.394162   0.4438331  1.1969761  0.6760275]\n",
      " [-0.6703162 -1.620702  -0.4503238 -0.0500666]]\n"
     ]
    }
   ],
   "source": [
    "rng = np.random.default_rng(0)\n",
    "\n",
    "wts = rng.standard_normal((3, 4))\n",
    "d_wts = rng.standard_normal((3, 4))\n",
    "\n",
    "optimizer = SGD_Momentum(lr=0.1, m=0.6)\n",
    "optimizer.prepare(wts, d_wts)\n",
    "\n",
    "new_wts_1 = optimizer.update_weights()\n",
    "new_wts_2 = optimizer.update_weights()\n",
    "\n",
    "print(f'SGD M: Wts after 1 iter\\n{new_wts_1}')\n",
    "print(f'SGD M: Wts after 2 iter\\n{new_wts_2}')"
   ]
  },
  {
   "cell_type": "markdown",
   "metadata": {},
   "source": [
    "Output should be:\n",
    "\n",
    "    SGD M: Wts after 1 iter\n",
    "    [[ 0.3582333 -0.1102257  0.7650137  0.1781269]\n",
    "    [-0.4812435  0.3932251  1.262837   0.8428296]\n",
    "    [-0.6908818 -1.4020678 -0.556755   0.006175 ]]\n",
    "    SGD M: Wts after 2 iter\n",
    "    [[ 0.7302382 -0.075219   0.9643595  0.2952896]\n",
    "    [-0.394162   0.4438331  1.1969761  0.6760275]\n",
    "    [-0.6703162 -1.620702  -0.4503238 -0.0500666]]"
   ]
  },
  {
   "cell_type": "markdown",
   "metadata": {},
   "source": [
    "####  Test Adam"
   ]
  },
  {
   "cell_type": "code",
   "execution_count": 8,
   "metadata": {},
   "outputs": [
    {
     "name": "stdout",
     "output_type": "stream",
     "text": [
      "Adam: Wts after 1 iter\n",
      "[[ 0.2257302 -0.0321049  0.7404226  0.2049001]\n",
      " [-0.4356694  0.4615951  1.204      0.847081 ]\n",
      " [-0.6037352 -1.3654215 -0.5232745 -0.058674 ]]\n",
      "Adam: Wts after 2 iter\n",
      "[[ 0.3257302  0.0678951  0.8404226  0.3049001]\n",
      " [-0.3356694  0.561595   1.104      0.747081 ]\n",
      " [-0.5037353 -1.4654215 -0.4232745 -0.158674 ]]\n",
      "Adam: Wts after 3 iter\n",
      "[[ 0.4257302  0.1678951  0.9404226  0.4049001]\n",
      " [-0.2356694  0.661595   1.0040001  0.647081 ]\n",
      " [-0.4037353 -1.5654215 -0.3232745 -0.258674 ]]\n"
     ]
    }
   ],
   "source": [
    "rng = np.random.default_rng(0)\n",
    "\n",
    "wts = rng.standard_normal((3, 4))\n",
    "d_wts = rng.standard_normal((3, 4))\n",
    "\n",
    "optimizer = Adam(lr=0.1)\n",
    "optimizer.prepare(wts, d_wts)\n",
    "\n",
    "new_wts_1 = optimizer.update_weights()\n",
    "new_wts_2 = optimizer.update_weights()\n",
    "new_wts_3 = optimizer.update_weights()\n",
    "\n",
    "print(f'Adam: Wts after 1 iter\\n{new_wts_1}')\n",
    "print(f'Adam: Wts after 2 iter\\n{new_wts_2}')\n",
    "print(f'Adam: Wts after 3 iter\\n{new_wts_3}')"
   ]
  },
  {
   "cell_type": "markdown",
   "metadata": {},
   "source": [
    "Output should be:\n",
    "\n",
    "    Adam: Wts after 1 iter\n",
    "    [[ 0.2257302 -0.0321049  0.7404226  0.2049001]\n",
    "    [-0.4356694  0.4615951  1.204      0.847081 ]\n",
    "    [-0.6037352 -1.3654215 -0.5232745 -0.058674 ]]\n",
    "    Adam: Wts after 2 iter\n",
    "    [[ 0.3257302  0.0678951  0.8404226  0.3049001]\n",
    "    [-0.3356694  0.561595   1.104      0.747081 ]\n",
    "    [-0.5037353 -1.4654215 -0.4232745 -0.158674 ]]\n",
    "    Adam: Wts after 3 iter\n",
    "    [[ 0.4257302  0.1678951  0.9404226  0.4049001]\n",
    "    [-0.2356694  0.661595   1.0040001  0.647081 ]\n",
    "    [-0.4037353 -1.5654215 -0.3232745 -0.258674 ]] "
   ]
  },
  {
   "cell_type": "markdown",
   "metadata": {},
   "source": [
    "## Task 6: Write network training methods\n",
    "\n",
    "Implement methods in `network.py` to actually train the network, using all the building blocks that you have created. The methods to implement are:\n",
    "\n",
    "- `predict`\n",
    "- `fit`"
   ]
  },
  {
   "cell_type": "markdown",
   "metadata": {},
   "source": [
    "## Task 7: Overfitting a convolutional neural network\n",
    "\n",
    "Usually we try to prevent overfitting, but we can use it as a valuable debugging tool to test out a complex backprop-based neural network. Assuming everything is working, it is almost always the case that we should be able to overfit a tiny dataset with a huge model with tons of parameters (i.e. your CNN). You will use this strategy to verify that your network is working.\n",
    "\n",
    "Let's use a small amount of real data from STL-10 to perform the overfitting test."
   ]
  },
  {
   "cell_type": "markdown",
   "metadata": {},
   "source": [
    "### 7a. Move `load_stl10_dataset` and `preprocess_data.py` from the MLP project\n",
    "\n",
    "Make the one following change in `preprocess_data.py`:\n",
    "\n",
    "- In `preprocess_stl`, Re-arrange dimensions of `imgs` so that when it is returned, `shape=(Num imgs, RGB color chans, height, width)` (No longer flatten non-batch dimensions)\n",
    "- In `load_stl10`, add an optional parameter to the function `scale_fact=3`, which specifies the factor by which to downscale the STL-10 images. The default (`scale_fact=3`) reduces the resolution from 96x96 to 32x32. Achieve this downscaling by passing along the optional parameter value when the `load` function in `load_stl10_dataset.py`."
   ]
  },
  {
   "cell_type": "code",
   "execution_count": 5,
   "metadata": {},
   "outputs": [],
   "source": [
    "import load_stl10_dataset\n",
    "import preprocess_data\n",
    "from network import ConvNet4"
   ]
  },
  {
   "cell_type": "markdown",
   "metadata": {},
   "source": [
    "### 7b. Load in STL-10 at 16x16 resolution\n",
    "\n",
    "If you don't want to wait for STL-10 to download from the internet and resize, copy over your data and numpy folders from your MLP project.\n",
    "\n",
    "**Note:** The different train/test split here won't work if you hard coded the proportions in your `create_splits` implementation! *This isn't catastrophic, it just means that it will take longer to compute accuracy on the validation set.*"
   ]
  },
  {
   "cell_type": "code",
   "execution_count": 48,
   "metadata": {},
   "outputs": [
    {
     "name": "stdout",
     "output_type": "stream",
     "text": [
      "Images are: (5000, 96, 96, 3)\n",
      "Labels are: (5000,)\n",
      "Resizing 5000 images to 16x16...Done!\n",
      "Saving Numpy arrays the images and labels to ./numpy...Done!\n",
      "Train data shape:  (4578, 3, 16, 16)\n",
      "Train labels shape:  (4578,)\n",
      "Test data shape:  (400, 3, 16, 16)\n",
      "Test labels shape:  (400,)\n",
      "Validation data shape:  (2, 3, 16, 16)\n",
      "Validation labels shape:  (2,)\n",
      "dev data shape:  (20, 3, 16, 16)\n",
      "dev labels shape:  (20,)\n"
     ]
    }
   ],
   "source": [
    "# Download the STL-10 dataset from the internet, convert it to Numpy ndarray, resize to 16x16\n",
    "# cache it locally on your computer for faster loading next time.\n",
    "load_stl10_dataset.purge_cached_dataset()\n",
    "# preprocess and create splits\n",
    "x_train, y_train, x_test, y_test, x_val, y_val, x_dev, y_dev = preprocess_data.load_stl10(\n",
    "    n_train_samps=4578, n_test_samps=400, n_valid_samps=2, n_dev_samps=20, scale_fact=6)\n",
    "\n",
    "print ('Train data shape: ', x_train.shape)\n",
    "print ('Train labels shape: ', y_train.shape)\n",
    "print ('Test data shape: ', x_test.shape)\n",
    "print ('Test labels shape: ', y_test.shape)\n",
    "print ('Validation data shape: ', x_val.shape)\n",
    "print ('Validation labels shape: ', y_val.shape)\n",
    "print ('dev data shape: ', x_dev.shape)\n",
    "print ('dev labels shape: ', y_dev.shape)"
   ]
  },
  {
   "cell_type": "markdown",
   "metadata": {},
   "source": [
    "### 7c. Train and overfit the network on a small STL-10 sample with each optimizer\n",
    "\n",
    "#### Goal\n",
    "\n",
    "If your network works, you should see a drop in loss over epochs to 0 from the initial value of ~2.3.\n",
    "\n",
    "#### Todo\n",
    "\n",
    "In 3 seperate cells below\n",
    "\n",
    "- Create 3 different `ConvNet4` networks.\n",
    "- Compile each with a different optimizer — SGD, SGD-M, and Adam (i.e. each net uses a different optimizer and skip AdamW here).\n",
    "- Train each on the **dev** set and validate on the tiny validation set (we don't care about out-of-training-set performance here).\n",
    "\n",
    "You will be making plots demonstrating the overfitting for each optimizer below. **You should train the nets with the same number of epochs such that at least 2/3 of them clearly show loss convergence to a small value; one optimizer may not converge yet, and that's ok**. Cut off the simulations based on the 2/3 that do converge.\n",
    "\n",
    "#### Guidelines\n",
    "\n",
    "- To set up a fair comparison across optimizers, you should train your networks with the same hyperparameters each time (*e.g. don't use a different learning rate for different optimizers*).\n",
    "- Weight scales and learning rates of `1e-2` should work well.\n",
    "- Start by testing the Adam optimizer.\n",
    "- Remember that the input shape is (3, 16, 16). You need to specify this to the network constructor.\n",
    "- The hyperparameters are up to you, though I wouldn't recommend a batch size that is too small (close to 1), otherwise it may be tricky to see whether the loss is actually decreasing on average.\n",
    "- Decreasing `acc_freq` will make the `fit` function evaluate the training and validation accuracy more often. This is a computationally intensive process, so small values come with an increase in training time. On the other hand, checking the accuracy too infrequently means you won't know whether the network is trending toward overfitting the training data, which is what you're checking for.\n",
    "- Each training session takes ~15 mins on my laptop.\n",
    "\n",
    "#### Caveat emptor\n",
    "\n",
    "Training convolutional networks is notoriously computationally intensive. If you experiment with hyperparameters, each training session may take several hours.\n",
    "\n",
    "- Use the loss/accuracy print outs to quickly gauge whether your hyperparameter choices are getting your network to decrease in loss.\n",
    "- Monitor print outs and interrupt the Jupyter kernel if things are not trending in the right direction."
   ]
  },
  {
   "cell_type": "code",
   "execution_count": 49,
   "metadata": {
    "deletable": false,
    "nbgrader": {
     "cell_type": "code",
     "checksum": "362e68c6f988c8ede01402f98693085d",
     "grade": false,
     "grade_id": "cell-450f35663458d2ea",
     "locked": false,
     "schema_version": 3,
     "solution": true,
     "task": false
    }
   },
   "outputs": [
    {
     "name": "stdout",
     "output_type": "stream",
     "text": [
      "In each epoch, the number of iterations is 2\n",
      "acc_frq is 2\n",
      "Iteration 0 , Loss:  2.3118478147094472\n",
      "Training accuracy:  0.25 ; Validation accuracy:  0.0\n",
      "Run time of interation 0 of epoch 0 in seconds:  3.9992239475250244\n",
      "Iteration 0 , Loss:  2.725187326009368\n",
      "Training accuracy:  0.2 ; Validation accuracy:  0.0\n",
      "Run time of interation 0 of epoch 1 in seconds:  4.1983397006988525\n",
      "Iteration 0 , Loss:  1.650226050614863\n",
      "Training accuracy:  0.35 ; Validation accuracy:  0.5\n",
      "Run time of interation 0 of epoch 2 in seconds:  4.058704853057861\n",
      "Iteration 0 , Loss:  2.154646728587829\n",
      "Training accuracy:  0.55 ; Validation accuracy:  0.0\n",
      "Run time of interation 0 of epoch 3 in seconds:  4.068152904510498\n",
      "Iteration 0 , Loss:  1.7866287612870153\n",
      "Training accuracy:  0.55 ; Validation accuracy:  0.0\n",
      "Run time of interation 0 of epoch 4 in seconds:  3.968380928039551\n",
      "Iteration 0 , Loss:  1.6504952505638746\n",
      "Training accuracy:  0.6 ; Validation accuracy:  0.5\n",
      "Run time of interation 0 of epoch 5 in seconds:  4.092990159988403\n",
      "Iteration 0 , Loss:  1.226209683554213\n",
      "Training accuracy:  0.65 ; Validation accuracy:  0.5\n",
      "Run time of interation 0 of epoch 6 in seconds:  5.051585912704468\n",
      "Iteration 0 , Loss:  1.2377246920582021\n",
      "Training accuracy:  0.75 ; Validation accuracy:  0.0\n",
      "Run time of interation 0 of epoch 7 in seconds:  5.601112127304077\n",
      "Iteration 0 , Loss:  0.5280967311358393\n",
      "Training accuracy:  0.7 ; Validation accuracy:  0.0\n",
      "Run time of interation 0 of epoch 8 in seconds:  5.414314031600952\n",
      "Iteration 0 , Loss:  0.6853930918586267\n",
      "Training accuracy:  0.7 ; Validation accuracy:  0.0\n",
      "Run time of interation 0 of epoch 9 in seconds:  7.771966934204102\n",
      "Iteration 0 , Loss:  0.41710751677735086\n",
      "Training accuracy:  0.75 ; Validation accuracy:  0.0\n",
      "Run time of interation 0 of epoch 10 in seconds:  4.531371116638184\n",
      "Iteration 0 , Loss:  0.047897789468427515\n",
      "Training accuracy:  0.8 ; Validation accuracy:  0.0\n",
      "Run time of interation 0 of epoch 11 in seconds:  4.118456125259399\n",
      "Iteration 0 , Loss:  0.12384607082884606\n",
      "Training accuracy:  0.9 ; Validation accuracy:  0.0\n",
      "Run time of interation 0 of epoch 12 in seconds:  6.566663980484009\n",
      "Iteration 0 , Loss:  0.5092828953289701\n",
      "Training accuracy:  0.9 ; Validation accuracy:  0.0\n",
      "Run time of interation 0 of epoch 13 in seconds:  4.737111806869507\n",
      "Iteration 0 , Loss:  0.150164332949394\n",
      "Training accuracy:  0.9 ; Validation accuracy:  0.0\n",
      "Run time of interation 0 of epoch 14 in seconds:  4.537546873092651\n",
      "Iteration 0 , Loss:  0.009174931472350326\n",
      "Training accuracy:  1.0 ; Validation accuracy:  0.0\n",
      "Run time of interation 0 of epoch 15 in seconds:  4.348913908004761\n",
      "Iteration 0 , Loss:  0.04924431981152389\n",
      "Training accuracy:  0.95 ; Validation accuracy:  0.0\n",
      "Run time of interation 0 of epoch 16 in seconds:  4.151259899139404\n",
      "Iteration 0 , Loss:  0.05238862409667283\n",
      "Training accuracy:  1.0 ; Validation accuracy:  0.0\n",
      "Run time of interation 0 of epoch 17 in seconds:  5.120176792144775\n",
      "Iteration 0 , Loss:  0.04869616022691811\n",
      "Training accuracy:  1.0 ; Validation accuracy:  0.0\n",
      "Run time of interation 0 of epoch 18 in seconds:  4.191698312759399\n",
      "Iteration 0 , Loss:  0.02872985250829869\n",
      "Training accuracy:  1.0 ; Validation accuracy:  0.0\n",
      "Run time of interation 0 of epoch 19 in seconds:  3.9886279106140137\n",
      "Iteration 0 , Loss:  0.06940361509657074\n",
      "Training accuracy:  1.0 ; Validation accuracy:  0.0\n",
      "Run time of interation 0 of epoch 20 in seconds:  5.573937892913818\n",
      "Iteration 0 , Loss:  0.013669594012692285\n",
      "Training accuracy:  1.0 ; Validation accuracy:  0.0\n",
      "Run time of interation 0 of epoch 21 in seconds:  4.320677995681763\n",
      "Iteration 0 , Loss:  0.0013203316327063477\n",
      "Training accuracy:  1.0 ; Validation accuracy:  0.0\n",
      "Run time of interation 0 of epoch 22 in seconds:  4.6667420864105225\n",
      "Iteration 0 , Loss:  0.0010437233941685488\n",
      "Training accuracy:  1.0 ; Validation accuracy:  0.0\n",
      "Run time of interation 0 of epoch 23 in seconds:  6.0178680419921875\n",
      "Iteration 0 , Loss:  0.015690294766363817\n",
      "Training accuracy:  1.0 ; Validation accuracy:  0.0\n",
      "Run time of interation 0 of epoch 24 in seconds:  4.4678027629852295\n",
      "Iteration 0 , Loss:  0.0007453197191349098\n",
      "Training accuracy:  1.0 ; Validation accuracy:  0.0\n",
      "Run time of interation 0 of epoch 25 in seconds:  4.235113859176636\n",
      "Iteration 0 , Loss:  0.0011047783007273515\n",
      "Training accuracy:  1.0 ; Validation accuracy:  0.0\n",
      "Run time of interation 0 of epoch 26 in seconds:  4.0392491817474365\n",
      "Iteration 0 , Loss:  0.000765349623516573\n",
      "Training accuracy:  1.0 ; Validation accuracy:  0.0\n",
      "Run time of interation 0 of epoch 27 in seconds:  4.033265829086304\n",
      "Iteration 0 , Loss:  0.0004843414636028218\n",
      "Training accuracy:  1.0 ; Validation accuracy:  0.0\n",
      "Run time of interation 0 of epoch 28 in seconds:  3.9554038047790527\n",
      "Iteration 0 , Loss:  0.0013805507346290882\n",
      "Training accuracy:  1.0 ; Validation accuracy:  0.0\n",
      "Run time of interation 0 of epoch 29 in seconds:  3.9998419284820557\n",
      "Iteration 0 , Loss:  0.0008644289739607701\n",
      "Training accuracy:  1.0 ; Validation accuracy:  0.0\n",
      "Run time of interation 0 of epoch 30 in seconds:  4.177194833755493\n",
      "Iteration 0 , Loss:  0.001079039861031499\n",
      "Training accuracy:  1.0 ; Validation accuracy:  0.0\n",
      "Run time of interation 0 of epoch 31 in seconds:  4.013082981109619\n",
      "Iteration 0 , Loss:  0.0004785334943395937\n",
      "Training accuracy:  1.0 ; Validation accuracy:  0.0\n",
      "Run time of interation 0 of epoch 32 in seconds:  4.292741060256958\n",
      "Iteration 0 , Loss:  0.0006449852636806869\n",
      "Training accuracy:  1.0 ; Validation accuracy:  0.0\n",
      "Run time of interation 0 of epoch 33 in seconds:  4.106436729431152\n",
      "Iteration 0 , Loss:  0.0003986879326531867\n",
      "Training accuracy:  1.0 ; Validation accuracy:  0.0\n",
      "Run time of interation 0 of epoch 34 in seconds:  4.035828113555908\n",
      "Iteration 0 , Loss:  0.00029446318384081585\n",
      "Training accuracy:  1.0 ; Validation accuracy:  0.0\n",
      "Run time of interation 0 of epoch 35 in seconds:  3.9653830528259277\n",
      "Iteration 0 , Loss:  0.0002643771416259122\n",
      "Training accuracy:  1.0 ; Validation accuracy:  0.0\n",
      "Run time of interation 0 of epoch 36 in seconds:  3.937385082244873\n",
      "Iteration 0 , Loss:  0.00022720628983333876\n",
      "Training accuracy:  1.0 ; Validation accuracy:  0.0\n",
      "Run time of interation 0 of epoch 37 in seconds:  4.079058885574341\n",
      "Iteration 0 , Loss:  0.0003302298287708467\n",
      "Training accuracy:  1.0 ; Validation accuracy:  0.0\n",
      "Run time of interation 0 of epoch 38 in seconds:  4.0550689697265625\n",
      "Iteration 0 , Loss:  0.000286859682498503\n",
      "Training accuracy:  1.0 ; Validation accuracy:  0.0\n",
      "Run time of interation 0 of epoch 39 in seconds:  4.190752983093262\n",
      "Iteration 0 , Loss:  0.00018156061680536017\n",
      "Training accuracy:  1.0 ; Validation accuracy:  0.0\n",
      "Run time of interation 0 of epoch 40 in seconds:  5.617258787155151\n",
      "Iteration 0 , Loss:  0.0002391620506675416\n",
      "Training accuracy:  1.0 ; Validation accuracy:  0.0\n",
      "Run time of interation 0 of epoch 41 in seconds:  6.449865102767944\n",
      "Iteration 0 , Loss:  0.00019871125208940045\n",
      "Training accuracy:  1.0 ; Validation accuracy:  0.0\n",
      "Run time of interation 0 of epoch 42 in seconds:  4.3342883586883545\n",
      "Iteration 0 , Loss:  0.0001975782955652532\n",
      "Training accuracy:  1.0 ; Validation accuracy:  0.0\n",
      "Run time of interation 0 of epoch 43 in seconds:  4.4562108516693115\n",
      "Iteration 0 , Loss:  8.083677010413711e-05\n",
      "Training accuracy:  1.0 ; Validation accuracy:  0.0\n",
      "Run time of interation 0 of epoch 44 in seconds:  4.631651163101196\n",
      "Iteration 0 , Loss:  0.00011028835887720105\n",
      "Training accuracy:  1.0 ; Validation accuracy:  0.0\n",
      "Run time of interation 0 of epoch 45 in seconds:  4.936831951141357\n",
      "Iteration 0 , Loss:  0.00010633446011039694\n",
      "Training accuracy:  1.0 ; Validation accuracy:  0.0\n",
      "Run time of interation 0 of epoch 46 in seconds:  4.022526979446411\n",
      "Iteration 0 , Loss:  0.00016192155873329605\n",
      "Training accuracy:  1.0 ; Validation accuracy:  0.0\n",
      "Run time of interation 0 of epoch 47 in seconds:  3.9369568824768066\n",
      "Iteration 0 , Loss:  0.00013302617298001067\n",
      "Training accuracy:  1.0 ; Validation accuracy:  0.0\n",
      "Run time of interation 0 of epoch 48 in seconds:  5.353104829788208\n",
      "Iteration 0 , Loss:  0.0001307961347413272\n",
      "Training accuracy:  1.0 ; Validation accuracy:  0.0\n",
      "Run time of interation 0 of epoch 49 in seconds:  4.187550783157349\n",
      "Total training time in seconds:  343.78522992134094\n"
     ]
    }
   ],
   "source": [
    "# Adam\n",
    "# Compilet net1 with Adam optimizer\n",
    "net1 = ConvNet4(input_shape=(3, 16, 16), n_classes=10, wt_scale=1e-2, verbose=False)\n",
    "net1.compile(optimizer_name='adam', lr=1e-2)\n",
    "loss_history_adam, train_acc_history_adam, val_acc_adam = net1.fit(x_dev, y_dev, x_val, y_val, mini_batch_sz = 15, n_epochs=50, acc_freq=2, print_every=6)"
   ]
  },
  {
   "cell_type": "code",
   "execution_count": 50,
   "metadata": {},
   "outputs": [
    {
     "name": "stdout",
     "output_type": "stream",
     "text": [
      "100 50 50\n"
     ]
    }
   ],
   "source": [
    "print(len(loss_history_adam), len(train_acc_history_adam), len(val_acc_adam))"
   ]
  },
  {
   "cell_type": "code",
   "execution_count": 51,
   "metadata": {
    "deletable": false,
    "nbgrader": {
     "cell_type": "code",
     "checksum": "73b5278f29cfeea6817f19a9e2e8f9b0",
     "grade": false,
     "grade_id": "cell-b67d219d22b09bd6",
     "locked": false,
     "schema_version": 3,
     "solution": true,
     "task": false
    }
   },
   "outputs": [
    {
     "name": "stdout",
     "output_type": "stream",
     "text": [
      "In each epoch, the number of iterations is 2\n",
      "acc_frq is 2\n",
      "Iteration 0 , Loss:  2.3006120186699506\n",
      "Training accuracy:  0.0 ; Validation accuracy:  0.0\n",
      "Run time of interation 0 of epoch 0 in seconds:  4.070188999176025\n",
      "Iteration 0 , Loss:  2.299556419662743\n",
      "Training accuracy:  0.15 ; Validation accuracy:  0.0\n",
      "Run time of interation 0 of epoch 1 in seconds:  4.019292831420898\n",
      "Iteration 0 , Loss:  2.2909013331635464\n",
      "Training accuracy:  0.3 ; Validation accuracy:  0.5\n",
      "Run time of interation 0 of epoch 2 in seconds:  4.053972959518433\n",
      "Iteration 0 , Loss:  2.2860335919212456\n",
      "Training accuracy:  0.25 ; Validation accuracy:  0.5\n",
      "Run time of interation 0 of epoch 3 in seconds:  4.2132978439331055\n",
      "Iteration 0 , Loss:  2.2556950267992724\n",
      "Training accuracy:  0.25 ; Validation accuracy:  0.5\n",
      "Run time of interation 0 of epoch 4 in seconds:  4.0675530433654785\n",
      "Iteration 0 , Loss:  2.259475873830473\n",
      "Training accuracy:  0.25 ; Validation accuracy:  0.5\n",
      "Run time of interation 0 of epoch 5 in seconds:  4.000111103057861\n",
      "Iteration 0 , Loss:  2.2509525936766055\n",
      "Training accuracy:  0.25 ; Validation accuracy:  0.5\n",
      "Run time of interation 0 of epoch 6 in seconds:  4.219057083129883\n",
      "Iteration 0 , Loss:  2.2623871346513287\n",
      "Training accuracy:  0.25 ; Validation accuracy:  0.5\n",
      "Run time of interation 0 of epoch 7 in seconds:  4.19427490234375\n",
      "Iteration 0 , Loss:  2.196903136007712\n",
      "Training accuracy:  0.25 ; Validation accuracy:  0.5\n",
      "Run time of interation 0 of epoch 8 in seconds:  4.143010139465332\n",
      "Iteration 0 , Loss:  2.210151210151857\n",
      "Training accuracy:  0.25 ; Validation accuracy:  0.5\n",
      "Run time of interation 0 of epoch 9 in seconds:  4.0582640171051025\n",
      "Iteration 0 , Loss:  2.1079279213816773\n",
      "Training accuracy:  0.25 ; Validation accuracy:  0.5\n",
      "Run time of interation 0 of epoch 10 in seconds:  4.122518062591553\n",
      "Iteration 0 , Loss:  2.012257595434494\n",
      "Training accuracy:  0.25 ; Validation accuracy:  0.5\n",
      "Run time of interation 0 of epoch 11 in seconds:  4.184607982635498\n",
      "Iteration 0 , Loss:  2.0422655348029557\n",
      "Training accuracy:  0.25 ; Validation accuracy:  0.5\n",
      "Run time of interation 0 of epoch 12 in seconds:  4.174614906311035\n",
      "Iteration 0 , Loss:  1.915843487871138\n",
      "Training accuracy:  0.25 ; Validation accuracy:  0.5\n",
      "Run time of interation 0 of epoch 13 in seconds:  4.2488439083099365\n",
      "Iteration 0 , Loss:  1.7711606747927877\n",
      "Training accuracy:  0.3 ; Validation accuracy:  0.0\n",
      "Run time of interation 0 of epoch 14 in seconds:  4.338216781616211\n",
      "Iteration 0 , Loss:  1.9135413497809426\n",
      "Training accuracy:  0.2 ; Validation accuracy:  0.0\n",
      "Run time of interation 0 of epoch 15 in seconds:  4.125126838684082\n",
      "Iteration 0 , Loss:  1.490123395649059\n",
      "Training accuracy:  0.3 ; Validation accuracy:  0.0\n",
      "Run time of interation 0 of epoch 16 in seconds:  4.0191240310668945\n",
      "Iteration 0 , Loss:  1.779299198598204\n",
      "Training accuracy:  0.25 ; Validation accuracy:  0.5\n",
      "Run time of interation 0 of epoch 17 in seconds:  3.9658408164978027\n",
      "Iteration 0 , Loss:  1.4454972845602643\n",
      "Training accuracy:  0.3 ; Validation accuracy:  0.5\n",
      "Run time of interation 0 of epoch 18 in seconds:  3.916938066482544\n",
      "Iteration 0 , Loss:  1.3745748595450964\n",
      "Training accuracy:  0.4 ; Validation accuracy:  0.5\n",
      "Run time of interation 0 of epoch 19 in seconds:  3.9432780742645264\n",
      "Iteration 0 , Loss:  1.584453208936992\n",
      "Training accuracy:  0.5 ; Validation accuracy:  0.0\n",
      "Run time of interation 0 of epoch 20 in seconds:  3.918077230453491\n",
      "Iteration 0 , Loss:  1.4157538456726804\n",
      "Training accuracy:  0.5 ; Validation accuracy:  0.0\n",
      "Run time of interation 0 of epoch 21 in seconds:  3.8610599040985107\n",
      "Iteration 0 , Loss:  1.4852978834695238\n",
      "Training accuracy:  0.45 ; Validation accuracy:  0.0\n",
      "Run time of interation 0 of epoch 22 in seconds:  3.9405198097229004\n",
      "Iteration 0 , Loss:  1.3903442633793983\n",
      "Training accuracy:  0.55 ; Validation accuracy:  0.0\n",
      "Run time of interation 0 of epoch 23 in seconds:  3.9613027572631836\n",
      "Iteration 0 , Loss:  1.4982594405799319\n",
      "Training accuracy:  0.5 ; Validation accuracy:  0.0\n",
      "Run time of interation 0 of epoch 24 in seconds:  3.8631389141082764\n",
      "Iteration 0 , Loss:  1.5117773310405775\n",
      "Training accuracy:  0.55 ; Validation accuracy:  0.0\n",
      "Run time of interation 0 of epoch 25 in seconds:  3.9753329753875732\n",
      "Iteration 0 , Loss:  1.7417919506216704\n",
      "Training accuracy:  0.55 ; Validation accuracy:  0.0\n",
      "Run time of interation 0 of epoch 26 in seconds:  3.952054023742676\n",
      "Iteration 0 , Loss:  1.2008392670971961\n",
      "Training accuracy:  0.65 ; Validation accuracy:  0.0\n",
      "Run time of interation 0 of epoch 27 in seconds:  3.9420599937438965\n",
      "Iteration 0 , Loss:  1.099146531260251\n",
      "Training accuracy:  0.75 ; Validation accuracy:  0.0\n",
      "Run time of interation 0 of epoch 28 in seconds:  3.9540350437164307\n",
      "Iteration 0 , Loss:  0.8936707452195094\n",
      "Training accuracy:  0.5 ; Validation accuracy:  0.0\n",
      "Run time of interation 0 of epoch 29 in seconds:  3.951451063156128\n",
      "Iteration 0 , Loss:  2.495919886694977\n",
      "Training accuracy:  0.6 ; Validation accuracy:  0.0\n",
      "Run time of interation 0 of epoch 30 in seconds:  3.9105300903320312\n",
      "Iteration 0 , Loss:  1.3197030912371333\n",
      "Training accuracy:  0.4 ; Validation accuracy:  0.0\n",
      "Run time of interation 0 of epoch 31 in seconds:  4.116451025009155\n",
      "Iteration 0 , Loss:  1.7500919282501919\n",
      "Training accuracy:  0.4 ; Validation accuracy:  0.0\n",
      "Run time of interation 0 of epoch 32 in seconds:  3.96914005279541\n",
      "Iteration 0 , Loss:  1.5430287088306638\n",
      "Training accuracy:  0.75 ; Validation accuracy:  0.0\n",
      "Run time of interation 0 of epoch 33 in seconds:  4.444250106811523\n",
      "Iteration 0 , Loss:  1.0006561109413918\n",
      "Training accuracy:  0.6 ; Validation accuracy:  0.0\n",
      "Run time of interation 0 of epoch 34 in seconds:  4.143388986587524\n",
      "Iteration 0 , Loss:  1.1351997378723968\n",
      "Training accuracy:  0.6 ; Validation accuracy:  0.0\n",
      "Run time of interation 0 of epoch 35 in seconds:  4.275146007537842\n",
      "Iteration 0 , Loss:  1.5230107861725475\n",
      "Training accuracy:  0.6 ; Validation accuracy:  0.0\n",
      "Run time of interation 0 of epoch 36 in seconds:  4.480144262313843\n",
      "Iteration 0 , Loss:  0.7378577536979297\n",
      "Training accuracy:  0.7 ; Validation accuracy:  0.0\n",
      "Run time of interation 0 of epoch 37 in seconds:  3.977066993713379\n",
      "Iteration 0 , Loss:  0.8416764741899984\n",
      "Training accuracy:  0.85 ; Validation accuracy:  0.0\n",
      "Run time of interation 0 of epoch 38 in seconds:  4.746767044067383\n",
      "Iteration 0 , Loss:  0.6559468299632457\n",
      "Training accuracy:  0.85 ; Validation accuracy:  0.0\n",
      "Run time of interation 0 of epoch 39 in seconds:  4.334384202957153\n",
      "Iteration 0 , Loss:  0.695568622086048\n",
      "Training accuracy:  0.8 ; Validation accuracy:  0.0\n",
      "Run time of interation 0 of epoch 40 in seconds:  3.946924924850464\n",
      "Iteration 0 , Loss:  0.697270084030638\n",
      "Training accuracy:  0.8 ; Validation accuracy:  0.0\n",
      "Run time of interation 0 of epoch 41 in seconds:  4.4069108963012695\n",
      "Iteration 0 , Loss:  0.8880059924607486\n",
      "Training accuracy:  0.85 ; Validation accuracy:  0.0\n",
      "Run time of interation 0 of epoch 42 in seconds:  4.387243986129761\n",
      "Iteration 0 , Loss:  0.4331834647733977\n",
      "Training accuracy:  0.9 ; Validation accuracy:  0.0\n",
      "Run time of interation 0 of epoch 43 in seconds:  3.9759390354156494\n",
      "Iteration 0 , Loss:  0.34383521928593236\n",
      "Training accuracy:  0.95 ; Validation accuracy:  0.0\n",
      "Run time of interation 0 of epoch 44 in seconds:  4.506562948226929\n",
      "Iteration 0 , Loss:  0.2604503044331629\n",
      "Training accuracy:  0.95 ; Validation accuracy:  0.0\n",
      "Run time of interation 0 of epoch 45 in seconds:  4.214464902877808\n",
      "Iteration 0 , Loss:  0.0857198221477668\n",
      "Training accuracy:  0.95 ; Validation accuracy:  0.0\n",
      "Run time of interation 0 of epoch 46 in seconds:  4.071519136428833\n",
      "Iteration 0 , Loss:  0.35849270834835967\n",
      "Training accuracy:  0.9 ; Validation accuracy:  0.0\n",
      "Run time of interation 0 of epoch 47 in seconds:  3.899195909500122\n",
      "Iteration 0 , Loss:  0.13686571370615286\n",
      "Training accuracy:  1.0 ; Validation accuracy:  0.0\n",
      "Run time of interation 0 of epoch 48 in seconds:  4.345185995101929\n",
      "Iteration 0 , Loss:  0.05906478482730986\n",
      "Training accuracy:  1.0 ; Validation accuracy:  0.0\n",
      "Run time of interation 0 of epoch 49 in seconds:  4.077985048294067\n",
      "Total training time in seconds:  361.0320336818695\n"
     ]
    }
   ],
   "source": [
    "# SGD-M\n",
    "\n",
    "# Compilet net2 with SGD-M optimizer\n",
    "net2 = ConvNet4(input_shape=(3, 16, 16), n_classes=10, wt_scale=1e-2, verbose=False)\n",
    "net2.compile(optimizer_name='sgd_momentum', lr=1e-2)\n",
    "\n",
    "loss_sgd_m, accuracy_sgd_m, val_acc_sgd_m = net2.fit(x_dev, y_dev, x_val, y_val, mini_batch_sz = 15, n_epochs=50, acc_freq=2, print_every=6)"
   ]
  },
  {
   "cell_type": "code",
   "execution_count": 52,
   "metadata": {},
   "outputs": [
    {
     "name": "stdout",
     "output_type": "stream",
     "text": [
      "100 50 50\n"
     ]
    }
   ],
   "source": [
    "print(len(loss_sgd_m), len(accuracy_sgd_m), len(val_acc_sgd_m))"
   ]
  },
  {
   "cell_type": "code",
   "execution_count": 53,
   "metadata": {
    "deletable": false,
    "nbgrader": {
     "cell_type": "code",
     "checksum": "fa0a8590132bd1be35f8a3267375580e",
     "grade": false,
     "grade_id": "cell-90cb424c34e3ed33",
     "locked": false,
     "schema_version": 3,
     "solution": true,
     "task": false
    }
   },
   "outputs": [
    {
     "name": "stdout",
     "output_type": "stream",
     "text": [
      "In each epoch, the number of iterations is 2\n",
      "acc_frq is 2\n",
      "Iteration 0 , Loss:  2.305274969832203\n",
      "Training accuracy:  0.15 ; Validation accuracy:  0.0\n",
      "Run time of interation 0 of epoch 0 in seconds:  3.99926495552063\n",
      "Iteration 0 , Loss:  2.308358155352083\n",
      "Training accuracy:  0.2 ; Validation accuracy:  0.5\n",
      "Run time of interation 0 of epoch 1 in seconds:  4.1180100440979\n",
      "Iteration 0 , Loss:  2.3055991200581354\n",
      "Training accuracy:  0.25 ; Validation accuracy:  0.5\n",
      "Run time of interation 0 of epoch 2 in seconds:  4.133681774139404\n",
      "Iteration 0 , Loss:  2.2982539649676528\n",
      "Training accuracy:  0.25 ; Validation accuracy:  0.5\n",
      "Run time of interation 0 of epoch 3 in seconds:  4.727672100067139\n",
      "Iteration 0 , Loss:  2.2917218537191593\n",
      "Training accuracy:  0.25 ; Validation accuracy:  0.5\n",
      "Run time of interation 0 of epoch 4 in seconds:  4.231332778930664\n",
      "Iteration 0 , Loss:  2.3008996550461966\n",
      "Training accuracy:  0.25 ; Validation accuracy:  0.5\n",
      "Run time of interation 0 of epoch 5 in seconds:  4.117012023925781\n",
      "Iteration 0 , Loss:  2.3002742676157784\n",
      "Training accuracy:  0.25 ; Validation accuracy:  0.5\n",
      "Run time of interation 0 of epoch 6 in seconds:  3.9750289916992188\n",
      "Iteration 0 , Loss:  2.2982003825830932\n",
      "Training accuracy:  0.25 ; Validation accuracy:  0.5\n",
      "Run time of interation 0 of epoch 7 in seconds:  3.9684698581695557\n",
      "Iteration 0 , Loss:  2.2819684551164325\n",
      "Training accuracy:  0.25 ; Validation accuracy:  0.5\n",
      "Run time of interation 0 of epoch 8 in seconds:  3.9904110431671143\n",
      "Iteration 0 , Loss:  2.287453423709313\n",
      "Training accuracy:  0.25 ; Validation accuracy:  0.5\n",
      "Run time of interation 0 of epoch 9 in seconds:  4.022437810897827\n",
      "Iteration 0 , Loss:  2.2959134990540933\n",
      "Training accuracy:  0.25 ; Validation accuracy:  0.5\n",
      "Run time of interation 0 of epoch 10 in seconds:  3.9586470127105713\n",
      "Iteration 0 , Loss:  2.2745000984747614\n",
      "Training accuracy:  0.25 ; Validation accuracy:  0.5\n",
      "Run time of interation 0 of epoch 11 in seconds:  3.9468061923980713\n",
      "Iteration 0 , Loss:  2.2922833852153746\n",
      "Training accuracy:  0.25 ; Validation accuracy:  0.5\n",
      "Run time of interation 0 of epoch 12 in seconds:  4.022433042526245\n",
      "Iteration 0 , Loss:  2.2824000550485812\n",
      "Training accuracy:  0.25 ; Validation accuracy:  0.5\n",
      "Run time of interation 0 of epoch 13 in seconds:  4.0239739418029785\n",
      "Iteration 0 , Loss:  2.2718787925616204\n",
      "Training accuracy:  0.25 ; Validation accuracy:  0.5\n",
      "Run time of interation 0 of epoch 14 in seconds:  3.9869260787963867\n",
      "Iteration 0 , Loss:  2.293632837414105\n",
      "Training accuracy:  0.25 ; Validation accuracy:  0.5\n",
      "Run time of interation 0 of epoch 15 in seconds:  3.992551326751709\n",
      "Iteration 0 , Loss:  2.270042121098398\n",
      "Training accuracy:  0.25 ; Validation accuracy:  0.5\n",
      "Run time of interation 0 of epoch 16 in seconds:  3.915282964706421\n",
      "Iteration 0 , Loss:  2.2720695105351036\n",
      "Training accuracy:  0.25 ; Validation accuracy:  0.5\n",
      "Run time of interation 0 of epoch 17 in seconds:  4.0455169677734375\n",
      "Iteration 0 , Loss:  2.2701130479885006\n",
      "Training accuracy:  0.25 ; Validation accuracy:  0.5\n",
      "Run time of interation 0 of epoch 18 in seconds:  4.3440260887146\n",
      "Iteration 0 , Loss:  2.260981725927617\n",
      "Training accuracy:  0.25 ; Validation accuracy:  0.5\n",
      "Run time of interation 0 of epoch 19 in seconds:  4.532433986663818\n",
      "Iteration 0 , Loss:  2.2647792801682476\n",
      "Training accuracy:  0.25 ; Validation accuracy:  0.5\n",
      "Run time of interation 0 of epoch 20 in seconds:  3.9446699619293213\n",
      "Iteration 0 , Loss:  2.281771099850126\n",
      "Training accuracy:  0.25 ; Validation accuracy:  0.5\n",
      "Run time of interation 0 of epoch 21 in seconds:  3.942564010620117\n",
      "Iteration 0 , Loss:  2.2469238663883226\n",
      "Training accuracy:  0.25 ; Validation accuracy:  0.5\n",
      "Run time of interation 0 of epoch 22 in seconds:  3.9182636737823486\n",
      "Iteration 0 , Loss:  2.255061671852889\n",
      "Training accuracy:  0.25 ; Validation accuracy:  0.5\n",
      "Run time of interation 0 of epoch 23 in seconds:  3.949993133544922\n",
      "Iteration 0 , Loss:  2.263199595471051\n",
      "Training accuracy:  0.25 ; Validation accuracy:  0.5\n",
      "Run time of interation 0 of epoch 24 in seconds:  3.940480947494507\n",
      "Iteration 0 , Loss:  2.2496652227907252\n",
      "Training accuracy:  0.25 ; Validation accuracy:  0.5\n",
      "Run time of interation 0 of epoch 25 in seconds:  3.992263078689575\n",
      "Iteration 0 , Loss:  2.2675040161674973\n",
      "Training accuracy:  0.25 ; Validation accuracy:  0.5\n",
      "Run time of interation 0 of epoch 26 in seconds:  4.0596678256988525\n",
      "Iteration 0 , Loss:  2.25109088935404\n",
      "Training accuracy:  0.25 ; Validation accuracy:  0.5\n",
      "Run time of interation 0 of epoch 27 in seconds:  4.260047197341919\n",
      "Iteration 0 , Loss:  2.22754191577306\n",
      "Training accuracy:  0.25 ; Validation accuracy:  0.5\n",
      "Run time of interation 0 of epoch 28 in seconds:  4.033348083496094\n",
      "Iteration 0 , Loss:  2.2612487670418138\n",
      "Training accuracy:  0.25 ; Validation accuracy:  0.5\n",
      "Run time of interation 0 of epoch 29 in seconds:  3.9485459327697754\n",
      "Iteration 0 , Loss:  2.246579934832591\n",
      "Training accuracy:  0.25 ; Validation accuracy:  0.5\n",
      "Run time of interation 0 of epoch 30 in seconds:  4.109785079956055\n",
      "Iteration 0 , Loss:  2.262273614839488\n",
      "Training accuracy:  0.25 ; Validation accuracy:  0.5\n",
      "Run time of interation 0 of epoch 31 in seconds:  4.118490219116211\n",
      "Iteration 0 , Loss:  2.243671928377832\n",
      "Training accuracy:  0.25 ; Validation accuracy:  0.5\n",
      "Run time of interation 0 of epoch 32 in seconds:  3.9682397842407227\n",
      "Iteration 0 , Loss:  2.2330739251449887\n",
      "Training accuracy:  0.25 ; Validation accuracy:  0.5\n",
      "Run time of interation 0 of epoch 33 in seconds:  4.172811031341553\n",
      "Iteration 0 , Loss:  2.2063764025383605\n",
      "Training accuracy:  0.25 ; Validation accuracy:  0.5\n",
      "Run time of interation 0 of epoch 34 in seconds:  3.9699299335479736\n",
      "Iteration 0 , Loss:  2.212648468277213\n",
      "Training accuracy:  0.25 ; Validation accuracy:  0.5\n",
      "Run time of interation 0 of epoch 35 in seconds:  4.022469997406006\n",
      "Iteration 0 , Loss:  2.2442956071751623\n",
      "Training accuracy:  0.25 ; Validation accuracy:  0.5\n",
      "Run time of interation 0 of epoch 36 in seconds:  4.011655807495117\n",
      "Iteration 0 , Loss:  2.211715465878768\n",
      "Training accuracy:  0.25 ; Validation accuracy:  0.5\n",
      "Run time of interation 0 of epoch 37 in seconds:  3.927856922149658\n",
      "Iteration 0 , Loss:  2.2357990972141115\n",
      "Training accuracy:  0.25 ; Validation accuracy:  0.5\n",
      "Run time of interation 0 of epoch 38 in seconds:  3.9876201152801514\n",
      "Iteration 0 , Loss:  2.1993355077700927\n",
      "Training accuracy:  0.25 ; Validation accuracy:  0.5\n",
      "Run time of interation 0 of epoch 39 in seconds:  3.9925730228424072\n",
      "Iteration 0 , Loss:  2.182847374323187\n",
      "Training accuracy:  0.25 ; Validation accuracy:  0.5\n",
      "Run time of interation 0 of epoch 40 in seconds:  4.050693035125732\n",
      "Iteration 0 , Loss:  2.1667495806147907\n",
      "Training accuracy:  0.25 ; Validation accuracy:  0.5\n",
      "Run time of interation 0 of epoch 41 in seconds:  4.180912971496582\n",
      "Iteration 0 , Loss:  2.19259681632573\n",
      "Training accuracy:  0.25 ; Validation accuracy:  0.5\n",
      "Run time of interation 0 of epoch 42 in seconds:  4.050846099853516\n",
      "Iteration 0 , Loss:  2.23577824927351\n",
      "Training accuracy:  0.25 ; Validation accuracy:  0.5\n",
      "Run time of interation 0 of epoch 43 in seconds:  4.012781143188477\n",
      "Iteration 0 , Loss:  2.0957812995263474\n",
      "Training accuracy:  0.25 ; Validation accuracy:  0.5\n",
      "Run time of interation 0 of epoch 44 in seconds:  4.308028936386108\n",
      "Iteration 0 , Loss:  2.1111941487247647\n",
      "Training accuracy:  0.25 ; Validation accuracy:  0.5\n",
      "Run time of interation 0 of epoch 45 in seconds:  4.2194578647613525\n",
      "Iteration 0 , Loss:  2.155942677375249\n",
      "Training accuracy:  0.25 ; Validation accuracy:  0.5\n",
      "Run time of interation 0 of epoch 46 in seconds:  4.003841876983643\n",
      "Iteration 0 , Loss:  2.058452743024582\n",
      "Training accuracy:  0.25 ; Validation accuracy:  0.5\n",
      "Run time of interation 0 of epoch 47 in seconds:  5.545742988586426\n",
      "Iteration 0 , Loss:  2.105709378193678\n",
      "Training accuracy:  0.25 ; Validation accuracy:  0.5\n",
      "Run time of interation 0 of epoch 48 in seconds:  5.036729097366333\n",
      "Iteration 0 , Loss:  2.09657536847232\n",
      "Training accuracy:  0.25 ; Validation accuracy:  0.5\n",
      "Run time of interation 0 of epoch 49 in seconds:  4.070549964904785\n",
      "Total training time in seconds:  316.5101170539856\n"
     ]
    }
   ],
   "source": [
    "# SGD\n",
    "\n",
    "# Compilet net3 with SGD optimizer\n",
    "net3 = ConvNet4(input_shape=(3, 16, 16), n_classes=10, wt_scale=1e-2, verbose=False)\n",
    "net3.compile(optimizer_name='sgd', lr=1e-2)\n",
    "loss_sgd, accuracy_sgd, validation_acc_history_sgd = net3.fit(x_dev, y_dev, x_val, y_val, mini_batch_sz = 15, n_epochs=50, acc_freq=2, print_every=6)"
   ]
  },
  {
   "cell_type": "code",
   "execution_count": 54,
   "metadata": {},
   "outputs": [
    {
     "name": "stdout",
     "output_type": "stream",
     "text": [
      "100 50 50\n"
     ]
    }
   ],
   "source": [
    "print(len(loss_sgd), len(accuracy_sgd), len(validation_acc_history_sgd))"
   ]
  },
  {
   "cell_type": "markdown",
   "metadata": {},
   "source": [
    "### 7d. Evaluate and plot the different optimizer results\n",
    "\n",
    "Make 2 \"high quality\" plots showing the following\n",
    "\n",
    "- Plot the accuracy (y axis) for the three optimizers as a function of training epoch (x axis).\n",
    "- Plot the loss (y axis) for the three optimizers as a function of training iteration (x axis).\n",
    "\n",
    "A high quality plot consists of:\n",
    "- A useful title\n",
    "- X and Y axis labels\n",
    "- A legend"
   ]
  },
  {
   "cell_type": "code",
   "execution_count": 58,
   "metadata": {
    "deletable": false,
    "nbgrader": {
     "cell_type": "code",
     "checksum": "4d845385843185a61360d1315926f50b",
     "grade": false,
     "grade_id": "cell-e5fbccce38137bc5",
     "locked": false,
     "schema_version": 3,
     "solution": true,
     "task": false
    }
   },
   "outputs": [
    {
     "data": {
      "text/plain": [
       "<matplotlib.legend.Legend at 0x116b33c50>"
      ]
     },
     "execution_count": 58,
     "metadata": {},
     "output_type": "execute_result"
    },
    {
     "data": {
      "image/png": "[encoded data removed]",
      "text/plain": [
       "<Figure size 1000x600 with 1 Axes>"
      ]
     },
     "metadata": {},
     "output_type": "display_data"
    }
   ],
   "source": [
    "# Plot loss\n",
    "plt.figure(figsize=(10, 6))\n",
    "plt.plot(loss_history_adam, label='Adam')\n",
    "plt.plot(loss_sgd_m, label='SGD-M')\n",
    "plt.plot(loss_sgd, label='SGD')\n",
    "plt.xlabel('Iteration')\n",
    "plt.ylabel('Loss')\n",
    "plt.title('Training Loss vs. Epoch')\n",
    "plt.legend()\n",
    "    "
   ]
  },
  {
   "cell_type": "code",
   "execution_count": 60,
   "metadata": {
    "deletable": false,
    "nbgrader": {
     "cell_type": "code",
     "checksum": "56644ae283448afd534e2c5601ba6c3f",
     "grade": false,
     "grade_id": "cell-e823467d4ec00fe4",
     "locked": false,
     "schema_version": 3,
     "solution": true,
     "task": false
    }
   },
   "outputs": [
    {
     "data": {
      "image/png": "[encoded data removed]",
      "text/plain": [
       "<Figure size 1000x600 with 1 Axes>"
      ]
     },
     "metadata": {},
     "output_type": "display_data"
    }
   ],
   "source": [
    "# Plot accuracy\n",
    "plt.figure(figsize=(10, 6))\n",
    "plt.plot(val_acc_adam, label='Adam')\n",
    "plt.plot(val_acc_sgd_m, label='SGD-M')\n",
    "plt.plot(validation_acc_history_sgd, label='SGD')\n",
    "plt.xlabel('Epoch')\n",
    "plt.ylabel('Accuracy')\n",
    "plt.title('Accuracy vs. Epoch')\n",
    "plt.legend()\n",
    "\n",
    "plt.tight_layout()\n",
    "plt.show()"
   ]
  },
  {
   "cell_type": "markdown",
   "metadata": {},
   "source": [
    "### 7e. Questions"
   ]
  },
  {
   "cell_type": "markdown",
   "metadata": {},
   "source": [
    "**Question 4**: Why does decreasing the mini-batch size make the loss print-outs more erratic in Task 7c?\n",
    "\n",
    "**Question 5**: Which optimizer works best and why do think it is best?\n",
    "\n",
    "**Question 6**: What is happening with the training set accuracy and why?"
   ]
  },
  {
   "cell_type": "markdown",
   "metadata": {},
   "source": [
    "**Answer 4:**"
   ]
  },
  {
   "cell_type": "markdown",
   "metadata": {
    "deletable": false,
    "nbgrader": {
     "cell_type": "markdown",
     "checksum": "16dcdbbe1266aa10d4ff638e9e705161",
     "grade": true,
     "grade_id": "cell-9f9ba3536af4d0cd",
     "locked": false,
     "points": 0,
     "schema_version": 3,
     "solution": true,
     "task": false
    }
   },
   "source": [
    "With a smaller mini-batch, each batch contains fewer examples, making it less representative of the overall dataset. As a result, the gradient computed from this batch is more influenced by the specific examples in that batch and is less smooth."
   ]
  },
  {
   "cell_type": "markdown",
   "metadata": {},
   "source": [
    "\n",
    "**Answer 5:**"
   ]
  },
  {
   "cell_type": "markdown",
   "metadata": {
    "deletable": false,
    "nbgrader": {
     "cell_type": "markdown",
     "checksum": "8710378c5d4a9ead75328b79616f34d5",
     "grade": true,
     "grade_id": "cell-48e1c48299cccfba",
     "locked": false,
     "points": 0,
     "schema_version": 3,
     "solution": true,
     "task": false
    }
   },
   "source": [
    "Adam works best as it reaches loss around 0 the fastest, and then SGD_M, and then SGD is way slower. \n",
    "\n",
    "Is is because Adam djusts the learning rate for each parameter based on estimates of the first and second moments of the gradients. This allows it to adaptively handle different scales of updates, which can accelerate convergence. Adam combines the benefits of momentum (which smooths updates and helps with faster convergence) and SGD (which scales learning rates based on the recent magnitudes of gradients)"
   ]
  },
  {
   "cell_type": "markdown",
   "metadata": {},
   "source": [
    "\n",
    "**Answer 6:**"
   ]
  },
  {
   "cell_type": "markdown",
   "metadata": {
    "deletable": false,
    "nbgrader": {
     "cell_type": "markdown",
     "checksum": "6f1f2e8b523fdf4389a4d126ab95cf48",
     "grade": true,
     "grade_id": "cell-ecf9f33371ff2fca",
     "locked": false,
     "points": 0,
     "schema_version": 3,
     "solution": true,
     "task": false
    }
   },
   "source": [
    "The training set accuracy reaches almost 100%, meaning that the networks are overfitting the training set as the loss functions converge to 0. The training accuracy functions increase exponentially and then plateau, because the networks end up memorizing the dataset (as the dataset are too small and n_epochs is quite large) instead of learning the dataset patterns \n"
   ]
  },
  {
   "cell_type": "markdown",
   "metadata": {},
   "source": [
    "## Task 8: Training your convolutional neural network on STL-10"
   ]
  },
  {
   "cell_type": "markdown",
   "metadata": {},
   "source": [
    "### 8a. Load in STL-10 at 32x32 resolution"
   ]
  },
  {
   "cell_type": "code",
   "execution_count": 6,
   "metadata": {},
   "outputs": [
    {
     "name": "stdout",
     "output_type": "stream",
     "text": [
      "Images are: (5000, 96, 96, 3)\n",
      "Labels are: (5000,)\n",
      "Resizing 5000 images to 32x32...Done!\n",
      "Saving Numpy arrays the images and labels to ./numpy...Done!\n",
      "Train data shape:  (4398, 3, 32, 32)\n",
      "Train labels shape:  (4398,)\n",
      "Test data shape:  (400, 3, 32, 32)\n",
      "Test labels shape:  (400,)\n",
      "Validation data shape:  (200, 3, 32, 32)\n",
      "Validation labels shape:  (200,)\n",
      "dev data shape:  (2, 3, 32, 32)\n",
      "dev labels shape:  (2,)\n"
     ]
    }
   ],
   "source": [
    "# Download the STL-10 dataset from the internet, convert it to Numpy ndarray, resize to 16x16\n",
    "# cache it locally on your computer for faster loading next time.\n",
    "load_stl10_dataset.purge_cached_dataset()\n",
    "# preprocess and create splits\n",
    "x_train, y_train, x_test, y_test, x_val, y_val, x_dev, y_dev = preprocess_data.load_stl10(\n",
    "    n_train_samps=4398, n_test_samps=400, n_valid_samps=200, n_dev_samps=2, scale_fact=3)\n",
    "\n",
    "print ('Train data shape: ', x_train.shape)\n",
    "print ('Train labels shape: ', y_train.shape)\n",
    "print ('Test data shape: ', x_test.shape)\n",
    "print ('Test labels shape: ', y_test.shape)\n",
    "print ('Validation data shape: ', x_val.shape)\n",
    "print ('Validation labels shape: ', y_val.shape)\n",
    "print ('dev data shape: ', x_dev.shape)\n",
    "print ('dev labels shape: ', y_dev.shape)"
   ]
  },
  {
   "cell_type": "markdown",
   "metadata": {},
   "source": [
    "### 8b. Set up accelerated convolution and max pooling layers\n",
    "\n",
    "As you may have noticed, we had to downsize STL-10 to 16x16 resolution to train the network on the dev set (N=20) in a reasonable amount of time. The training set has N≅4000 samples, how will we ever manage to process that amount of data?!\n",
    "\n",
    "On one hand, this is an unfortunate inevitable reality of working with large (\"big\") datasets: you can easily find a dataset that is too time consuming to process for any computer, despite how fast/many CPU/GPUs it has.\n",
    "\n",
    "On the other hand, we can do better for this project and STL-10 :) If you were to time (profile) different parts of the training process, you'd notice that largest bottleneck is convolution and max pooling operations (both forward/backward). You implemented those operations intuitively, which does not always yield the best performance. **By swapping out forward/backward convolution and maxpooling for implementations that use different algorithms (im2col, reshaping) that are compiled to optimized machine code tailored for your computer using the JAX library, we will speed up training up by several orders of magnitude**. JAX should automatically \"max out\" all the CPU cores your computer has available to speed up training.\n",
    "\n",
    "Follow these steps to substitute in the \"accelerated\" convolution and max pooling layers.\n",
    "\n",
    "- Create a class called `Conv4NetAccel` in `network.py` by copy-pasting the contents of `Conv4Net`.\n",
    "- Import `accelerated_layer` at the top and replace the `Conv2D` and `MaxPooling2D` layers with `Conv2DAccel` and `MaxPooling2DAccel`."
   ]
  },
  {
   "cell_type": "markdown",
   "metadata": {},
   "source": [
    "### 8c. Training convolutional neural network on STL-10\n",
    "\n",
    "You are now ready to train on the entire training set.\n",
    "\n",
    "- Create a `Conv4NetAccel` object with hyperparameters of your choice.\n",
    "- Your goal is to achieve at least 45% accuracy on the test and/or validation set.\n",
    "\n",
    "#### Notes\n",
    "\n",
    "- I suggest using your intuition about hyperparameters and over/underfitting to guide your choice, rather than a grid search. This should not be overly challenging.\n",
    "- Use the best / most efficient optimizer based on your prior analysis.\n",
    "- It should take roughly 1 sec per training iteration. If that's way off, seek help as something could be wrong with running the acclerated code."
   ]
  },
  {
   "cell_type": "code",
   "execution_count": 3,
   "metadata": {},
   "outputs": [],
   "source": [
    "from network import ConvNet4Accel"
   ]
  },
  {
   "cell_type": "code",
   "execution_count": 42,
   "metadata": {
    "deletable": false,
    "nbgrader": {
     "cell_type": "code",
     "checksum": "67b5a69ba77a39e83f1a98613f51df03",
     "grade": false,
     "grade_id": "cell-ef006c949108630b",
     "locked": false,
     "schema_version": 3,
     "solution": true,
     "task": false
    }
   },
   "outputs": [
    {
     "name": "stdout",
     "output_type": "stream",
     "text": [
      "In each epoch, the number of iterations is 18\n",
      "acc_frq is 10\n",
      "Iteration 0 , Loss:  2.302441036332997\n",
      "Training accuracy:  0.09890859481582538 ; Validation accuracy:  0.12\n",
      "Run time of interation 0 of epoch 0 in seconds:  5.732512950897217\n",
      "Training accuracy:  0.23351523419736245 ; Validation accuracy:  0.21\n",
      "Iteration 0 , Loss:  1.971014908415817\n",
      "Training accuracy:  0.25261482492041837 ; Validation accuracy:  0.245\n",
      "Run time of interation 0 of epoch 1 in seconds:  5.460417985916138\n",
      "Training accuracy:  0.28831286948613005 ; Validation accuracy:  0.255\n",
      "Iteration 0 , Loss:  1.863689833902455\n",
      "Training accuracy:  0.3292405638926785 ; Validation accuracy:  0.27\n",
      "Run time of interation 0 of epoch 2 in seconds:  5.3206398487091064\n",
      "Training accuracy:  0.3494770350159163 ; Validation accuracy:  0.325\n",
      "Iteration 0 , Loss:  1.7030196854819994\n",
      "Training accuracy:  0.36653024101864484 ; Validation accuracy:  0.31\n",
      "Run time of interation 0 of epoch 3 in seconds:  5.484311819076538\n",
      "Training accuracy:  0.38472032742155526 ; Validation accuracy:  0.295\n",
      "Iteration 0 , Loss:  1.660804728706517\n",
      "Training accuracy:  0.4024556616643929 ; Validation accuracy:  0.35\n",
      "Run time of interation 0 of epoch 4 in seconds:  5.5390870571136475\n",
      "Training accuracy:  0.4195088676671214 ; Validation accuracy:  0.325\n",
      "Iteration 0 , Loss:  1.5468935566646094\n",
      "Training accuracy:  0.3967712596634834 ; Validation accuracy:  0.35\n",
      "Run time of interation 0 of epoch 5 in seconds:  5.714966058731079\n",
      "Training accuracy:  0.4183719872669395 ; Validation accuracy:  0.355\n",
      "Iteration 0 , Loss:  1.5123847722483137\n",
      "Training accuracy:  0.4495225102319236 ; Validation accuracy:  0.35\n",
      "Run time of interation 0 of epoch 6 in seconds:  5.8206467628479\n",
      "Training accuracy:  0.47430650295588905 ; Validation accuracy:  0.3\n",
      "Iteration 0 , Loss:  1.4208524286036077\n",
      "Training accuracy:  0.48249204183719874 ; Validation accuracy:  0.37\n",
      "Run time of interation 0 of epoch 7 in seconds:  6.028753995895386\n",
      "Training accuracy:  0.48931332423829016 ; Validation accuracy:  0.39\n",
      "Iteration 0 , Loss:  1.470658775052069\n",
      "Training accuracy:  0.4770350159163256 ; Validation accuracy:  0.335\n",
      "Run time of interation 0 of epoch 8 in seconds:  5.87923789024353\n",
      "Training accuracy:  0.5011368804001819 ; Validation accuracy:  0.395\n",
      "Iteration 0 , Loss:  1.3347168315522522\n",
      "Training accuracy:  0.5104592996816735 ; Validation accuracy:  0.36\n",
      "Run time of interation 0 of epoch 9 in seconds:  5.582135200500488\n",
      "Training accuracy:  0.5272851296043656 ; Validation accuracy:  0.385\n",
      "Iteration 0 , Loss:  1.2715027731916146\n",
      "Training accuracy:  0.5311505229649841 ; Validation accuracy:  0.385\n",
      "Run time of interation 0 of epoch 10 in seconds:  6.121741056442261\n",
      "Training accuracy:  0.5311505229649841 ; Validation accuracy:  0.4\n",
      "Iteration 0 , Loss:  1.3141583990184083\n",
      "Training accuracy:  0.5193269668030923 ; Validation accuracy:  0.365\n",
      "Run time of interation 0 of epoch 11 in seconds:  5.918575048446655\n",
      "Training accuracy:  0.5375170532060027 ; Validation accuracy:  0.36\n",
      "Iteration 0 , Loss:  1.2830817122848661\n",
      "Training accuracy:  0.5452478399272397 ; Validation accuracy:  0.36\n",
      "Run time of interation 0 of epoch 12 in seconds:  6.405900001525879\n",
      "Training accuracy:  0.5754888585720782 ; Validation accuracy:  0.35\n",
      "Iteration 0 , Loss:  1.1598186092203058\n",
      "Training accuracy:  0.577762619372442 ; Validation accuracy:  0.37\n",
      "Run time of interation 0 of epoch 13 in seconds:  5.963134050369263\n",
      "Training accuracy:  0.5704865848112779 ; Validation accuracy:  0.37\n",
      "Iteration 0 , Loss:  1.0724247583294515\n",
      "Training accuracy:  0.596862210095498 ; Validation accuracy:  0.36\n",
      "Run time of interation 0 of epoch 14 in seconds:  5.504857063293457\n",
      "Training accuracy:  0.5895861755343338 ; Validation accuracy:  0.405\n",
      "Iteration 0 , Loss:  1.0851854451567737\n",
      "Training accuracy:  0.6032287403365166 ; Validation accuracy:  0.34\n",
      "Run time of interation 0 of epoch 15 in seconds:  6.698586940765381\n",
      "Training accuracy:  0.6030013642564802 ; Validation accuracy:  0.38\n",
      "Iteration 0 , Loss:  1.1213597990417097\n",
      "Training accuracy:  0.6498408367439745 ; Validation accuracy:  0.37\n",
      "Run time of interation 0 of epoch 16 in seconds:  5.6490607261657715\n",
      "Training accuracy:  0.6568894952251023 ; Validation accuracy:  0.37\n",
      "Iteration 0 , Loss:  0.9823918853271945\n",
      "Training accuracy:  0.6591632560254661 ; Validation accuracy:  0.42\n",
      "Run time of interation 0 of epoch 17 in seconds:  5.8887939453125\n",
      "Training accuracy:  0.6384720327421555 ; Validation accuracy:  0.375\n",
      "Iteration 0 , Loss:  0.8984895120245294\n",
      "Training accuracy:  0.6600727603456117 ; Validation accuracy:  0.42\n",
      "Run time of interation 0 of epoch 18 in seconds:  5.968485116958618\n",
      "Training accuracy:  0.6916780354706685 ; Validation accuracy:  0.395\n",
      "Iteration 0 , Loss:  0.8719815740011594\n",
      "Training accuracy:  0.680081855388813 ; Validation accuracy:  0.405\n",
      "Run time of interation 0 of epoch 19 in seconds:  6.094475984573364\n",
      "Training accuracy:  0.7203274215552524 ; Validation accuracy:  0.37\n",
      "Iteration 0 , Loss:  0.7850313411224799\n",
      "Training accuracy:  0.685993633469759 ; Validation accuracy:  0.43\n",
      "Run time of interation 0 of epoch 20 in seconds:  5.887452125549316\n",
      "Training accuracy:  0.7032742155525239 ; Validation accuracy:  0.41\n",
      "Iteration 0 , Loss:  0.851804121697454\n",
      "Training accuracy:  0.7037289677125966 ; Validation accuracy:  0.35\n",
      "Run time of interation 0 of epoch 21 in seconds:  8.246654987335205\n",
      "Training accuracy:  0.7121418826739427 ; Validation accuracy:  0.375\n",
      "Iteration 0 , Loss:  0.6684773046623758\n",
      "Training accuracy:  0.7150977717144157 ; Validation accuracy:  0.385\n",
      "Run time of interation 0 of epoch 22 in seconds:  6.025291919708252\n",
      "Training accuracy:  0.734424738517508 ; Validation accuracy:  0.395\n",
      "Iteration 0 , Loss:  0.729902818513346\n",
      "Training accuracy:  0.773306048203729 ; Validation accuracy:  0.41\n",
      "Run time of interation 0 of epoch 23 in seconds:  5.712964057922363\n",
      "Training accuracy:  0.7496589358799455 ; Validation accuracy:  0.415\n",
      "Iteration 0 , Loss:  0.6712664057835479\n",
      "Training accuracy:  0.7789904502046384 ; Validation accuracy:  0.435\n",
      "Run time of interation 0 of epoch 24 in seconds:  5.4840943813323975\n",
      "Training accuracy:  0.7942246475670759 ; Validation accuracy:  0.41\n",
      "Iteration 0 , Loss:  0.6128336730027863\n",
      "Training accuracy:  0.776944065484311 ; Validation accuracy:  0.405\n",
      "Run time of interation 0 of epoch 25 in seconds:  5.536854982376099\n",
      "Training accuracy:  0.8112778535698044 ; Validation accuracy:  0.415\n",
      "Iteration 0 , Loss:  0.5645977593646166\n",
      "Training accuracy:  0.8308321964529332 ; Validation accuracy:  0.43\n",
      "Run time of interation 0 of epoch 26 in seconds:  5.4539549350738525\n",
      "Training accuracy:  0.8328785811732605 ; Validation accuracy:  0.4\n",
      "Iteration 0 , Loss:  0.5585669498415641\n",
      "Training accuracy:  0.8303774442928604 ; Validation accuracy:  0.375\n",
      "Run time of interation 0 of epoch 27 in seconds:  5.585218906402588\n",
      "Training accuracy:  0.8417462482946794 ; Validation accuracy:  0.415\n",
      "Iteration 0 , Loss:  0.4419485188407144\n",
      "Training accuracy:  0.8306048203728967 ; Validation accuracy:  0.42\n",
      "Run time of interation 0 of epoch 28 in seconds:  5.633527040481567\n",
      "Training accuracy:  0.8390177353342428 ; Validation accuracy:  0.395\n",
      "Iteration 0 , Loss:  0.4314673470964274\n",
      "Training accuracy:  0.8724420190995907 ; Validation accuracy:  0.42\n",
      "Run time of interation 0 of epoch 29 in seconds:  7.142916679382324\n",
      "Training accuracy:  0.845156889495225 ; Validation accuracy:  0.395\n",
      "Iteration 0 , Loss:  0.34354377005307996\n",
      "Training accuracy:  0.849931787175989 ; Validation accuracy:  0.405\n",
      "Run time of interation 0 of epoch 30 in seconds:  5.454692125320435\n",
      "Training accuracy:  0.8872214643019555 ; Validation accuracy:  0.405\n",
      "Iteration 0 , Loss:  0.35919306919888927\n",
      "Training accuracy:  0.8506139154160982 ; Validation accuracy:  0.4\n",
      "Run time of interation 0 of epoch 31 in seconds:  8.97831392288208\n",
      "Training accuracy:  0.9015461573442474 ; Validation accuracy:  0.435\n",
      "Iteration 0 , Loss:  0.345804723683795\n",
      "Training accuracy:  0.9142792178262846 ; Validation accuracy:  0.395\n",
      "Run time of interation 0 of epoch 32 in seconds:  10.977128028869629\n",
      "Training accuracy:  0.8985902683037744 ; Validation accuracy:  0.395\n",
      "Iteration 0 , Loss:  0.33343233283262014\n",
      "Training accuracy:  0.9165529786266485 ; Validation accuracy:  0.36\n",
      "Run time of interation 0 of epoch 33 in seconds:  47.11272311210632\n",
      "Training accuracy:  0.9090495679854479 ; Validation accuracy:  0.42\n",
      "Iteration 0 , Loss:  0.2539594165645387\n",
      "Training accuracy:  0.9183719872669395 ; Validation accuracy:  0.435\n",
      "Run time of interation 0 of epoch 34 in seconds:  80.0987958908081\n",
      "Training accuracy:  0.9340609367894498 ; Validation accuracy:  0.385\n",
      "Iteration 0 , Loss:  0.2601883704263858\n",
      "Training accuracy:  0.9379263301500682 ; Validation accuracy:  0.405\n",
      "Run time of interation 0 of epoch 35 in seconds:  7.022610902786255\n",
      "Training accuracy:  0.9486130059117781 ; Validation accuracy:  0.41\n",
      "Iteration 0 , Loss:  0.2701515500027397\n",
      "Training accuracy:  0.951568894952251 ; Validation accuracy:  0.41\n",
      "Run time of interation 0 of epoch 36 in seconds:  174.76862406730652\n",
      "Training accuracy:  0.9565711687130514 ; Validation accuracy:  0.415\n",
      "Iteration 0 , Loss:  0.21921440724757274\n",
      "Training accuracy:  0.9540700318326512 ; Validation accuracy:  0.395\n",
      "Run time of interation 0 of epoch 37 in seconds:  6.538743019104004\n",
      "Training accuracy:  0.9517962710322874 ; Validation accuracy:  0.385\n",
      "Iteration 0 , Loss:  0.18160776338700985\n",
      "Training accuracy:  0.9674852205547977 ; Validation accuracy:  0.415\n",
      "Run time of interation 0 of epoch 38 in seconds:  5.328391790390015\n",
      "Training accuracy:  0.972487494315598 ; Validation accuracy:  0.395\n",
      "Iteration 0 , Loss:  0.16357890264724362\n",
      "Training accuracy:  0.9679399727148704 ; Validation accuracy:  0.39\n",
      "Run time of interation 0 of epoch 39 in seconds:  5.23855996131897\n",
      "Training accuracy:  0.9722601182355616 ; Validation accuracy:  0.425\n",
      "Iteration 0 , Loss:  0.16226157033721791\n",
      "Training accuracy:  0.9733969986357435 ; Validation accuracy:  0.45\n",
      "Run time of interation 0 of epoch 40 in seconds:  5.2933361530303955\n",
      "Training accuracy:  0.9779445202364712 ; Validation accuracy:  0.415\n",
      "Iteration 0 , Loss:  0.1356505700499559\n",
      "Training accuracy:  0.9813551614370168 ; Validation accuracy:  0.425\n",
      "Run time of interation 0 of epoch 41 in seconds:  5.144937992095947\n",
      "Training accuracy:  0.9843110504774898 ; Validation accuracy:  0.41\n",
      "Iteration 0 , Loss:  0.12042263630628237\n",
      "Training accuracy:  0.9879490677580719 ; Validation accuracy:  0.43\n",
      "Run time of interation 0 of epoch 42 in seconds:  5.133771896362305\n",
      "Training accuracy:  0.9879490677580719 ; Validation accuracy:  0.395\n",
      "Iteration 0 , Loss:  0.08633515447548165\n",
      "Training accuracy:  0.9899954524783993 ; Validation accuracy:  0.41\n",
      "Run time of interation 0 of epoch 43 in seconds:  5.293744802474976\n",
      "Training accuracy:  0.9920418371987267 ; Validation accuracy:  0.43\n",
      "Iteration 0 , Loss:  0.07915795892050002\n",
      "Training accuracy:  0.9924965893587995 ; Validation accuracy:  0.41\n",
      "Run time of interation 0 of epoch 44 in seconds:  5.154651880264282\n",
      "Training accuracy:  0.9938608458390177 ; Validation accuracy:  0.435\n",
      "Iteration 0 , Loss:  0.122410287686621\n",
      "Training accuracy:  0.9920418371987267 ; Validation accuracy:  0.41\n",
      "Run time of interation 0 of epoch 45 in seconds:  5.256818056106567\n",
      "Training accuracy:  0.9920418371987267 ; Validation accuracy:  0.41\n",
      "Iteration 0 , Loss:  0.06778505912112709\n",
      "Training accuracy:  0.9931787175989086 ; Validation accuracy:  0.41\n",
      "Run time of interation 0 of epoch 46 in seconds:  5.537076950073242\n",
      "Training accuracy:  0.9961346066393816 ; Validation accuracy:  0.41\n",
      "Iteration 0 , Loss:  0.06438512242751675\n",
      "Training accuracy:  0.9949977262391997 ; Validation accuracy:  0.42\n",
      "Run time of interation 0 of epoch 47 in seconds:  6.205833911895752\n",
      "Training accuracy:  0.9965893587994543 ; Validation accuracy:  0.41\n",
      "Iteration 0 , Loss:  0.04974333164478227\n",
      "Training accuracy:  0.997044110959527 ; Validation accuracy:  0.415\n",
      "Run time of interation 0 of epoch 48 in seconds:  190.79210424423218\n",
      "Training accuracy:  0.9979536152796725 ; Validation accuracy:  0.42\n",
      "Iteration 0 , Loss:  0.040248732039455344\n",
      "Training accuracy:  0.9988631195998181 ; Validation accuracy:  0.415\n",
      "Run time of interation 0 of epoch 49 in seconds:  860.2718508243561\n",
      "Training accuracy:  0.9986357435197817 ; Validation accuracy:  0.415\n",
      "Iteration 0 , Loss:  0.043729663154730355\n",
      "Training accuracy:  0.9988631195998181 ; Validation accuracy:  0.385\n",
      "Run time of interation 0 of epoch 50 in seconds:  5.766664981842041\n",
      "Training accuracy:  0.9986357435197817 ; Validation accuracy:  0.415\n",
      "Iteration 0 , Loss:  0.03491916071565013\n",
      "Training accuracy:  0.9988631195998181 ; Validation accuracy:  0.42\n",
      "Run time of interation 0 of epoch 51 in seconds:  5.508141994476318\n",
      "Training accuracy:  0.9984083674397454 ; Validation accuracy:  0.425\n",
      "Iteration 0 , Loss:  0.031894142288306795\n",
      "Training accuracy:  0.9990904956798545 ; Validation accuracy:  0.42\n",
      "Run time of interation 0 of epoch 52 in seconds:  1076.77086186409\n",
      "Training accuracy:  0.9997726239199636 ; Validation accuracy:  0.405\n",
      "Iteration 0 , Loss:  0.02992190662386172\n",
      "Training accuracy:  0.9997726239199636 ; Validation accuracy:  0.405\n",
      "Run time of interation 0 of epoch 53 in seconds:  5.687411069869995\n",
      "Training accuracy:  0.9997726239199636 ; Validation accuracy:  0.41\n",
      "Iteration 0 , Loss:  0.025798132386015225\n",
      "Training accuracy:  0.9997726239199636 ; Validation accuracy:  0.415\n",
      "Run time of interation 0 of epoch 54 in seconds:  5.642714977264404\n",
      "Training accuracy:  0.9997726239199636 ; Validation accuracy:  0.41\n",
      "Iteration 0 , Loss:  0.023452758527461946\n",
      "Training accuracy:  0.9997726239199636 ; Validation accuracy:  0.415\n",
      "Run time of interation 0 of epoch 55 in seconds:  5.025638818740845\n",
      "Training accuracy:  0.9997726239199636 ; Validation accuracy:  0.425\n",
      "Iteration 0 , Loss:  0.01742750488103648\n",
      "Training accuracy:  0.9997726239199636 ; Validation accuracy:  0.41\n",
      "Run time of interation 0 of epoch 56 in seconds:  5.554457187652588\n",
      "Training accuracy:  0.9997726239199636 ; Validation accuracy:  0.42\n",
      "Iteration 0 , Loss:  0.018517119409615625\n",
      "Training accuracy:  0.9995452478399273 ; Validation accuracy:  0.415\n",
      "Run time of interation 0 of epoch 57 in seconds:  5.141150951385498\n",
      "Training accuracy:  0.9997726239199636 ; Validation accuracy:  0.42\n",
      "Iteration 0 , Loss:  0.01789057428653832\n",
      "Training accuracy:  0.9997726239199636 ; Validation accuracy:  0.425\n",
      "Run time of interation 0 of epoch 58 in seconds:  5.171660661697388\n",
      "Training accuracy:  0.9997726239199636 ; Validation accuracy:  0.42\n",
      "Iteration 0 , Loss:  0.016782325850549982\n",
      "Training accuracy:  1.0 ; Validation accuracy:  0.42\n",
      "Run time of interation 0 of epoch 59 in seconds:  775.22718501091\n",
      "Training accuracy:  1.0 ; Validation accuracy:  0.42\n",
      "Iteration 0 , Loss:  0.01546182074038072\n",
      "Training accuracy:  1.0 ; Validation accuracy:  0.41\n",
      "Run time of interation 0 of epoch 60 in seconds:  535.6866738796234\n",
      "Training accuracy:  1.0 ; Validation accuracy:  0.425\n",
      "Iteration 0 , Loss:  0.015225408613673972\n",
      "Training accuracy:  1.0 ; Validation accuracy:  0.41\n",
      "Run time of interation 0 of epoch 61 in seconds:  425.97780299186707\n",
      "Training accuracy:  1.0 ; Validation accuracy:  0.41\n",
      "Iteration 0 , Loss:  0.013980444371740806\n",
      "Training accuracy:  1.0 ; Validation accuracy:  0.42\n",
      "Run time of interation 0 of epoch 62 in seconds:  5.61706805229187\n",
      "Training accuracy:  1.0 ; Validation accuracy:  0.41\n",
      "Iteration 0 , Loss:  0.011496487977719249\n",
      "Training accuracy:  1.0 ; Validation accuracy:  0.41\n",
      "Run time of interation 0 of epoch 63 in seconds:  6.015598773956299\n",
      "Training accuracy:  1.0 ; Validation accuracy:  0.415\n",
      "Iteration 0 , Loss:  0.011781330308874275\n",
      "Training accuracy:  1.0 ; Validation accuracy:  0.405\n",
      "Run time of interation 0 of epoch 64 in seconds:  6.494442939758301\n",
      "Training accuracy:  1.0 ; Validation accuracy:  0.405\n",
      "Iteration 0 , Loss:  0.010613922547359924\n",
      "Training accuracy:  1.0 ; Validation accuracy:  0.405\n",
      "Run time of interation 0 of epoch 65 in seconds:  5.679430961608887\n",
      "Training accuracy:  1.0 ; Validation accuracy:  0.425\n",
      "Iteration 0 , Loss:  0.009574468100484054\n",
      "Training accuracy:  1.0 ; Validation accuracy:  0.415\n",
      "Run time of interation 0 of epoch 66 in seconds:  6.014561176300049\n",
      "Training accuracy:  1.0 ; Validation accuracy:  0.42\n",
      "Iteration 0 , Loss:  0.009747043917914726\n",
      "Training accuracy:  1.0 ; Validation accuracy:  0.425\n",
      "Run time of interation 0 of epoch 67 in seconds:  5.764679193496704\n",
      "Training accuracy:  1.0 ; Validation accuracy:  0.41\n",
      "Iteration 0 , Loss:  0.00818242420018795\n",
      "Training accuracy:  1.0 ; Validation accuracy:  0.42\n",
      "Run time of interation 0 of epoch 68 in seconds:  5.786093711853027\n",
      "Training accuracy:  1.0 ; Validation accuracy:  0.415\n",
      "Iteration 0 , Loss:  0.008623885998920703\n",
      "Training accuracy:  1.0 ; Validation accuracy:  0.435\n",
      "Run time of interation 0 of epoch 69 in seconds:  5.499297142028809\n",
      "Training accuracy:  1.0 ; Validation accuracy:  0.425\n",
      "Iteration 0 , Loss:  0.009071181461760561\n",
      "Training accuracy:  1.0 ; Validation accuracy:  0.41\n",
      "Run time of interation 0 of epoch 70 in seconds:  5.857835054397583\n",
      "Training accuracy:  1.0 ; Validation accuracy:  0.415\n",
      "Iteration 0 , Loss:  0.007311282608443483\n",
      "Training accuracy:  1.0 ; Validation accuracy:  0.405\n",
      "Run time of interation 0 of epoch 71 in seconds:  8.001604080200195\n",
      "Training accuracy:  1.0 ; Validation accuracy:  0.42\n",
      "Iteration 0 , Loss:  0.008086350652082975\n",
      "Training accuracy:  1.0 ; Validation accuracy:  0.415\n",
      "Run time of interation 0 of epoch 72 in seconds:  6.350006818771362\n",
      "Training accuracy:  1.0 ; Validation accuracy:  0.41\n",
      "Iteration 0 , Loss:  0.00786381073425503\n",
      "Training accuracy:  1.0 ; Validation accuracy:  0.42\n",
      "Run time of interation 0 of epoch 73 in seconds:  5.540550947189331\n",
      "Training accuracy:  1.0 ; Validation accuracy:  0.425\n",
      "Iteration 0 , Loss:  0.006676500900710914\n",
      "Training accuracy:  1.0 ; Validation accuracy:  0.42\n",
      "Run time of interation 0 of epoch 74 in seconds:  6.306208848953247\n",
      "Training accuracy:  1.0 ; Validation accuracy:  0.41\n",
      "Iteration 0 , Loss:  0.005883139668572168\n",
      "Training accuracy:  1.0 ; Validation accuracy:  0.415\n",
      "Run time of interation 0 of epoch 75 in seconds:  6.428671836853027\n",
      "Training accuracy:  1.0 ; Validation accuracy:  0.415\n",
      "Iteration 0 , Loss:  0.004981898125201651\n",
      "Training accuracy:  1.0 ; Validation accuracy:  0.415\n",
      "Run time of interation 0 of epoch 76 in seconds:  5.867375135421753\n",
      "Training accuracy:  1.0 ; Validation accuracy:  0.41\n",
      "Iteration 0 , Loss:  0.006172036883630813\n",
      "Training accuracy:  1.0 ; Validation accuracy:  0.41\n",
      "Run time of interation 0 of epoch 77 in seconds:  5.930647611618042\n",
      "Training accuracy:  1.0 ; Validation accuracy:  0.43\n",
      "Iteration 0 , Loss:  0.005451826000743903\n",
      "Training accuracy:  1.0 ; Validation accuracy:  0.415\n",
      "Run time of interation 0 of epoch 78 in seconds:  5.628551721572876\n",
      "Training accuracy:  1.0 ; Validation accuracy:  0.405\n",
      "Iteration 0 , Loss:  0.006303310712867013\n",
      "Training accuracy:  1.0 ; Validation accuracy:  0.405\n",
      "Run time of interation 0 of epoch 79 in seconds:  5.677865266799927\n",
      "Training accuracy:  1.0 ; Validation accuracy:  0.42\n",
      "Iteration 0 , Loss:  0.004664777049854874\n",
      "Training accuracy:  1.0 ; Validation accuracy:  0.39\n",
      "Run time of interation 0 of epoch 80 in seconds:  5.870030164718628\n",
      "Training accuracy:  1.0 ; Validation accuracy:  0.42\n",
      "Iteration 0 , Loss:  0.0055748902865584635\n",
      "Training accuracy:  1.0 ; Validation accuracy:  0.4\n",
      "Run time of interation 0 of epoch 81 in seconds:  5.812420129776001\n",
      "Training accuracy:  1.0 ; Validation accuracy:  0.42\n",
      "Iteration 0 , Loss:  0.004637934368518992\n",
      "Training accuracy:  1.0 ; Validation accuracy:  0.41\n",
      "Run time of interation 0 of epoch 82 in seconds:  5.847707033157349\n",
      "Training accuracy:  1.0 ; Validation accuracy:  0.42\n",
      "Iteration 0 , Loss:  0.004076004285360849\n",
      "Training accuracy:  1.0 ; Validation accuracy:  0.41\n",
      "Run time of interation 0 of epoch 83 in seconds:  5.629380702972412\n",
      "Training accuracy:  1.0 ; Validation accuracy:  0.395\n",
      "Iteration 0 , Loss:  0.0042873593716855705\n",
      "Training accuracy:  1.0 ; Validation accuracy:  0.425\n",
      "Run time of interation 0 of epoch 84 in seconds:  5.5728960037231445\n",
      "Training accuracy:  1.0 ; Validation accuracy:  0.41\n",
      "Iteration 0 , Loss:  0.0047223423448996184\n",
      "Training accuracy:  1.0 ; Validation accuracy:  0.4\n",
      "Run time of interation 0 of epoch 85 in seconds:  5.889519929885864\n",
      "Training accuracy:  1.0 ; Validation accuracy:  0.41\n",
      "Iteration 0 , Loss:  0.004500805472473916\n",
      "Training accuracy:  1.0 ; Validation accuracy:  0.41\n",
      "Run time of interation 0 of epoch 86 in seconds:  5.937501907348633\n",
      "Training accuracy:  1.0 ; Validation accuracy:  0.405\n",
      "Iteration 0 , Loss:  0.004168138500419387\n",
      "Training accuracy:  1.0 ; Validation accuracy:  0.41\n",
      "Run time of interation 0 of epoch 87 in seconds:  5.679040908813477\n",
      "Training accuracy:  1.0 ; Validation accuracy:  0.415\n",
      "Iteration 0 , Loss:  0.0039010188952982076\n",
      "Training accuracy:  1.0 ; Validation accuracy:  0.4\n",
      "Run time of interation 0 of epoch 88 in seconds:  5.6396801471710205\n",
      "Training accuracy:  1.0 ; Validation accuracy:  0.415\n",
      "Iteration 0 , Loss:  0.004445641086264331\n",
      "Training accuracy:  1.0 ; Validation accuracy:  0.39\n",
      "Run time of interation 0 of epoch 89 in seconds:  5.910769939422607\n",
      "Training accuracy:  1.0 ; Validation accuracy:  0.42\n",
      "Iteration 0 , Loss:  0.0032024876834160568\n",
      "Training accuracy:  1.0 ; Validation accuracy:  0.4\n",
      "Run time of interation 0 of epoch 90 in seconds:  5.528254985809326\n",
      "Training accuracy:  1.0 ; Validation accuracy:  0.41\n",
      "Iteration 0 , Loss:  0.0034467270537276726\n",
      "Training accuracy:  1.0 ; Validation accuracy:  0.41\n",
      "Run time of interation 0 of epoch 91 in seconds:  5.498247861862183\n",
      "Training accuracy:  1.0 ; Validation accuracy:  0.415\n",
      "Iteration 0 , Loss:  0.0033611712722929673\n",
      "Training accuracy:  1.0 ; Validation accuracy:  0.4\n",
      "Run time of interation 0 of epoch 92 in seconds:  5.522780895233154\n",
      "Training accuracy:  1.0 ; Validation accuracy:  0.425\n",
      "Iteration 0 , Loss:  0.0031242971463088364\n",
      "Training accuracy:  1.0 ; Validation accuracy:  0.405\n",
      "Run time of interation 0 of epoch 93 in seconds:  5.467735767364502\n",
      "Training accuracy:  1.0 ; Validation accuracy:  0.43\n",
      "Iteration 0 , Loss:  0.0036116589585054103\n",
      "Training accuracy:  1.0 ; Validation accuracy:  0.39\n",
      "Run time of interation 0 of epoch 94 in seconds:  5.557575941085815\n",
      "Training accuracy:  1.0 ; Validation accuracy:  0.405\n",
      "Iteration 0 , Loss:  0.0034719363193068133\n",
      "Training accuracy:  1.0 ; Validation accuracy:  0.41\n",
      "Run time of interation 0 of epoch 95 in seconds:  5.515256881713867\n",
      "Training accuracy:  1.0 ; Validation accuracy:  0.405\n",
      "Iteration 0 , Loss:  0.0027855896375258366\n",
      "Training accuracy:  1.0 ; Validation accuracy:  0.415\n",
      "Run time of interation 0 of epoch 96 in seconds:  5.488754034042358\n",
      "Training accuracy:  1.0 ; Validation accuracy:  0.415\n",
      "Iteration 0 , Loss:  0.003112267266280184\n",
      "Training accuracy:  1.0 ; Validation accuracy:  0.4\n",
      "Run time of interation 0 of epoch 97 in seconds:  5.5104639530181885\n",
      "Training accuracy:  1.0 ; Validation accuracy:  0.4\n",
      "Iteration 0 , Loss:  0.002695321778478552\n",
      "Training accuracy:  1.0 ; Validation accuracy:  0.415\n",
      "Run time of interation 0 of epoch 98 in seconds:  5.407214164733887\n",
      "Training accuracy:  1.0 ; Validation accuracy:  0.4\n",
      "Iteration 0 , Loss:  0.002974716962208429\n",
      "Training accuracy:  1.0 ; Validation accuracy:  0.425\n",
      "Run time of interation 0 of epoch 99 in seconds:  5.569860935211182\n",
      "Training accuracy:  1.0 ; Validation accuracy:  0.405\n",
      "Total training time in seconds:  15014.807390928268\n"
     ]
    }
   ],
   "source": [
    "# netAccel = ConvNet4Accel(input_shape=(3, 32, 32), n_kers=(32,), dense_interior_units=(200,) ,n_classes=10, verbose=False)\n",
    "# netAccel.compile(optimizer_name='adam', lr=1e-3)\n",
    "# loss_history_adam, train_acc_history_adam, val_acc_adam = netAccel.fit(x_train, y_train, x_val, y_val, n_epochs=100)\n",
    "netAccel = ConvNet4Accel(input_shape=(3, 32, 32), n_classes=10, verbose=False)\n",
    "netAccel.compile(optimizer_name='adam')\n",
    "loss_history_adam, train_acc_history_adam, val_acc_adam = netAccel.fit(x_train, y_train, x_val, y_val, n_epochs=100)"
   ]
  },
  {
   "cell_type": "markdown",
   "metadata": {},
   "source": [
    "### 8d. Analysis of STL-10 training quality\n",
    "\n",
    "Use your trained network that achieves 45%+ accuracy on the test set to make \"high quality\" plots showing the following \n",
    "\n",
    "- Plot the accuracy of the training and validation sets as a function of training epoch. You may have to convert iterations to epochs.\n",
    "- Plot the loss as a function of training iteration."
   ]
  },
  {
   "cell_type": "code",
   "execution_count": null,
   "metadata": {
    "deletable": false,
    "nbgrader": {
     "cell_type": "code",
     "checksum": "5529cc7997d21254983d9d7779dc350e",
     "grade": false,
     "grade_id": "cell-7afa05bc42b8d14f",
     "locked": false,
     "schema_version": 3,
     "solution": true,
     "task": false
    }
   },
   "outputs": [
    {
     "ename": "NameError",
     "evalue": "name 'train_acc_history_adam' is not defined",
     "output_type": "error",
     "traceback": [
      "\u001b[0;31m---------------------------------------------------------------------------\u001b[0m",
      "\u001b[0;31mNameError\u001b[0m                                 Traceback (most recent call last)",
      "Cell \u001b[0;32mIn[12], line 4\u001b[0m\n\u001b[1;32m      2\u001b[0m \u001b[38;5;28;01mimport\u001b[39;00m \u001b[38;5;21;01mmatplotlib\u001b[39;00m\u001b[38;5;21;01m.\u001b[39;00m\u001b[38;5;21;01mpyplot\u001b[39;00m \u001b[38;5;28;01mas\u001b[39;00m \u001b[38;5;21;01mplt\u001b[39;00m\n\u001b[1;32m      3\u001b[0m plt\u001b[38;5;241m.\u001b[39mfigure(figsize\u001b[38;5;241m=\u001b[39m(\u001b[38;5;241m10\u001b[39m, \u001b[38;5;241m5\u001b[39m))\n\u001b[0;32m----> 4\u001b[0m plt\u001b[38;5;241m.\u001b[39mplot(\u001b[43mtrain_acc_history_adam\u001b[49m, label\u001b[38;5;241m=\u001b[39m\u001b[38;5;124m\"\u001b[39m\u001b[38;5;124mTraining Accuracy\u001b[39m\u001b[38;5;124m\"\u001b[39m, linestyle\u001b[38;5;241m=\u001b[39m\u001b[38;5;124m'\u001b[39m\u001b[38;5;124m-\u001b[39m\u001b[38;5;124m'\u001b[39m)\n\u001b[1;32m      5\u001b[0m plt\u001b[38;5;241m.\u001b[39mplot(val_acc_adam, label\u001b[38;5;241m=\u001b[39m\u001b[38;5;124m\"\u001b[39m\u001b[38;5;124mValidation Accuracy\u001b[39m\u001b[38;5;124m\"\u001b[39m)\n\u001b[1;32m      6\u001b[0m plt\u001b[38;5;241m.\u001b[39mtitle(\u001b[38;5;124m\"\u001b[39m\u001b[38;5;124mTraining and Validation Accuracy vs Iterations\u001b[39m\u001b[38;5;124m\"\u001b[39m)\n",
      "\u001b[0;31mNameError\u001b[0m: name 'train_acc_history_adam' is not defined"
     ]
    },
    {
     "data": {
      "text/plain": [
       "<Figure size 1000x500 with 0 Axes>"
      ]
     },
     "metadata": {},
     "output_type": "display_data"
    }
   ],
   "source": [
    "# Plot 2: Loss vs Iterations for Three Optimizers\n",
    "plt.figure(figsize=(10, 5))\n",
    "plt.plot(train_acc_history_adam, label=\"Training Accuracy\", linestyle='-')\n",
    "plt.plot(val_acc_adam, label=\"Validation Accuracy\")\n",
    "plt.title(\"Training and Validation Accuracy vs Iterations\")\n",
    "plt.xlabel(\"Iteration\")\n",
    "plt.ylabel(\"Loss\")\n",
    "plt.legend()\n",
    "plt.grid(True)\n",
    "plt.show()"
   ]
  },
  {
   "cell_type": "code",
   "execution_count": null,
   "metadata": {
    "deletable": false,
    "nbgrader": {
     "cell_type": "code",
     "checksum": "3fe7885947b173cd1263fb5d5f665b69",
     "grade": false,
     "grade_id": "cell-1223c3aa780f8dbe",
     "locked": false,
     "schema_version": 3,
     "solution": true,
     "task": false
    }
   },
   "outputs": [
    {
     "name": "stderr",
     "output_type": "stream",
     "text": [
      "/var/folders/bp/y6l0qmv94kq81jmc42xf416w0000gn/T/ipykernel_26248/404524465.py:7: UserWarning: No artists with labels found to put in legend.  Note that artists whose label start with an underscore are ignored when legend() is called with no argument.\n",
      "  plt.legend()\n"
     ]
    },
    {
     "data": {
      "image/png": "[encoded data removed]",
      "text/plain": [
       "<Figure size 1000x500 with 1 Axes>"
      ]
     },
     "metadata": {},
     "output_type": "display_data"
    }
   ],
   "source": [
    "# Plot 2: Loss vs Iterations for Three Optimizers\n",
    "plt.figure(figsize=(10, 5))\n",
    "plt.plot(loss_history_adam, linestyle='-', label='Adam')\n",
    "plt.title(\"Loss vs Iterations for Different Optimizers\")\n",
    "plt.xlabel(\"Iteration\")\n",
    "plt.ylabel(\"Loss\")\n",
    "plt.legend()\n",
    "plt.grid(True)\n",
    "plt.show()"
   ]
  },
  {
   "cell_type": "markdown",
   "metadata": {},
   "source": [
    "### 8e. Visualize layer weights\n",
    "\n",
    "Run the following code and submit the inline image of the weight visualization of the 1st layer (convolutional layer) of the network.\n",
    "\n",
    "**Note:**\n",
    "- Setting optional parameter to `True` will let you save a .PNG file in your project folder of your weights. I'd suggest setting it to `False` unless look at your weights and they look like they are worth saving. You don't want a training run that produces undesirable weights to overwrite your good looking results!"
   ]
  },
  {
   "cell_type": "code",
   "execution_count": 44,
   "metadata": {},
   "outputs": [],
   "source": [
    "def plot_weights(wts, saveFig=True, filename='convWts.png'):\n",
    "    grid_sz = int(np.sqrt(len(wts)))\n",
    "    plt.figure(figsize=(5,5))\n",
    "    for x in range(grid_sz):\n",
    "        for y in range(grid_sz):\n",
    "            lin_ind = np.ravel_multi_index((x, y), dims=(grid_sz, grid_sz))\n",
    "            plt.subplot(grid_sz, grid_sz, lin_ind+1)\n",
    "            currImg = wts[lin_ind]\n",
    "            low, high = np.min(currImg), np.max(currImg)\n",
    "            currImg = 255*(currImg - low) / (high - low)\n",
    "            currImg = currImg.astype('uint8')\n",
    "            plt.imshow(currImg)\n",
    "            plt.gca().axis('off')\n",
    "    plt.subplots_adjust(wspace=0.01, hspace=0.01)\n",
    "    if saveFig:\n",
    "        plt.savefig(filename)\n",
    "    plt.show()"
   ]
  },
  {
   "cell_type": "code",
   "execution_count": 45,
   "metadata": {},
   "outputs": [
    {
     "data": {
      "image/png": "[encoded data removed]",
      "text/plain": [
       "<Figure size 500x500 with 16 Axes>"
      ]
     },
     "metadata": {},
     "output_type": "display_data"
    }
   ],
   "source": [
    "# Subsitute your trained network below\n",
    "# netT is my network's name\n",
    "# Every weight should not look like RGB noise\n",
    "plot_weights(netAccel.layers[0].wts.transpose(0, 2, 3, 1), saveFig=True, filename='filters.png')"
   ]
  },
  {
   "cell_type": "markdown",
   "metadata": {},
   "source": [
    "### 8f. Questions"
   ]
  },
  {
   "cell_type": "markdown",
   "metadata": {},
   "source": [
    "**Question 7:** What do the learned filters look like? Does this make sense to you / is this what you expected? In which area of the brain do these filters resemble cell receptive fields?\n",
    "\n",
    "#### Note\n",
    "\n",
    "You should not see RGB \"noise\". If you do, and you pass the \"overfit\" test with the Adam optimizer, you probably need to increase the number of training epochs."
   ]
  },
  {
   "cell_type": "markdown",
   "metadata": {},
   "source": [
    "**Answer 7:**"
   ]
  },
  {
   "cell_type": "markdown",
   "metadata": {
    "deletable": false,
    "nbgrader": {
     "cell_type": "markdown",
     "checksum": "78a2913eaadc81218dc4d9e24003d6e8",
     "grade": true,
     "grade_id": "cell-c41dbb114339bc9f",
     "locked": false,
     "points": 0,
     "schema_version": 3,
     "solution": true,
     "task": false
    }
   },
   "source": [
    "I see edges here the differences between lines of color (or see lines). This makes sense to me because the first layer of the network should learn line from the images input. It resemble cell receptive fields of human eyes"
   ]
  },
  {
   "cell_type": "markdown",
   "metadata": {},
   "source": [
    "## Task 9: Dropout\n",
    "\n",
    "Now you are ready to explore how adding a Dropout layer to your CNN affects training and the accuracy of predictions."
   ]
  },
  {
   "cell_type": "markdown",
   "metadata": {},
   "source": [
    "### 9a. Create ConvNet4AccelV2 network\n",
    "\n",
    "- Create a class in `network.py` called `ConvNet4AccelV2` that is the same as `ConvNet4Accel` except that we now add a single dropout layer before the output layer. The layers of your network should now look like:\n",
    "\n",
    "Conv2D → MaxPool2D → Flatten → Dense → **Dropout** → Dense"
   ]
  },
  {
   "cell_type": "code",
   "execution_count": 1,
   "metadata": {},
   "outputs": [],
   "source": [
    "from network import ConvNet4AccelV2"
   ]
  },
  {
   "cell_type": "markdown",
   "metadata": {},
   "source": [
    "### 9b. Analyze effect of dropout on STL-10 loss and accuracy\n",
    "\n",
    "Run an experiment in which you train five separate `ConvNet4AccelV2` nets, each with the same default hyperparameters except set the dropout rates to be `[0.0, 0.1, 0.5, 0.9]`, respectively. For example, the first net should have 0 dropout, the 2nd should have 0.1 dropout, etc. \n",
    "\n",
    "Create two high quality plots showing the:\n",
    "1. training loss\n",
    "2. test accuracy\n",
    "\n",
    "produced by each network.\n",
    "\n",
    "**Training notes:**\n",
    "- Use the optimizer that you found performs best from above.\n",
    "- Use a random seed of `0` in all your nets.\n",
    "- You should be able to keep most/all hyperparameters to their default values for this experiment.\n",
    "- Training for only `5` epochs should be enough to produce the expected pattern of results. This means that the experiment should take only a few minutes to run. *You should be get higher accuracy if you train for more than 5 epochs (and you may do so if you so wish) but 5 epochs should be enough to demonstrate the effects of dropout, which is the goal here.*\n",
    "\n",
    "If everything is working properly, you should find that at least one of the dropout settings yields better test accuracy than you found in Task 8."
   ]
  },
  {
   "cell_type": "code",
   "execution_count": 7,
   "metadata": {
    "deletable": false,
    "nbgrader": {
     "cell_type": "code",
     "checksum": "1b23703b9fddfd5bc731d85395f6c425",
     "grade": false,
     "grade_id": "cell-63e0ff40be1f9c58",
     "locked": false,
     "schema_version": 3,
     "solution": true,
     "task": false
    }
   },
   "outputs": [
    {
     "name": "stdout",
     "output_type": "stream",
     "text": [
      "In each epoch, the number of iterations is 22\n",
      "acc_frq is 50\n",
      "Iteration 0 , Loss:  2.3026591375728453\n",
      "Training accuracy:  0.13233287858117326 ; Validation accuracy:  0.15\n",
      "Run time of interation 0 of epoch 0 in seconds:  6.821012020111084\n",
      "Iteration 0 , Loss:  2.012881193173874\n",
      "Training accuracy:  0.26557526148249205 ; Validation accuracy:  0.265\n",
      "Run time of interation 0 of epoch 1 in seconds:  6.163947105407715\n",
      "Iteration 0 , Loss:  1.821092805367726\n",
      "Training accuracy:  0.3085493406093679 ; Validation accuracy:  0.3\n",
      "Run time of interation 0 of epoch 2 in seconds:  5.513511896133423\n",
      "Iteration 0 , Loss:  1.8267720986631595\n",
      "Training accuracy:  0.3312869486130059 ; Validation accuracy:  0.275\n",
      "Run time of interation 0 of epoch 3 in seconds:  5.948825120925903\n",
      "Iteration 0 , Loss:  1.6764720703864846\n",
      "Training accuracy:  0.34492951341518874 ; Validation accuracy:  0.275\n",
      "Run time of interation 0 of epoch 4 in seconds:  5.718217849731445\n",
      "Total training time in seconds:  65.8952887058258\n",
      "In each epoch, the number of iterations is 22\n",
      "acc_frq is 50\n",
      "Iteration 0 , Loss:  2.3030787462850353\n",
      "Training accuracy:  0.15666211914506595 ; Validation accuracy:  0.15\n",
      "Run time of interation 0 of epoch 0 in seconds:  5.747164964675903\n",
      "Iteration 0 , Loss:  1.9025545490142772\n",
      "Training accuracy:  0.2555707139608913 ; Validation accuracy:  0.225\n",
      "Run time of interation 0 of epoch 1 in seconds:  5.794720888137817\n",
      "Iteration 0 , Loss:  1.821639278692416\n",
      "Training accuracy:  0.32992269213278763 ; Validation accuracy:  0.28\n",
      "Run time of interation 0 of epoch 2 in seconds:  6.516937971115112\n",
      "Iteration 0 , Loss:  1.8034380649936623\n",
      "Training accuracy:  0.3587994542974079 ; Validation accuracy:  0.335\n",
      "Run time of interation 0 of epoch 3 in seconds:  5.848753213882446\n",
      "Iteration 0 , Loss:  1.601706502941463\n",
      "Training accuracy:  0.37789904502046384 ; Validation accuracy:  0.305\n",
      "Run time of interation 0 of epoch 4 in seconds:  6.219228982925415\n",
      "Total training time in seconds:  67.51327180862427\n",
      "In each epoch, the number of iterations is 22\n",
      "acc_frq is 50\n",
      "Iteration 0 , Loss:  2.302857255521351\n",
      "Training accuracy:  0.09890859481582538 ; Validation accuracy:  0.12\n",
      "Run time of interation 0 of epoch 0 in seconds:  6.370466947555542\n",
      "Iteration 0 , Loss:  2.031094981995805\n",
      "Training accuracy:  0.2764893133242383 ; Validation accuracy:  0.255\n",
      "Run time of interation 0 of epoch 1 in seconds:  5.7719197273254395\n",
      "Iteration 0 , Loss:  1.8779004409046514\n",
      "Training accuracy:  0.28035470668485674 ; Validation accuracy:  0.28\n",
      "Run time of interation 0 of epoch 2 in seconds:  5.6377668380737305\n",
      "Iteration 0 , Loss:  1.892732111810957\n",
      "Training accuracy:  0.2958162801273306 ; Validation accuracy:  0.23\n",
      "Run time of interation 0 of epoch 3 in seconds:  5.626267910003662\n",
      "Iteration 0 , Loss:  1.7355399460732832\n",
      "Training accuracy:  0.32764893133242384 ; Validation accuracy:  0.28\n",
      "Run time of interation 0 of epoch 4 in seconds:  5.819669961929321\n",
      "Total training time in seconds:  65.1852490901947\n",
      "In each epoch, the number of iterations is 22\n",
      "acc_frq is 50\n",
      "Iteration 0 , Loss:  2.301709773062715\n",
      "Training accuracy:  0.10050022737608004 ; Validation accuracy:  0.105\n",
      "Run time of interation 0 of epoch 0 in seconds:  6.215584993362427\n",
      "Iteration 0 , Loss:  2.133852948835435\n",
      "Training accuracy:  0.21032287403365166 ; Validation accuracy:  0.155\n",
      "Run time of interation 0 of epoch 1 in seconds:  6.079296112060547\n",
      "Iteration 0 , Loss:  1.957388257756933\n",
      "Training accuracy:  0.2544338335607094 ; Validation accuracy:  0.28\n",
      "Run time of interation 0 of epoch 2 in seconds:  5.916156053543091\n",
      "Iteration 0 , Loss:  1.8018032282013965\n",
      "Training accuracy:  0.2783083219645293 ; Validation accuracy:  0.235\n",
      "Run time of interation 0 of epoch 3 in seconds:  5.807537317276001\n",
      "Iteration 0 , Loss:  1.7770641791045512\n",
      "Training accuracy:  0.31582537517053205 ; Validation accuracy:  0.315\n",
      "Run time of interation 0 of epoch 4 in seconds:  6.018944025039673\n",
      "Total training time in seconds:  67.49059987068176\n"
     ]
    }
   ],
   "source": [
    "# train 5 separate ConvNet4AccelV2 networks with same default hyperparameters expect dropout rate \n",
    "# dropout rate should be [0.0, 0.1, 0.5, 0.9]\n",
    "net_with_dropout_1 = ConvNet4AccelV2(input_shape=(3, 32, 32), n_classes=10, verbose=False, dropout_rate=0.0, r_seed=0)\n",
    "net_with_dropout_2 = ConvNet4AccelV2(input_shape=(3, 32, 32), n_classes=10, verbose=False, dropout_rate=0.1, r_seed=0)\n",
    "net_with_dropout_3 = ConvNet4AccelV2(input_shape=(3, 32, 32), n_classes=10, verbose=False, dropout_rate=0.5, r_seed=0)\n",
    "net_with_dropout_4 = ConvNet4AccelV2(input_shape=(3, 32, 32), n_classes=10, verbose=False, dropout_rate=0.9, r_seed=0)\n",
    "\n",
    "# train 5 separate ConvNet4AccelV2 networks with same default hyperparameters\n",
    "net_with_dropout_1.compile(optimizer_name='adam', lr=1e-2)\n",
    "net_with_dropout_2.compile(optimizer_name='adam', lr=1e-2)\n",
    "net_with_dropout_3.compile(optimizer_name='adam', lr=1e-2)\n",
    "net_with_dropout_4.compile(optimizer_name='adam', lr=1e-2)\n",
    "\n",
    "loss_history_adam_1, train_acc_history_adam_1, val_acc_adam_1 = net_with_dropout_1.fit(x_train, y_train, x_val, y_val, mini_batch_sz = 200, n_epochs=5, acc_freq=50, print_every=100)\n",
    "loss_history_adam_2, train_acc_history_adam_2, val_acc_adam_2 = net_with_dropout_2.fit(x_train, y_train, x_val, y_val, mini_batch_sz = 200, n_epochs=5, acc_freq=50, print_every=100)\n",
    "loss_history_adam_3, train_acc_history_adam_3, val_acc_adam_3 = net_with_dropout_3.fit(x_train, y_train, x_val, y_val, mini_batch_sz = 200, n_epochs=5, acc_freq=50, print_every=100) \n",
    "loss_history_adam_4, train_acc_history_adam_4, val_acc_adam_4 = net_with_dropout_4.fit(x_train, y_train, x_val, y_val, mini_batch_sz = 200, n_epochs=5, acc_freq=50, print_every=100)"
   ]
  },
  {
   "cell_type": "code",
   "execution_count": 13,
   "metadata": {},
   "outputs": [],
   "source": [
    "import matplotlib.pyplot as plt"
   ]
  },
  {
   "cell_type": "code",
   "execution_count": 16,
   "metadata": {
    "deletable": false,
    "nbgrader": {
     "cell_type": "code",
     "checksum": "72349d260e5af53c41f99b96bc1fa281",
     "grade": false,
     "grade_id": "cell-221d4190e89e55d4",
     "locked": false,
     "schema_version": 3,
     "solution": true,
     "task": false
    }
   },
   "outputs": [
    {
     "data": {
      "image/png": "[encoded data removed]",
      "text/plain": [
       "<Figure size 640x480 with 1 Axes>"
      ]
     },
     "metadata": {},
     "output_type": "display_data"
    }
   ],
   "source": [
    "# Plot training loss in y_axis and epoch in x_axis\n",
    "plt.plot(loss_history_adam_1)\n",
    "plt.plot(loss_history_adam_2)    \n",
    "plt.plot(loss_history_adam_3)         \n",
    "plt.plot(loss_history_adam_4)\n",
    "plt.legend(['dropout rate = 0.0', 'dropout rate = 0.1', 'dropout rate = 0.5', 'dropout rate = 0.9', 'dropout rate = 1.0'])\n",
    "plt.xlabel('Epoch')\n",
    "plt.ylabel('Loss')\n",
    "plt.title('Training Loss vs. Epoch')\n",
    "plt.show()"
   ]
  },
  {
   "cell_type": "code",
   "execution_count": 17,
   "metadata": {},
   "outputs": [
    {
     "data": {
      "image/png": "[encoded data removed]",
      "text/plain": [
       "<Figure size 640x480 with 1 Axes>"
      ]
     },
     "metadata": {},
     "output_type": "display_data"
    }
   ],
   "source": [
    "# Plot test accuracy in y_axis and epoch in x_axis\n",
    "plt.plot(train_acc_history_adam_1)\n",
    "plt.plot(train_acc_history_adam_2)    \n",
    "plt.plot(train_acc_history_adam_3)         \n",
    "plt.plot(train_acc_history_adam_4)\n",
    "plt.legend(['dropout rate = 0.0', 'dropout rate = 0.1', 'dropout rate = 0.5', 'dropout rate = 0.9', 'dropout rate = 1.0'])\n",
    "plt.xlabel('Epoch')\n",
    "plt.title('Training Accuracy vs. Epoch')\n",
    "plt.ylabel('Accuracy')\n",
    "plt.show()"
   ]
  },
  {
   "cell_type": "markdown",
   "metadata": {},
   "source": [
    "### 9c. Questions\n",
    "\n",
    "**Question 8:** What is the relationship between dropout and your training loss? Based on this, how would you expect the validation loss to look for the different dropout levels?\n",
    "\n",
    "*There's no need to actually check the val loss here, this question is asking about your expectations based on your training loss results. You can check / do a deeper analysis for an extension (if you like).*\n",
    "\n",
    "**Question 9:** How does the dropout rate appear to effect your test accuracy?"
   ]
  },
  {
   "cell_type": "markdown",
   "metadata": {},
   "source": [
    "**Answer 8:** "
   ]
  },
  {
   "cell_type": "markdown",
   "metadata": {
    "deletable": false,
    "nbgrader": {
     "cell_type": "markdown",
     "checksum": "dfdb0cbbe966a227b2467d2ef22d1274",
     "grade": true,
     "grade_id": "cell-0d044caf8d0f542b",
     "locked": false,
     "points": 0,
     "schema_version": 3,
     "solution": true,
     "task": false
    }
   },
   "source": [
    "Initially, 0.9 drop out rate has the highest traning loss, because fewer neurons are active nad this causes a noisier optimizaton process. However, at the final point, 0.1 dropout loss has the lowest training loss. Second place, 0.9 and 0.5 have quite similar training loss with 0.9 drop out rate is just a bit lower. During the validation, dropout is disabled, this means that I expect lower validation loss for all different dropout levels. For low dropout like 0.1, I expect the validation loss to be relatively low because almost all the neurons are active during the training, and then 0.5 to 0.9 because as the dropout rate increases, the model struggles to optimized with a large fraction of neurons dropped"
   ]
  },
  {
   "cell_type": "markdown",
   "metadata": {},
   "source": [
    "**Answer 9:** "
   ]
  },
  {
   "cell_type": "markdown",
   "metadata": {
    "deletable": false,
    "nbgrader": {
     "cell_type": "markdown",
     "checksum": "cae5cb339c7782ae0930d15efe3060b0",
     "grade": true,
     "grade_id": "cell-db026b88564240cd",
     "locked": false,
     "points": 0,
     "schema_version": 3,
     "solution": true,
     "task": false
    }
   },
   "source": [
    "0.1 dropout rate has the highest test accuracy, and then 0.0 drop out rate. This makes sense because dropout rate of 0.5 and 0.9 deactivate half or 90% of the filters, so the network has less information to learn from. Meanwhile, 0.1 dropout rate still gives the network enough information, combined with the benefits of regularization that disables less important filters, resulting in higher test accuracy than not dropping at all "
   ]
  },
  {
   "cell_type": "markdown",
   "metadata": {},
   "source": [
    "## Task 10: Adam vs AdamW and weight decay\n",
    "\n",
    "In this task, you will compare how the Adam and AdamW optimizers handle regularization."
   ]
  },
  {
   "cell_type": "markdown",
   "metadata": {},
   "source": [
    "### 10a. Implement and test AdamW\n",
    "\n",
    "Implement AdamW in `optimizers.py`. You should be able to copy-paste the contents of your `Adam` class and add/change very few lines of code. This should be a very quick implementation. Review your class notes for the implementation strategy.\n",
    "\n",
    "**Note:** You will need to change something about the constructor compared to Adam..."
   ]
  },
  {
   "cell_type": "markdown",
   "metadata": {},
   "source": [
    "####  Test AdamW"
   ]
  },
  {
   "cell_type": "code",
   "execution_count": 32,
   "metadata": {},
   "outputs": [
    {
     "name": "stdout",
     "output_type": "stream",
     "text": [
      "Test 1/2 (no reg):\n",
      "AdamW: Wts after 1 iter\n",
      "[[ 0.2257302 -0.0321049  0.7404226  0.2049001]\n",
      " [-0.4356694  0.4615951  1.204      0.847081 ]\n",
      " [-0.6037352 -1.3654215 -0.5232745 -0.058674 ]]\n",
      "AdamW: Wts after 2 iter\n",
      "[[ 0.3257302  0.0678951  0.8404226  0.3049001]\n",
      " [-0.3356694  0.561595   1.104      0.747081 ]\n",
      " [-0.5037353 -1.4654215 -0.4232745 -0.158674 ]]\n",
      "AdamW: Wts after 3 iter\n",
      "[[ 0.4257302  0.1678951  0.9404226  0.4049001]\n",
      " [-0.2356694  0.661595   1.0040001  0.647081 ]\n",
      " [-0.4037353 -1.5654215 -0.3232745 -0.258674 ]]\n",
      "---------------------------------------------\n",
      "Test 2/2 (w/ reg):\n",
      "AdamW: Wts after 1 iter\n",
      "[[ 0.2244729 -0.0307838  0.7340184  0.2038511]\n",
      " [-0.4303127  0.4579791  1.19096    0.8376102]\n",
      " [-0.5966979 -1.3527673 -0.5170417 -0.0590873]]\n",
      "AdamW: Wts after 2 iter\n",
      "[[ 0.322239   0.0696204  0.8266962  0.3018449]\n",
      " [-0.3259598  0.5534605  1.0789672  0.7292058]\n",
      " [-0.4906463 -1.4392544 -0.4118296 -0.1585605]]\n",
      "AdamW: Wts after 3 iter\n",
      "[[ 0.419045   0.1691759  0.9184766  0.3989116]\n",
      " [-0.2225696  0.6480865  0.9679598  0.6218391]\n",
      " [-0.3854627 -1.5249009 -0.3076015 -0.257143 ]]\n"
     ]
    }
   ],
   "source": [
    "rng = np.random.default_rng(0)\n",
    "\n",
    "wts = rng.standard_normal((3, 4))\n",
    "d_wts = rng.standard_normal((3, 4))\n",
    "\n",
    "optimizer = AdamW(lr=0.1, reg=0)\n",
    "optimizer.prepare(wts, d_wts)\n",
    "\n",
    "new_wts_1 = optimizer.update_weights()\n",
    "new_wts_2 = optimizer.update_weights()\n",
    "new_wts_3 = optimizer.update_weights()\n",
    "\n",
    "print('Test 1/2 (no reg):')\n",
    "print(f'AdamW: Wts after 1 iter\\n{new_wts_1}')\n",
    "print(f'AdamW: Wts after 2 iter\\n{new_wts_2}')\n",
    "print(f'AdamW: Wts after 3 iter\\n{new_wts_3}')\n",
    "print(45*'-')\n",
    "\n",
    "optimizer = AdamW(lr=0.1, reg=0.1)\n",
    "optimizer.prepare(wts, d_wts)\n",
    "\n",
    "new_wts_1 = optimizer.update_weights()\n",
    "new_wts_2 = optimizer.update_weights()\n",
    "new_wts_3 = optimizer.update_weights()\n",
    "\n",
    "print('Test 2/2 (w/ reg):')\n",
    "print(f'AdamW: Wts after 1 iter\\n{new_wts_1}')\n",
    "print(f'AdamW: Wts after 2 iter\\n{new_wts_2}')\n",
    "print(f'AdamW: Wts after 3 iter\\n{new_wts_3}')"
   ]
  },
  {
   "cell_type": "markdown",
   "metadata": {},
   "source": [
    "You should see:\n",
    "\n",
    "        Test 1/2 (no reg):\n",
    "        AdamW: Wts after 1 iter\n",
    "        [[ 0.2257302 -0.0321049  0.7404226  0.2049001]\n",
    "        [-0.4356694  0.4615951  1.204      0.847081 ]\n",
    "        [-0.6037352 -1.3654215 -0.5232745 -0.058674 ]]\n",
    "        AdamW: Wts after 2 iter\n",
    "        [[ 0.3257302  0.0678951  0.8404226  0.3049001]\n",
    "        [-0.3356694  0.561595   1.104      0.747081 ]\n",
    "        [-0.5037353 -1.4654215 -0.4232745 -0.158674 ]]\n",
    "        AdamW: Wts after 3 iter\n",
    "        [[ 0.4257302  0.1678951  0.9404226  0.4049001]\n",
    "        [-0.2356694  0.661595   1.0040001  0.647081 ]\n",
    "        [-0.4037353 -1.5654215 -0.3232745 -0.258674 ]]\n",
    "        ---------------------------------------------\n",
    "        Test 2/2 (w/ reg):\n",
    "        AdamW: Wts after 1 iter\n",
    "        [[ 0.5299875  0.2695741  1.0498269  0.5089491]\n",
    "        [-0.1380261  0.768211   0.9140401  0.5535518]\n",
    "        [-0.3077726 -1.6810757 -0.2265072 -0.3612607]]\n",
    "        AdamW: Wts after 2 iter\n",
    "        [[ 0.6352986  0.3723576  1.1603455  0.6140712]\n",
    "        [-0.0393622  0.8759553  0.8231163  0.4590636]\n",
    "        [-0.2107146 -1.7979054 -0.1287356 -0.4649343]]\n",
    "        AdamW: Wts after 3 iter\n",
    "        [[ 0.7416815  0.4763123  1.2720033  0.7202987]\n",
    "        [ 0.0603612  0.9848794  0.731178   0.3635911]\n",
    "        [-0.1124616 -1.9159352 -0.0299255 -0.5697447]]"
   ]
  },
  {
   "cell_type": "markdown",
   "metadata": {},
   "source": [
    "### 10b. Compare Adam and AdamW\n",
    "\n",
    "Below, train separate `ConvNet4AccelV2` (with dropout) nets with separate 4 regularization strengths `[0, 0.01, 0.1, 0.5]`. As in your dropout experiment, each net should use a different regularization value. In each case, train the net once with Adam and once again with AdamW. Compute/keep track of the test accuracy achieved by each net on STL-10.\n",
    "\n",
    "Default hyperparameters should be fine, except:\n",
    "- For consistency, you a random seed of `0` in all nets.\n",
    "- Train the networks for `10` epochs.\n",
    "\n",
    "Create a single high-quality plot showing the test accuracy achieved with the different regularization strengths and optimizers (i.e. 2 curves, 3 plot markers each).\n"
   ]
  },
  {
   "cell_type": "code",
   "execution_count": null,
   "metadata": {
    "deletable": false,
    "nbgrader": {
     "cell_type": "code",
     "checksum": "8140bd4e6c380ee1c1fa9cc3c5bca0e6",
     "grade": false,
     "grade_id": "cell-98f4ad01a393c121",
     "locked": false,
     "schema_version": 3,
     "solution": true,
     "task": false
    }
   },
   "outputs": [],
   "source": [
    "# YOUR CODE HERE"
   ]
  },
  {
   "cell_type": "code",
   "execution_count": null,
   "metadata": {
    "deletable": false,
    "nbgrader": {
     "cell_type": "code",
     "checksum": "b5498544c493a1e8cfca07d7912f4c6f",
     "grade": false,
     "grade_id": "cell-60d71478f36394a9",
     "locked": false,
     "schema_version": 3,
     "solution": true,
     "task": false
    }
   },
   "outputs": [],
   "source": [
    "# YOUR CODE HERE"
   ]
  },
  {
   "cell_type": "markdown",
   "metadata": {},
   "source": [
    "## Extensions\n",
    "\n",
    "### General guidelines\n",
    "\n",
    "1. Never integrate extensions into your base project so that they change the expected behavior of core functions. If your extension changes the core design/behavior, no problem, duplicate your working base project and add features from there.\n",
    "2. Check the rubric to keep in mind how extensions on this project will be graded.\n",
    "3. While I may consult your code and \"written log\" of what you did, **I am grading your extensions based on what you present in your 3-5 min video.**\n",
    "3. I suggest documenting your explorations in a \"log\" or \"lab notebook\" style (i.e. documenting your thought/progression/discovery/learning process). I'm not grading your writing, so you can keep it succinct. **Whatever is most useful to you to remember what you did.** \n",
    "4. I suggest taking a hypothesis driven approach. For example \"I was curious about X so I explored Y. I found Z, which was not what I expected because..., so then tried A...\"\n",
    "5. Make plots to help showcase your results.\n",
    "6. **More is not necessarily better.** Generally, a small number of \"in-depth\" extensions count for more than many \"shallow\" extensions.\n",
    "\n",
    "### AI guidelines\n",
    "\n",
    "You may use AI in mostly any capacity for extensions. However, keep in mind:\n",
    "1. There is no need to use AI at all!\n",
    "2. You are welcome to use AI as a tool (e.g. automate something that is tedious, help you get unstuck, etc.). However, you should be coding, you should be thinking, you should be writing, you should be creating. If you are spending most (or even close to most) of your time typing into a chatbot and copy-pasting, you have probably gone too far with AI use.\n",
    "3. I don't find large volumes of AI generated code/text/plots to be particularly impressive and you risk losing my interest while grading. Remember: I'm grading your extensions based on your video presentation. **More is not necessarily better.**\n",
    "\n",
    "### Video guidelines\n",
    "\n",
    "1. Please try to keep your video to 5 minutes (*I have other projects to grade!*). If you turn in a longer video, I make no promise that I will watch more than 5 minutes.\n",
    "2. Your screen should be shared as you show me what you did. A live video of your face should also appear somewhere on the screen (e.g. picture-in-picture overlay / split screen).\n",
    "3. Your partner should join you for the video and take turns talking, but, if necessary, it is fine to have one team member present during the record the video.\n",
    "4. Do not simply read text from your notebook, do not read from a prepared script. I am not grading how polished your video presentation is (see extension grading criteria on rubric). \n",
    "5. I am looking for original and creative explorations sparked by your curiosity/interest/passion in a topic. This should be apparent in your video.\n",
    "6. Be natural,, don't feel the need to impress me with fancy language. If it is helpful, imagine that we are talking one-on-one about your extension. Tell me what you did :)\n",
    "\n",
    "### Extension ideas"
   ]
  },
  {
   "cell_type": "markdown",
   "metadata": {},
   "source": [
    "#### 0. Pedal to the metal: achieve high accuracy on STL-10\n",
    "\n",
    "You can achieve higher (>50%) classification accuracy on the STL-10 test set. Find the hyperparameters to achieve this. You can use random, grid search, or simply hand tuning (trial and error) — keep in mind that even with the accelerated layers, each training run may take minutes (or longer) to complete."
   ]
  },
  {
   "cell_type": "markdown",
   "metadata": {},
   "source": [
    "#### 1. Experiment with different network architectures.\n",
    "\n",
    "The design of the `Network` class is modular. As long as you're careful about shapes, adding/removing network layers (e.g. `Conv2D`, `Dense`, etc.) should be straight forward. Experiment with adding another sequence of `Conv2D` and `MaxPool2D` layers. Add another `Dense` hidden layer before the output layer. Add additional dropout layers in between `Dense` layers (or around `Conv2D`/`MaxPool2D` if can get your implementation to support it). How do the changes affect classification accuracy and loss? "
   ]
  },
  {
   "cell_type": "markdown",
   "metadata": {},
   "source": [
    "#### 2. Experiment with different network hyperparameters.\n",
    "\n",
    "Explore the affect one or more change below has on classification. Be careful about how the hyperparameters may affect the shape of network layers. Thorough analysis will get you more points (not try a few ad hoc values).\n",
    "\n",
    "- Experiment with different numbers of hidden units in the Dense layers.\n",
    "- Experiment different max pooling window sizes and strides.\n",
    "- Experiment with kernel sizes (not 7x7). Can you get away with smaller ones? Do they perform just as well? What is the change in runtime like? What is the impact on their visualized appearance?\n",
    "- Experiment with number of kernels in the convolutional layer. Is more/fewer better? What is the impact on their visualized appearance?"
   ]
  },
  {
   "cell_type": "markdown",
   "metadata": {},
   "source": [
    "#### 3. Different hidden layer activation functions\n",
    "\n",
    "Implement and experiment with activation functions that are appropriate for hidden layers (e.g. Leaky ReLU, ELU, SELU, GELU, Sigmoid, Softplus, Mish, etc.). How do they affect speed of training and accuracy? These activation functions can replace ReLU in Dense and Conv2D layers."
   ]
  },
  {
   "cell_type": "markdown",
   "metadata": {},
   "source": [
    "####  4. Add and test some training bells and whistles\n",
    "\n",
    "Add features like early stopping, learning rate decay (learning rate at the end of an epoch becomes some fraction of its former value), etc and assess how they affect training loss convergence and accuracy. "
   ]
  },
  {
   "cell_type": "markdown",
   "metadata": {},
   "source": [
    "#### 5. Additional optimizers\n",
    "\n",
    "Research other optimizers used in backpropogation and implement one or more of them within the model structure. Compare its performance to ones you have implemented"
   ]
  },
  {
   "cell_type": "markdown",
   "metadata": {},
   "source": [
    "#### 6. Optimize your code\n",
    "\n",
    "Find the main performance bottlenecks in the network and improve your code to reduce runtime (e.g. reduce explicit for loops, increase vectorization, etc). Research faster algorithms to do operations like convolution and implement them. Given the complexity of the network, I suggest focusing on one area at a time and make sure everything you change passes the test code before proceeding. Quantify and discuss your performance improvements"
   ]
  },
  {
   "cell_type": "markdown",
   "metadata": {},
   "source": [
    "#### 7. Additional loss functions\n",
    "\n",
    "Implement support for sigmoid, or another activation functions and associated losses. Test it out and compare with softmax/cross entropy. Make sure any necessary changes to the layer's gradient are made."
   ]
  },
  {
   "cell_type": "markdown",
   "metadata": {},
   "source": [
    "#### 8. Additional datasets\n",
    "\n",
    "Do classification and analyze the results with an image dataset of your choice (MNIST, Fashion MNIST, CIFAR10, etc.)."
   ]
  },
  {
   "cell_type": "markdown",
   "metadata": {},
   "source": [
    "#### 9. Performance analysis\n",
    "\n",
    "Do a thorough comparative analysis of the non-accelerated network and accelerated networks with respect to runtime."
   ]
  },
  {
   "cell_type": "markdown",
   "metadata": {},
   "source": [
    "#### 10. Visualize network predictions\n",
    "\n",
    "Plot predicted class labels with a sample of test images to better assess where the network excels and where it struggles."
   ]
  },
  {
   "cell_type": "markdown",
   "metadata": {},
   "source": [
    "#### 11. Confusion matrix\n",
    "\n",
    "Make a confusion matrix and analyze the pattern of errors made by the network. For example, does the network confuse any two classes far more than others?"
   ]
  },
  {
   "cell_type": "markdown",
   "metadata": {},
   "source": [
    "#### 12. Effects of dropout\n",
    "\n",
    "- The experiment that you performed in the main project that focused on the effects of dropout was only limited to 5 epochs. Do a more thorough exploration and see whether `ConvNet4AccelV2` (with dropout) can outperform the net without it with respect to test accuracy. **Tip:** Try increasing the number of neurons in your convolutional and dense layers compared to the default values and experiment with different dropout rates.\n",
    "- Explore how dropout levels affect the validation loss."
   ]
  },
  {
   "cell_type": "markdown",
   "metadata": {},
   "source": [
    "#### 13. Effects of AdamW\n",
    "\n",
    "Continue to explore how AdamW interacts with regularization and dropout. What is the highest accuracy your most general network can achieve?"
   ]
  },
  {
   "cell_type": "code",
   "execution_count": null,
   "metadata": {
    "deletable": false,
    "nbgrader": {
     "cell_type": "code",
     "checksum": "ff51841e4fc7829ad4d6f30c4db3f7c7",
     "grade": false,
     "grade_id": "cell-78dc85c4d70d1d3e",
     "locked": false,
     "schema_version": 3,
     "solution": true,
     "task": false
    }
   },
   "outputs": [],
   "source": [
    "# YOUR CODE HERE"
   ]
  },
  {
   "cell_type": "code",
   "execution_count": null,
   "metadata": {},
   "outputs": [],
   "source": []
  }
 ],
 "metadata": {
  "kernelspec": {
   "display_name": "base",
   "language": "python",
   "name": "python3"
  },
  "language_info": {
   "codemirror_mode": {
    "name": "ipython",
    "version": 3
   },
   "file_extension": ".py",
   "mimetype": "text/x-python",
   "name": "python",
   "nbconvert_exporter": "python",
   "pygments_lexer": "ipython3",
   "version": "3.12.7"
  }
 },
 "nbformat": 4,
 "nbformat_minor": 4
}
