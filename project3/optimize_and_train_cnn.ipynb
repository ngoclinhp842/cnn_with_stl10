{
 "cells": [
  {
   "cell_type": "markdown",
   "metadata": {},
   "source": [
    "**Varsha Yarram and Michelle Phan**\n",
    "\n",
    "Fall 2024\n",
    "\n",
    "CS343: Neural Networks\n",
    "\n",
    "Project 3: Convolutional Neural Networks"
   ]
  },
  {
   "cell_type": "code",
   "execution_count": 131,
   "metadata": {},
   "outputs": [
    {
     "name": "stdout",
     "output_type": "stream",
     "text": [
      "The autoreload extension is already loaded. To reload it, use:\n",
      "  %reload_ext autoreload\n"
     ]
    }
   ],
   "source": [
    "import numpy as np\n",
    "import matplotlib.pyplot as plt\n",
    "\n",
    "plt.show()\n",
    "plt.style.use(['seaborn-v0_8-colorblind', 'seaborn-v0_8-darkgrid'])\n",
    "plt.rcParams.update({'font.size': 20})\n",
    "\n",
    "np.set_printoptions(suppress=True, precision=7)\n",
    "\n",
    "# Automatically reload your external source code\n",
    "%load_ext autoreload\n",
    "%autoreload 2"
   ]
  },
  {
   "cell_type": "markdown",
   "metadata": {},
   "source": [
    "## Goal\n",
    "\n",
    "**Make sure any debug printouts do not appear if `verbose=False`!**\n",
    "\n",
    "This week, you will test your CNN on the STL-10 dataset! The last step before you can do this is implementing an optimizer to update your network weights during gradient descent. You will implement a few and compare them."
   ]
  },
  {
   "cell_type": "markdown",
   "metadata": {},
   "source": [
    "## Task 5: Implement weight optimizers for gradient descent\n",
    "\n",
    "To change the weights during training, we need an optimization algorithm to have our loss decrease over epochs as we learn the structure of the input patterns. Until now, we used **Stochastic gradient descent (SGD)**, which is the simplest algorithm. You will implement 4 popular algorithms:\n",
    "\n",
    "1. `SGD` (stochastic gradient descent)\n",
    "2. `SGD_Momentum` (stochastic gradient descent with momentum)\n",
    "3. `Adam` (Adaptive Moment Estimation)\n",
    "4. `AdamW` (Adaptive Moment Estimation Weight decay) <br/>*Skip AdamW for now. There is a task below that focuses on this optimizer.*\n",
    "\n",
    "Implement each of these according to the update equations (the `update_weights()` in each subclass in `optimizer.py`). Let's use $w_t$ in the math below to represent the weights in a layer at time step $t$, $dw$ to represent the gradient of the weights in a layer, and $\\eta$ represent the learning rate. We use vectorized notation below (update applies to all weights element-wise). Then:\n",
    "\n",
    "**SGD**: \n",
    "\n",
    "$w_{t} = w_{t-1} - \\eta \\times dw$\n",
    "\n",
    "**SGD (momentum)**:\n",
    "\n",
    "$v_{t} = m \\times v_{t-1} - \\eta \\times dw$\n",
    "\n",
    "$w_{t} = w_{t-1} + v_t$\n",
    "\n",
    "where $v_t$ is called the `velocity` at time $t$. At the first time step (0), velocity should be set to all zeros and have the same shape as $w$. $m$ is a constant that determines how much of the gradient obtained on the previous time step should factor into the weight update for the current time step.\n",
    "\n",
    "\n",
    "**Adam**:\n",
    "\n",
    "$v_{t} = \\beta_1 \\times v_{t-1} + (1 - \\beta_1)\\times dw$\n",
    "\n",
    "$p_{t} = \\beta_2 \\times p_{t-1} + (1 - \\beta_2)\\times dw^2$\n",
    "\n",
    "$vc = v_{t} / \\left (1-(\\beta_1^t) \\right )$\n",
    "\n",
    "$pc = p_{t} / \\left (1-(\\beta_2^t) \\right )$\n",
    "\n",
    "$w_{t} = w_{t-1} - \\left ( \\eta \\times vc \\right ) / \\left ( \\sqrt(pc) + \\epsilon \\right ) $\n",
    "\n",
    "\n",
    "Like SGD (momentum), Adam records momentum terms $v$ and $p$. At time step 0, you should initialize them to zeros in an array equal in size to the weights. $vc$ and $pc$ are variables computed on each time step. The remaining quantities are constants. Note that $t$ keeps track of the integer time step, and needs to be incremented on each update. \n"
   ]
  },
  {
   "cell_type": "code",
   "execution_count": 132,
   "metadata": {},
   "outputs": [],
   "source": [
    "from optimizer import *"
   ]
  },
  {
   "cell_type": "markdown",
   "metadata": {},
   "source": [
    "####  Test SGD"
   ]
  },
  {
   "cell_type": "code",
   "execution_count": 133,
   "metadata": {},
   "outputs": [
    {
     "name": "stdout",
     "output_type": "stream",
     "text": [
      "SGD: Wts after 1 iter [-3.012573  -1.9867895 -1.0640423 -0.01049    1.0535669  1.9638405]\n",
      "SGD: Wts after 2 iter [-3.025146  -1.973579  -1.1280845 -0.02098    1.1071339  1.927681 ]\n"
     ]
    }
   ],
   "source": [
    "rng = np.random.default_rng(0)\n",
    "\n",
    "wts = np.arange(-3, 3, dtype=np.float64)\n",
    "d_wts = rng.standard_normal(len(wts))\n",
    "\n",
    "optimizer = SGD()\n",
    "optimizer.prepare(wts, d_wts)\n",
    "\n",
    "new_wts_1 = optimizer.update_weights()\n",
    "new_wts_2 = optimizer.update_weights()\n",
    "\n",
    "print(f'SGD: Wts after 1 iter {new_wts_1}')\n",
    "print(f'SGD: Wts after 2 iter {new_wts_2}')"
   ]
  },
  {
   "cell_type": "markdown",
   "metadata": {},
   "source": [
    "Output should be:\n",
    "\n",
    "    SGD: Wts after 1 iter [-3.012573  -1.9867895 -1.0640423 -0.01049    1.0535669  1.9638405]\n",
    "    SGD: Wts after 2 iter [-3.025146  -1.973579  -1.1280845 -0.02098    1.1071339  1.927681 ]"
   ]
  },
  {
   "cell_type": "markdown",
   "metadata": {},
   "source": [
    "####  Test SGD_Momentum"
   ]
  },
  {
   "cell_type": "code",
   "execution_count": 134,
   "metadata": {},
   "outputs": [
    {
     "name": "stdout",
     "output_type": "stream",
     "text": [
      "SGD M: Wts after 1 iter\n",
      "[[ 0.3582333 -0.1102257  0.7650137  0.1781269]\n",
      " [-0.4812435  0.3932251  1.262837   0.8428296]\n",
      " [-0.6908818 -1.4020678 -0.556755   0.006175 ]]\n",
      "SGD M: Wts after 2 iter\n",
      "[[ 0.7302382 -0.075219   0.9643595  0.2952896]\n",
      " [-0.394162   0.4438331  1.1969761  0.6760275]\n",
      " [-0.6703162 -1.620702  -0.4503238 -0.0500666]]\n"
     ]
    }
   ],
   "source": [
    "rng = np.random.default_rng(0)\n",
    "\n",
    "wts = rng.standard_normal((3, 4))\n",
    "d_wts = rng.standard_normal((3, 4))\n",
    "\n",
    "optimizer = SGD_Momentum(lr=0.1, m=0.6)\n",
    "optimizer.prepare(wts, d_wts)\n",
    "\n",
    "new_wts_1 = optimizer.update_weights()\n",
    "new_wts_2 = optimizer.update_weights()\n",
    "\n",
    "print(f'SGD M: Wts after 1 iter\\n{new_wts_1}')\n",
    "print(f'SGD M: Wts after 2 iter\\n{new_wts_2}')"
   ]
  },
  {
   "cell_type": "markdown",
   "metadata": {},
   "source": [
    "Output should be:\n",
    "\n",
    "    SGD M: Wts after 1 iter\n",
    "    [[ 0.3582333 -0.1102257  0.7650137  0.1781269]\n",
    "    [-0.4812435  0.3932251  1.262837   0.8428296]\n",
    "    [-0.6908818 -1.4020678 -0.556755   0.006175 ]]\n",
    "    SGD M: Wts after 2 iter\n",
    "    [[ 0.7302382 -0.075219   0.9643595  0.2952896]\n",
    "    [-0.394162   0.4438331  1.1969761  0.6760275]\n",
    "    [-0.6703162 -1.620702  -0.4503238 -0.0500666]]"
   ]
  },
  {
   "cell_type": "markdown",
   "metadata": {},
   "source": [
    "####  Test Adam"
   ]
  },
  {
   "cell_type": "code",
   "execution_count": 135,
   "metadata": {},
   "outputs": [
    {
     "name": "stdout",
     "output_type": "stream",
     "text": [
      "Adam: Wts after 1 iter\n",
      "[[ 0.2257302 -0.0321049  0.7404226  0.2049001]\n",
      " [-0.4356694  0.4615951  1.204      0.847081 ]\n",
      " [-0.6037352 -1.3654215 -0.5232745 -0.058674 ]]\n",
      "Adam: Wts after 2 iter\n",
      "[[ 0.3257302  0.0678951  0.8404226  0.3049001]\n",
      " [-0.3356694  0.561595   1.104      0.747081 ]\n",
      " [-0.5037353 -1.4654215 -0.4232745 -0.158674 ]]\n",
      "Adam: Wts after 3 iter\n",
      "[[ 0.4257302  0.1678951  0.9404226  0.4049001]\n",
      " [-0.2356694  0.661595   1.0040001  0.647081 ]\n",
      " [-0.4037353 -1.5654215 -0.3232745 -0.258674 ]]\n"
     ]
    }
   ],
   "source": [
    "rng = np.random.default_rng(0)\n",
    "\n",
    "wts = rng.standard_normal((3, 4))\n",
    "d_wts = rng.standard_normal((3, 4))\n",
    "\n",
    "optimizer = Adam(lr=0.1)\n",
    "optimizer.prepare(wts, d_wts)\n",
    "\n",
    "new_wts_1 = optimizer.update_weights()\n",
    "new_wts_2 = optimizer.update_weights()\n",
    "new_wts_3 = optimizer.update_weights()\n",
    "\n",
    "print(f'Adam: Wts after 1 iter\\n{new_wts_1}')\n",
    "print(f'Adam: Wts after 2 iter\\n{new_wts_2}')\n",
    "print(f'Adam: Wts after 3 iter\\n{new_wts_3}')"
   ]
  },
  {
   "cell_type": "markdown",
   "metadata": {},
   "source": [
    "Output should be:\n",
    "\n",
    "    Adam: Wts after 1 iter\n",
    "    [[ 0.2257302 -0.0321049  0.7404226  0.2049001]\n",
    "    [-0.4356694  0.4615951  1.204      0.847081 ]\n",
    "    [-0.6037352 -1.3654215 -0.5232745 -0.058674 ]]\n",
    "    Adam: Wts after 2 iter\n",
    "    [[ 0.3257302  0.0678951  0.8404226  0.3049001]\n",
    "    [-0.3356694  0.561595   1.104      0.747081 ]\n",
    "    [-0.5037353 -1.4654215 -0.4232745 -0.158674 ]]\n",
    "    Adam: Wts after 3 iter\n",
    "    [[ 0.4257302  0.1678951  0.9404226  0.4049001]\n",
    "    [-0.2356694  0.661595   1.0040001  0.647081 ]\n",
    "    [-0.4037353 -1.5654215 -0.3232745 -0.258674 ]] "
   ]
  },
  {
   "cell_type": "markdown",
   "metadata": {},
   "source": [
    "## Task 6: Write network training methods\n",
    "\n",
    "Implement methods in `network.py` to actually train the network, using all the building blocks that you have created. The methods to implement are:\n",
    "\n",
    "- `predict`\n",
    "- `fit`"
   ]
  },
  {
   "cell_type": "markdown",
   "metadata": {},
   "source": [
    "## Task 7: Overfitting a convolutional neural network\n",
    "\n",
    "Usually we try to prevent overfitting, but we can use it as a valuable debugging tool to test out a complex backprop-based neural network. Assuming everything is working, it is almost always the case that we should be able to overfit a tiny dataset with a huge model with tons of parameters (i.e. your CNN). You will use this strategy to verify that your network is working.\n",
    "\n",
    "Let's use a small amount of real data from STL-10 to perform the overfitting test."
   ]
  },
  {
   "cell_type": "markdown",
   "metadata": {},
   "source": [
    "### 7a. Move `load_stl10_dataset` and `preprocess_data.py` from the MLP project\n",
    "\n",
    "Make the one following change in `preprocess_data.py`:\n",
    "\n",
    "- In `preprocess_stl`, Re-arrange dimensions of `imgs` so that when it is returned, `shape=(Num imgs, RGB color chans, height, width)` (No longer flatten non-batch dimensions)\n",
    "- In `load_stl10`, add an optional parameter to the function `scale_fact=3`, which specifies the factor by which to downscale the STL-10 images. The default (`scale_fact=3`) reduces the resolution from 96x96 to 32x32. Achieve this downscaling by passing along the optional parameter value when the `load` function in `load_stl10_dataset.py`."
   ]
  },
  {
   "cell_type": "code",
   "execution_count": 136,
   "metadata": {},
   "outputs": [],
   "source": [
    "import load_stl10_dataset\n",
    "import preprocess_data\n",
    "from network import ConvNet4"
   ]
  },
  {
   "cell_type": "markdown",
   "metadata": {},
   "source": [
    "### 7b. Load in STL-10 at 16x16 resolution\n",
    "\n",
    "If you don't want to wait for STL-10 to download from the internet and resize, copy over your data and numpy folders from your MLP project.\n",
    "\n",
    "**Note:** The different train/test split here won't work if you hard coded the proportions in your `create_splits` implementation! *This isn't catastrophic, it just means that it will take longer to compute accuracy on the validation set.*"
   ]
  },
  {
   "cell_type": "code",
   "execution_count": 137,
   "metadata": {},
   "outputs": [
    {
     "name": "stdout",
     "output_type": "stream",
     "text": [
      "Images are: (5000, 96, 96, 3)\n",
      "Labels are: (5000,)\n",
      "Resizing 5000 images to 16x16..."
     ]
    },
    {
     "ename": "KeyboardInterrupt",
     "evalue": "",
     "output_type": "error",
     "traceback": [
      "\u001b[0;31m---------------------------------------------------------------------------\u001b[0m",
      "\u001b[0;31mKeyboardInterrupt\u001b[0m                         Traceback (most recent call last)",
      "Cell \u001b[0;32mIn[137], line 5\u001b[0m\n\u001b[1;32m      3\u001b[0m load_stl10_dataset\u001b[38;5;241m.\u001b[39mpurge_cached_dataset()\n\u001b[1;32m      4\u001b[0m \u001b[38;5;66;03m# preprocess and create splits\u001b[39;00m\n\u001b[0;32m----> 5\u001b[0m x_train, y_train, x_test, y_test, x_val, y_val, x_dev, y_dev \u001b[38;5;241m=\u001b[39m \u001b[43mpreprocess_data\u001b[49m\u001b[38;5;241;43m.\u001b[39;49m\u001b[43mload_stl10\u001b[49m\u001b[43m(\u001b[49m\n\u001b[1;32m      6\u001b[0m \u001b[43m    \u001b[49m\u001b[43mn_train_samps\u001b[49m\u001b[38;5;241;43m=\u001b[39;49m\u001b[38;5;241;43m4578\u001b[39;49m\u001b[43m,\u001b[49m\u001b[43m \u001b[49m\u001b[43mn_test_samps\u001b[49m\u001b[38;5;241;43m=\u001b[39;49m\u001b[38;5;241;43m400\u001b[39;49m\u001b[43m,\u001b[49m\u001b[43m \u001b[49m\u001b[43mn_valid_samps\u001b[49m\u001b[38;5;241;43m=\u001b[39;49m\u001b[38;5;241;43m2\u001b[39;49m\u001b[43m,\u001b[49m\u001b[43m \u001b[49m\u001b[43mn_dev_samps\u001b[49m\u001b[38;5;241;43m=\u001b[39;49m\u001b[38;5;241;43m20\u001b[39;49m\u001b[43m,\u001b[49m\u001b[43m \u001b[49m\u001b[43mscale_fact\u001b[49m\u001b[38;5;241;43m=\u001b[39;49m\u001b[38;5;241;43m6\u001b[39;49m\u001b[43m)\u001b[49m\n\u001b[1;32m      8\u001b[0m \u001b[38;5;28mprint\u001b[39m (\u001b[38;5;124m'\u001b[39m\u001b[38;5;124mTrain data shape: \u001b[39m\u001b[38;5;124m'\u001b[39m, x_train\u001b[38;5;241m.\u001b[39mshape)\n\u001b[1;32m      9\u001b[0m \u001b[38;5;28mprint\u001b[39m (\u001b[38;5;124m'\u001b[39m\u001b[38;5;124mTrain labels shape: \u001b[39m\u001b[38;5;124m'\u001b[39m, y_train\u001b[38;5;241m.\u001b[39mshape)\n",
      "File \u001b[0;32m~/Downloads/Colby College/neuron_networks/project3/preprocess_data.py:113\u001b[0m, in \u001b[0;36mload_stl10\u001b[0;34m(n_train_samps, n_test_samps, n_valid_samps, n_dev_samps, scale_fact)\u001b[0m\n\u001b[1;32m     94\u001b[0m \u001b[38;5;250m\u001b[39m\u001b[38;5;124;03m'''Automates the process of:\u001b[39;00m\n\u001b[1;32m     95\u001b[0m \u001b[38;5;124;03m- loading in the STL-10 dataset and labels\u001b[39;00m\n\u001b[1;32m     96\u001b[0m \u001b[38;5;124;03m- preprocessing\u001b[39;00m\n\u001b[0;32m   (...)\u001b[0m\n\u001b[1;32m    109\u001b[0m \u001b[38;5;124;03my_dev (development labels)\u001b[39;00m\n\u001b[1;32m    110\u001b[0m \u001b[38;5;124;03m'''\u001b[39;00m\n\u001b[1;32m    112\u001b[0m \u001b[38;5;66;03m#loading in STL-10 dataset and labels\u001b[39;00m\n\u001b[0;32m--> 113\u001b[0m imgs, labels \u001b[38;5;241m=\u001b[39m \u001b[43mload_stl10_dataset\u001b[49m\u001b[38;5;241;43m.\u001b[39;49m\u001b[43mload\u001b[49m\u001b[43m(\u001b[49m\u001b[43mscale_fact\u001b[49m\u001b[38;5;241;43m=\u001b[39;49m\u001b[43mscale_fact\u001b[49m\u001b[43m)\u001b[49m\n\u001b[1;32m    115\u001b[0m \u001b[38;5;66;03m#preprocessing\u001b[39;00m\n\u001b[1;32m    116\u001b[0m imgs, labels \u001b[38;5;241m=\u001b[39m preprocess_stl(imgs, labels)\n",
      "File \u001b[0;32m~/Downloads/Colby College/neuron_networks/project3/load_stl10_dataset.py:226\u001b[0m, in \u001b[0;36mload\u001b[0;34m(save_imgs_to_disk, cache_binaries_to_disk, scale_fact)\u001b[0m\n\u001b[1;32m    223\u001b[0m \u001b[38;5;28mprint\u001b[39m(\u001b[38;5;124mf\u001b[39m\u001b[38;5;124m'\u001b[39m\u001b[38;5;124mLabels are: \u001b[39m\u001b[38;5;132;01m{\u001b[39;00mlabels\u001b[38;5;241m.\u001b[39mshape\u001b[38;5;132;01m}\u001b[39;00m\u001b[38;5;124m'\u001b[39m)\n\u001b[1;32m    225\u001b[0m \u001b[38;5;66;03m# resize images to desired resolution, optionally save them to disk\u001b[39;00m\n\u001b[0;32m--> 226\u001b[0m images \u001b[38;5;241m=\u001b[39m \u001b[43mresize_images\u001b[49m\u001b[43m(\u001b[49m\u001b[43mimages\u001b[49m\u001b[43m,\u001b[49m\u001b[43m \u001b[49m\u001b[43mscale_fact\u001b[49m\u001b[38;5;241;43m=\u001b[39;49m\u001b[43mscale_fact\u001b[49m\u001b[43m)\u001b[49m\n\u001b[1;32m    228\u001b[0m \u001b[38;5;66;03m# Save images to disk in PNG format\u001b[39;00m\n\u001b[1;32m    229\u001b[0m \u001b[38;5;28;01mif\u001b[39;00m save_imgs_to_disk:\n",
      "File \u001b[0;32m~/Downloads/Colby College/neuron_networks/project3/load_stl10_dataset.py:167\u001b[0m, in \u001b[0;36mresize_images\u001b[0;34m(imgs, scale_fact)\u001b[0m\n\u001b[1;32m    165\u001b[0m \u001b[38;5;28;01mfor\u001b[39;00m i \u001b[38;5;129;01min\u001b[39;00m \u001b[38;5;28mrange\u001b[39m(num_imgs):\n\u001b[1;32m    166\u001b[0m     currImg \u001b[38;5;241m=\u001b[39m Image\u001b[38;5;241m.\u001b[39mfromarray(imgs[i, :, :, :])\n\u001b[0;32m--> 167\u001b[0m     currImg \u001b[38;5;241m=\u001b[39m \u001b[43mcurrImg\u001b[49m\u001b[38;5;241;43m.\u001b[39;49m\u001b[43mresize\u001b[49m\u001b[43m(\u001b[49m\u001b[43msize\u001b[49m\u001b[38;5;241;43m=\u001b[39;49m\u001b[43m(\u001b[49m\u001b[43mHEIGHT\u001b[49m\u001b[38;5;241;43m/\u001b[39;49m\u001b[38;5;241;43m/\u001b[39;49m\u001b[43mscale_fact\u001b[49m\u001b[43m,\u001b[49m\u001b[43m \u001b[49m\u001b[43mWIDTH\u001b[49m\u001b[38;5;241;43m/\u001b[39;49m\u001b[38;5;241;43m/\u001b[39;49m\u001b[43mscale_fact\u001b[49m\u001b[43m)\u001b[49m\u001b[43m)\u001b[49m\n\u001b[1;32m    168\u001b[0m     scaled_imgs[i, :, :, :] \u001b[38;5;241m=\u001b[39m np\u001b[38;5;241m.\u001b[39marray(currImg, dtype\u001b[38;5;241m=\u001b[39mnp\u001b[38;5;241m.\u001b[39muint8)\n\u001b[1;32m    170\u001b[0m \u001b[38;5;28mprint\u001b[39m(\u001b[38;5;124m'\u001b[39m\u001b[38;5;124mDone!\u001b[39m\u001b[38;5;124m'\u001b[39m)\n",
      "File \u001b[0;32m/Library/Frameworks/Python.framework/Versions/3.10/lib/python3.10/site-packages/PIL/Image.py:2192\u001b[0m, in \u001b[0;36mImage.resize\u001b[0;34m(self, size, resample, box, reducing_gap)\u001b[0m\n\u001b[1;32m   2184\u001b[0m             \u001b[38;5;28mself\u001b[39m \u001b[38;5;241m=\u001b[39m Image\u001b[38;5;241m.\u001b[39mreduce(\u001b[38;5;28mself\u001b[39m, factor, box\u001b[38;5;241m=\u001b[39mreduce_box)\n\u001b[1;32m   2185\u001b[0m         box \u001b[38;5;241m=\u001b[39m (\n\u001b[1;32m   2186\u001b[0m             (box[\u001b[38;5;241m0\u001b[39m] \u001b[38;5;241m-\u001b[39m reduce_box[\u001b[38;5;241m0\u001b[39m]) \u001b[38;5;241m/\u001b[39m factor_x,\n\u001b[1;32m   2187\u001b[0m             (box[\u001b[38;5;241m1\u001b[39m] \u001b[38;5;241m-\u001b[39m reduce_box[\u001b[38;5;241m1\u001b[39m]) \u001b[38;5;241m/\u001b[39m factor_y,\n\u001b[1;32m   2188\u001b[0m             (box[\u001b[38;5;241m2\u001b[39m] \u001b[38;5;241m-\u001b[39m reduce_box[\u001b[38;5;241m0\u001b[39m]) \u001b[38;5;241m/\u001b[39m factor_x,\n\u001b[1;32m   2189\u001b[0m             (box[\u001b[38;5;241m3\u001b[39m] \u001b[38;5;241m-\u001b[39m reduce_box[\u001b[38;5;241m1\u001b[39m]) \u001b[38;5;241m/\u001b[39m factor_y,\n\u001b[1;32m   2190\u001b[0m         )\n\u001b[0;32m-> 2192\u001b[0m \u001b[38;5;28;01mreturn\u001b[39;00m \u001b[38;5;28mself\u001b[39m\u001b[38;5;241m.\u001b[39m_new(\u001b[38;5;28;43mself\u001b[39;49m\u001b[38;5;241;43m.\u001b[39;49m\u001b[43mim\u001b[49m\u001b[38;5;241;43m.\u001b[39;49m\u001b[43mresize\u001b[49m\u001b[43m(\u001b[49m\u001b[43msize\u001b[49m\u001b[43m,\u001b[49m\u001b[43m \u001b[49m\u001b[43mresample\u001b[49m\u001b[43m,\u001b[49m\u001b[43m \u001b[49m\u001b[43mbox\u001b[49m\u001b[43m)\u001b[49m)\n",
      "\u001b[0;31mKeyboardInterrupt\u001b[0m: "
     ]
    }
   ],
   "source": [
    "# Download the STL-10 dataset from the internet, convert it to Numpy ndarray, resize to 16x16\n",
    "# cache it locally on your computer for faster loading next time.\n",
    "load_stl10_dataset.purge_cached_dataset()\n",
    "# preprocess and create splits\n",
    "x_train, y_train, x_test, y_test, x_val, y_val, x_dev, y_dev = preprocess_data.load_stl10(\n",
    "    n_train_samps=4578, n_test_samps=400, n_valid_samps=2, n_dev_samps=20, scale_fact=6)\n",
    "\n",
    "print ('Train data shape: ', x_train.shape)\n",
    "print ('Train labels shape: ', y_train.shape)\n",
    "print ('Test data shape: ', x_test.shape)\n",
    "print ('Test labels shape: ', y_test.shape)\n",
    "print ('Validation data shape: ', x_val.shape)\n",
    "print ('Validation labels shape: ', y_val.shape)\n",
    "print ('dev data shape: ', x_dev.shape)\n",
    "print ('dev labels shape: ', y_dev.shape)"
   ]
  },
  {
   "cell_type": "markdown",
   "metadata": {},
   "source": [
    "### 7c. Train and overfit the network on a small STL-10 sample with each optimizer\n",
    "\n",
    "#### Goal\n",
    "\n",
    "If your network works, you should see a drop in loss over epochs to 0 from the initial value of ~2.3.\n",
    "\n",
    "#### Todo\n",
    "\n",
    "In 3 seperate cells below\n",
    "\n",
    "- Create 3 different `ConvNet4` networks.\n",
    "- Compile each with a different optimizer — SGD, SGD-M, and Adam (i.e. each net uses a different optimizer and skip AdamW here).\n",
    "- Train each on the **dev** set and validate on the tiny validation set (we don't care about out-of-training-set performance here).\n",
    "\n",
    "You will be making plots demonstrating the overfitting for each optimizer below. **You should train the nets with the same number of epochs such that at least 2/3 of them clearly show loss convergence to a small value; one optimizer may not converge yet, and that's ok**. Cut off the simulations based on the 2/3 that do converge.\n",
    "\n",
    "#### Guidelines\n",
    "\n",
    "- To set up a fair comparison across optimizers, you should train your networks with the same hyperparameters each time (*e.g. don't use a different learning rate for different optimizers*).\n",
    "- Weight scales and learning rates of `1e-2` should work well.\n",
    "- Start by testing the Adam optimizer.\n",
    "- Remember that the input shape is (3, 16, 16). You need to specify this to the network constructor.\n",
    "- The hyperparameters are up to you, though I wouldn't recommend a batch size that is too small (close to 1), otherwise it may be tricky to see whether the loss is actually decreasing on average.\n",
    "- Decreasing `acc_freq` will make the `fit` function evaluate the training and validation accuracy more often. This is a computationally intensive process, so small values come with an increase in training time. On the other hand, checking the accuracy too infrequently means you won't know whether the network is trending toward overfitting the training data, which is what you're checking for.\n",
    "- Each training session takes ~15 mins on my laptop.\n",
    "\n",
    "#### Caveat emptor\n",
    "\n",
    "Training convolutional networks is notoriously computationally intensive. If you experiment with hyperparameters, each training session may take several hours.\n",
    "\n",
    "- Use the loss/accuracy print outs to quickly gauge whether your hyperparameter choices are getting your network to decrease in loss.\n",
    "- Monitor print outs and interrupt the Jupyter kernel if things are not trending in the right direction."
   ]
  },
  {
   "cell_type": "code",
   "execution_count": 148,
   "metadata": {
    "deletable": false,
    "nbgrader": {
     "cell_type": "code",
     "checksum": "5ccc22a665b5f8a35fcaf0c7b59f6081",
     "grade": false,
     "grade_id": "cell-616229ec1b971c8e",
     "locked": false,
     "schema_version": 3,
     "solution": true,
     "task": false
    }
   },
   "outputs": [],
   "source": [
    "# Create 3 different ConvNet4 networks\n",
    "net1 = ConvNet4(input_shape=(3, 16, 16), n_classes=10, wt_scale=1e-2, verbose=False)\n",
    "net2 = ConvNet4(input_shape=(3, 16, 16), n_classes=10, wt_scale=1e-2, verbose=False)\n",
    "net3 = ConvNet4(input_shape=(3, 16, 16), n_classes=10, wt_scale=1e-2, verbose=False)"
   ]
  },
  {
   "cell_type": "code",
   "execution_count": null,
   "metadata": {
    "deletable": false,
    "nbgrader": {
     "cell_type": "code",
     "checksum": "362e68c6f988c8ede01402f98693085d",
     "grade": false,
     "grade_id": "cell-450f35663458d2ea",
     "locked": false,
     "schema_version": 3,
     "solution": true,
     "task": false
    }
   },
   "outputs": [
    {
     "name": "stdout",
     "output_type": "stream",
     "text": [
      "Loss:  0.024038877920117628 ; Iteration number:  0\n",
      "Training accuracy:  0.45 ; Validation accuracy:  0.5\n",
      "Run time of interation 0 of epoch 0 in seconds:  7.065786838531494\n",
      "Loss:  3.974609404297404 ; Iteration number:  0\n",
      "Training accuracy:  0.95 ; Validation accuracy:  0.0\n",
      "Run time of interation 0 of epoch 1 in seconds:  6.118149995803833\n",
      "Loss:  0.08261669117302187 ; Iteration number:  0\n",
      "Training accuracy:  0.65 ; Validation accuracy:  0.0\n",
      "Run time of interation 0 of epoch 2 in seconds:  6.121220111846924\n",
      "Loss:  1.0957453248823243 ; Iteration number:  0\n",
      "Training accuracy:  0.7 ; Validation accuracy:  0.0\n",
      "Run time of interation 0 of epoch 3 in seconds:  5.717951059341431\n",
      "Loss:  1.3895950665993033 ; Iteration number:  0\n",
      "Training accuracy:  0.8 ; Validation accuracy:  0.5\n",
      "Run time of interation 0 of epoch 4 in seconds:  5.648542881011963\n",
      "Loss:  0.5391196641857121 ; Iteration number:  0\n",
      "Training accuracy:  0.85 ; Validation accuracy:  0.5\n",
      "Run time of interation 0 of epoch 5 in seconds:  5.713680982589722\n",
      "Loss:  0.1908887502400467 ; Iteration number:  0\n",
      "Training accuracy:  0.7 ; Validation accuracy:  0.0\n",
      "Run time of interation 0 of epoch 6 in seconds:  5.695995330810547\n",
      "Loss:  0.48161568251596104 ; Iteration number:  0\n",
      "Training accuracy:  0.7 ; Validation accuracy:  0.0\n",
      "Run time of interation 0 of epoch 7 in seconds:  6.366667985916138\n",
      "Loss:  0.752098610927029 ; Iteration number:  0\n",
      "Training accuracy:  0.85 ; Validation accuracy:  0.0\n",
      "Run time of interation 0 of epoch 8 in seconds:  5.6478681564331055\n",
      "Loss:  0.8995569161444642 ; Iteration number:  0\n",
      "Training accuracy:  0.8 ; Validation accuracy:  0.5\n",
      "Run time of interation 0 of epoch 9 in seconds:  5.720165252685547\n",
      "Loss:  0.10992433135788812 ; Iteration number:  0\n",
      "Training accuracy:  0.75 ; Validation accuracy:  0.0\n",
      "Run time of interation 0 of epoch 10 in seconds:  5.638056039810181\n",
      "Loss:  0.894330107481858 ; Iteration number:  0\n",
      "Training accuracy:  0.85 ; Validation accuracy:  0.0\n",
      "Run time of interation 0 of epoch 11 in seconds:  5.626226902008057\n",
      "Loss:  0.04231194727750839 ; Iteration number:  0\n",
      "Training accuracy:  0.9 ; Validation accuracy:  0.0\n",
      "Run time of interation 0 of epoch 12 in seconds:  5.687682151794434\n",
      "Loss:  0.815155480806348 ; Iteration number:  0\n",
      "Training accuracy:  0.9 ; Validation accuracy:  0.0\n",
      "Run time of interation 0 of epoch 13 in seconds:  5.6168859004974365\n",
      "Loss:  0.13200614237093938 ; Iteration number:  0\n",
      "Training accuracy:  0.9 ; Validation accuracy:  0.0\n",
      "Run time of interation 0 of epoch 14 in seconds:  5.814474105834961\n",
      "Loss:  0.32256550369622755 ; Iteration number:  0\n",
      "Training accuracy:  0.85 ; Validation accuracy:  0.0\n",
      "Run time of interation 0 of epoch 15 in seconds:  6.123695135116577\n",
      "Loss:  0.3679808896708055 ; Iteration number:  0\n",
      "Training accuracy:  0.8 ; Validation accuracy:  0.0\n",
      "Run time of interation 0 of epoch 16 in seconds:  5.981801986694336\n",
      "Loss:  1.3803332633316718 ; Iteration number:  0\n",
      "Training accuracy:  0.95 ; Validation accuracy:  0.0\n",
      "Run time of interation 0 of epoch 17 in seconds:  5.919640779495239\n",
      "Loss:  0.18358583837827785 ; Iteration number:  0\n",
      "Training accuracy:  1.0 ; Validation accuracy:  0.0\n",
      "Run time of interation 0 of epoch 18 in seconds:  6.149184942245483\n",
      "Loss:  0.00142812537873537 ; Iteration number:  0\n",
      "Training accuracy:  1.0 ; Validation accuracy:  0.0\n",
      "Run time of interation 0 of epoch 19 in seconds:  5.836971998214722\n",
      "Loss:  0.026430283589336072 ; Iteration number:  0\n"
     ]
    }
   ],
   "source": [
    "# Adam\n",
    "# Compilet net1 with Adam optimizer\n",
    "net1.compile(optimizer_name='adam', lr=1e-2)\n",
    "loss_history_adam, train_acc_history_adam, val_acc_adam = net1.fit(x_dev, y_dev, x_val, y_val, mini_batch_sz = 15, n_epochs=50, acc_freq=2, print_every=6)"
   ]
  },
  {
   "cell_type": "code",
   "execution_count": 164,
   "metadata": {
    "deletable": false,
    "nbgrader": {
     "cell_type": "code",
     "checksum": "73b5278f29cfeea6817f19a9e2e8f9b0",
     "grade": false,
     "grade_id": "cell-b67d219d22b09bd6",
     "locked": false,
     "schema_version": 3,
     "solution": true,
     "task": false
    }
   },
   "outputs": [
    {
     "name": "stdout",
     "output_type": "stream",
     "text": [
      "Loss:  0.5550653069083114 ; Iteration number:  0\n",
      "Training accuracy:  0.8 ; Validation accuracy:  0.0\n",
      "Run time of interation 0 of epoch 0 in seconds:  5.840843915939331\n",
      "Loss:  0.5183646534561899 ; Iteration number:  0\n",
      "Training accuracy:  0.75 ; Validation accuracy:  0.0\n",
      "Run time of interation 0 of epoch 1 in seconds:  6.1038079261779785\n",
      "Loss:  0.4928113143411887 ; Iteration number:  0\n",
      "Training accuracy:  0.85 ; Validation accuracy:  0.0\n",
      "Run time of interation 0 of epoch 2 in seconds:  5.729583024978638\n",
      "Loss:  0.22131724497389269 ; Iteration number:  0\n",
      "Training accuracy:  0.85 ; Validation accuracy:  0.0\n",
      "Run time of interation 0 of epoch 3 in seconds:  5.652184009552002\n",
      "Loss:  0.3652186772236427 ; Iteration number:  0\n",
      "Training accuracy:  0.8 ; Validation accuracy:  0.0\n",
      "Run time of interation 0 of epoch 4 in seconds:  5.679261922836304\n",
      "Loss:  0.5247701618901849 ; Iteration number:  0\n",
      "Training accuracy:  0.8 ; Validation accuracy:  0.0\n",
      "Run time of interation 0 of epoch 5 in seconds:  5.716361999511719\n",
      "Loss:  0.7538662880359079 ; Iteration number:  0\n",
      "Training accuracy:  0.8 ; Validation accuracy:  0.0\n",
      "Run time of interation 0 of epoch 6 in seconds:  5.803750991821289\n",
      "Loss:  0.27544308981239934 ; Iteration number:  0\n",
      "Training accuracy:  0.8 ; Validation accuracy:  0.0\n",
      "Run time of interation 0 of epoch 7 in seconds:  5.665113687515259\n",
      "Loss:  0.4526470278093057 ; Iteration number:  0\n",
      "Training accuracy:  0.8 ; Validation accuracy:  0.0\n",
      "Run time of interation 0 of epoch 8 in seconds:  6.063993215560913\n",
      "Loss:  0.6329039014793191 ; Iteration number:  0\n",
      "Training accuracy:  0.85 ; Validation accuracy:  0.0\n",
      "Run time of interation 0 of epoch 9 in seconds:  5.798919916152954\n",
      "Loss:  0.4621144567209694 ; Iteration number:  0\n",
      "Training accuracy:  0.9 ; Validation accuracy:  0.0\n",
      "Run time of interation 0 of epoch 10 in seconds:  5.631667137145996\n",
      "Loss:  0.32932799448986577 ; Iteration number:  0\n",
      "Training accuracy:  0.95 ; Validation accuracy:  0.0\n",
      "Run time of interation 0 of epoch 11 in seconds:  5.958743095397949\n",
      "Loss:  0.2895861620592588 ; Iteration number:  0\n",
      "Training accuracy:  0.95 ; Validation accuracy:  0.0\n",
      "Run time of interation 0 of epoch 12 in seconds:  5.644675254821777\n",
      "Loss:  0.21716119915682064 ; Iteration number:  0\n",
      "Training accuracy:  0.95 ; Validation accuracy:  0.0\n",
      "Run time of interation 0 of epoch 13 in seconds:  5.811769247055054\n",
      "Loss:  0.5646872748088508 ; Iteration number:  0\n",
      "Training accuracy:  0.95 ; Validation accuracy:  0.0\n",
      "Run time of interation 0 of epoch 14 in seconds:  5.870497941970825\n",
      "Loss:  0.4215461549326625 ; Iteration number:  0\n",
      "Training accuracy:  0.95 ; Validation accuracy:  0.0\n",
      "Run time of interation 0 of epoch 15 in seconds:  5.6960062980651855\n",
      "Loss:  0.3627632520485079 ; Iteration number:  0\n",
      "Training accuracy:  1.0 ; Validation accuracy:  0.0\n",
      "Run time of interation 0 of epoch 16 in seconds:  5.760335922241211\n",
      "Loss:  0.23866368229938353 ; Iteration number:  0\n",
      "Training accuracy:  0.95 ; Validation accuracy:  0.0\n",
      "Run time of interation 0 of epoch 17 in seconds:  5.612051963806152\n",
      "Loss:  0.21337296297269528 ; Iteration number:  0\n",
      "Training accuracy:  0.95 ; Validation accuracy:  0.0\n",
      "Run time of interation 0 of epoch 18 in seconds:  5.8132359981536865\n",
      "Loss:  0.16978303160006303 ; Iteration number:  0\n",
      "Training accuracy:  0.95 ; Validation accuracy:  0.0\n",
      "Run time of interation 0 of epoch 19 in seconds:  5.642163991928101\n",
      "Loss:  0.18424760187016065 ; Iteration number:  0\n",
      "Training accuracy:  0.95 ; Validation accuracy:  0.0\n",
      "Run time of interation 0 of epoch 20 in seconds:  5.692147970199585\n",
      "Loss:  0.3023427151680088 ; Iteration number:  0\n",
      "Training accuracy:  0.95 ; Validation accuracy:  0.0\n",
      "Run time of interation 0 of epoch 21 in seconds:  5.6898698806762695\n",
      "Loss:  0.15876353865844395 ; Iteration number:  0\n",
      "Training accuracy:  1.0 ; Validation accuracy:  0.0\n",
      "Run time of interation 0 of epoch 22 in seconds:  5.746277332305908\n",
      "Loss:  0.024962935417263722 ; Iteration number:  0\n",
      "Training accuracy:  1.0 ; Validation accuracy:  0.0\n",
      "Run time of interation 0 of epoch 23 in seconds:  6.395197153091431\n",
      "Loss:  0.10193287148317148 ; Iteration number:  0\n",
      "Training accuracy:  1.0 ; Validation accuracy:  0.0\n",
      "Run time of interation 0 of epoch 24 in seconds:  6.003327131271362\n",
      "Loss:  0.1475517656233071 ; Iteration number:  0\n",
      "Training accuracy:  1.0 ; Validation accuracy:  0.0\n",
      "Run time of interation 0 of epoch 25 in seconds:  5.863978862762451\n",
      "Loss:  0.12906461943419517 ; Iteration number:  0\n",
      "Training accuracy:  1.0 ; Validation accuracy:  0.0\n",
      "Run time of interation 0 of epoch 26 in seconds:  5.769192934036255\n",
      "Loss:  0.057347176953672516 ; Iteration number:  0\n",
      "Training accuracy:  0.95 ; Validation accuracy:  0.0\n",
      "Run time of interation 0 of epoch 27 in seconds:  5.855660676956177\n",
      "Loss:  0.04906198222447443 ; Iteration number:  0\n",
      "Training accuracy:  0.95 ; Validation accuracy:  0.0\n",
      "Run time of interation 0 of epoch 28 in seconds:  5.840743064880371\n",
      "Loss:  0.06296161698809521 ; Iteration number:  0\n",
      "Training accuracy:  0.95 ; Validation accuracy:  0.0\n",
      "Run time of interation 0 of epoch 29 in seconds:  5.649049997329712\n",
      "Loss:  0.1828221751502114 ; Iteration number:  0\n",
      "Training accuracy:  0.95 ; Validation accuracy:  0.0\n",
      "Run time of interation 0 of epoch 30 in seconds:  5.735328197479248\n",
      "Loss:  0.05465237525217997 ; Iteration number:  0\n",
      "Training accuracy:  1.0 ; Validation accuracy:  0.0\n",
      "Run time of interation 0 of epoch 31 in seconds:  5.63676905632019\n",
      "Loss:  0.06376741213142754 ; Iteration number:  0\n",
      "Training accuracy:  1.0 ; Validation accuracy:  0.0\n",
      "Run time of interation 0 of epoch 32 in seconds:  5.675307035446167\n",
      "Loss:  0.056651816743356176 ; Iteration number:  0\n",
      "Training accuracy:  1.0 ; Validation accuracy:  0.0\n",
      "Run time of interation 0 of epoch 33 in seconds:  5.67362904548645\n",
      "Loss:  0.02485923022843255 ; Iteration number:  0\n",
      "Training accuracy:  1.0 ; Validation accuracy:  0.0\n",
      "Run time of interation 0 of epoch 34 in seconds:  5.73429799079895\n",
      "Loss:  0.05168954956158972 ; Iteration number:  0\n",
      "Training accuracy:  1.0 ; Validation accuracy:  0.0\n",
      "Run time of interation 0 of epoch 35 in seconds:  5.667918920516968\n",
      "Loss:  0.021413119282323895 ; Iteration number:  0\n",
      "Training accuracy:  1.0 ; Validation accuracy:  0.0\n",
      "Run time of interation 0 of epoch 36 in seconds:  5.642210960388184\n",
      "Loss:  0.027512548447406252 ; Iteration number:  0\n",
      "Training accuracy:  1.0 ; Validation accuracy:  0.0\n",
      "Run time of interation 0 of epoch 37 in seconds:  5.698030948638916\n",
      "Loss:  0.047204039197946496 ; Iteration number:  0\n",
      "Training accuracy:  1.0 ; Validation accuracy:  0.0\n",
      "Run time of interation 0 of epoch 38 in seconds:  5.684060096740723\n",
      "Loss:  0.0144081841405905 ; Iteration number:  0\n",
      "Training accuracy:  1.0 ; Validation accuracy:  0.0\n",
      "Run time of interation 0 of epoch 39 in seconds:  10.462430000305176\n",
      "Loss:  0.02673082869084498 ; Iteration number:  0\n",
      "Training accuracy:  1.0 ; Validation accuracy:  0.0\n",
      "Run time of interation 0 of epoch 40 in seconds:  6.0957372188568115\n",
      "Loss:  0.08917648604778707 ; Iteration number:  0\n",
      "Training accuracy:  1.0 ; Validation accuracy:  0.0\n",
      "Run time of interation 0 of epoch 41 in seconds:  6.038310289382935\n",
      "Loss:  0.1281440434650287 ; Iteration number:  0\n",
      "Training accuracy:  1.0 ; Validation accuracy:  0.0\n",
      "Run time of interation 0 of epoch 42 in seconds:  5.764524698257446\n",
      "Loss:  0.010785123185004089 ; Iteration number:  0\n",
      "Training accuracy:  1.0 ; Validation accuracy:  0.0\n",
      "Run time of interation 0 of epoch 43 in seconds:  5.88546085357666\n",
      "Loss:  0.014627562149725144 ; Iteration number:  0\n",
      "Training accuracy:  1.0 ; Validation accuracy:  0.0\n",
      "Run time of interation 0 of epoch 44 in seconds:  5.752519845962524\n",
      "Loss:  0.02500214587198254 ; Iteration number:  0\n",
      "Training accuracy:  1.0 ; Validation accuracy:  0.0\n",
      "Run time of interation 0 of epoch 45 in seconds:  6.519495964050293\n",
      "Loss:  0.027515626293241877 ; Iteration number:  0\n",
      "Training accuracy:  1.0 ; Validation accuracy:  0.0\n",
      "Run time of interation 0 of epoch 46 in seconds:  6.064949989318848\n",
      "Loss:  0.021393598600843854 ; Iteration number:  0\n",
      "Training accuracy:  1.0 ; Validation accuracy:  0.0\n",
      "Run time of interation 0 of epoch 47 in seconds:  5.99164891242981\n",
      "Loss:  0.023240057189584894 ; Iteration number:  0\n",
      "Training accuracy:  1.0 ; Validation accuracy:  0.0\n",
      "Run time of interation 0 of epoch 48 in seconds:  5.913193941116333\n",
      "Loss:  0.006257629995056187 ; Iteration number:  0\n",
      "Training accuracy:  1.0 ; Validation accuracy:  0.0\n",
      "Run time of interation 0 of epoch 49 in seconds:  5.684092998504639\n",
      "Total training time in seconds:  295.3228847980499\n"
     ]
    }
   ],
   "source": [
    "# SGD-M\n",
    "\n",
    "# Compilet net2 with SGD-M optimizer\n",
    "net2.compile(optimizer_name='sgd_momentum', lr=1e-2)\n",
    "loss_sgd_m, accuracy_sgd_m, val_acc_sgd_m = net2.fit(x_dev, y_dev, x_val, y_val, mini_batch_sz = 15, n_epochs=50, acc_freq=2, print_every=6)"
   ]
  },
  {
   "cell_type": "code",
   "execution_count": null,
   "metadata": {
    "deletable": false,
    "nbgrader": {
     "cell_type": "code",
     "checksum": "fa0a8590132bd1be35f8a3267375580e",
     "grade": false,
     "grade_id": "cell-90cb424c34e3ed33",
     "locked": false,
     "schema_version": 3,
     "solution": true,
     "task": false
    }
   },
   "outputs": [
    {
     "name": "stdout",
     "output_type": "stream",
     "text": [
      "Loss:  2.1462571418673684 ; Iteration number:  0\n",
      "Training accuracy:  0.25 ; Validation accuracy:  0.5\n",
      "Run time of interation 0 of epoch 0 in seconds:  5.704949140548706\n",
      "Loss:  2.0462078666730745 ; Iteration number:  0\n",
      "Training accuracy:  0.25 ; Validation accuracy:  0.5\n",
      "Run time of interation 0 of epoch 1 in seconds:  5.762237071990967\n",
      "Loss:  2.1369357804896727 ; Iteration number:  0\n",
      "Training accuracy:  0.25 ; Validation accuracy:  0.5\n",
      "Run time of interation 0 of epoch 2 in seconds:  5.710636854171753\n",
      "Loss:  2.064213519732321 ; Iteration number:  0\n",
      "Training accuracy:  0.25 ; Validation accuracy:  0.5\n",
      "Run time of interation 0 of epoch 3 in seconds:  5.818110227584839\n",
      "Loss:  2.227304388245522 ; Iteration number:  0\n",
      "Training accuracy:  0.25 ; Validation accuracy:  0.5\n",
      "Run time of interation 0 of epoch 4 in seconds:  7.182223081588745\n",
      "Loss:  2.0667737904152523 ; Iteration number:  0\n",
      "Training accuracy:  0.25 ; Validation accuracy:  0.5\n",
      "Run time of interation 0 of epoch 5 in seconds:  5.766700744628906\n",
      "Loss:  2.1423203900175953 ; Iteration number:  0\n",
      "Training accuracy:  0.25 ; Validation accuracy:  0.5\n",
      "Run time of interation 0 of epoch 6 in seconds:  5.776350021362305\n",
      "Loss:  2.0155564881064953 ; Iteration number:  0\n",
      "Training accuracy:  0.25 ; Validation accuracy:  0.5\n",
      "Run time of interation 0 of epoch 7 in seconds:  5.795124053955078\n",
      "Loss:  2.1327246445652848 ; Iteration number:  0\n",
      "Training accuracy:  0.25 ; Validation accuracy:  0.5\n",
      "Run time of interation 0 of epoch 8 in seconds:  5.721276044845581\n",
      "Loss:  2.156638301753826 ; Iteration number:  0\n",
      "Training accuracy:  0.25 ; Validation accuracy:  0.5\n",
      "Run time of interation 0 of epoch 9 in seconds:  6.026993989944458\n",
      "Loss:  2.056023280759084 ; Iteration number:  0\n",
      "Training accuracy:  0.25 ; Validation accuracy:  0.5\n",
      "Run time of interation 0 of epoch 10 in seconds:  6.112149953842163\n",
      "Loss:  2.0726777237854423 ; Iteration number:  0\n",
      "Training accuracy:  0.25 ; Validation accuracy:  0.5\n",
      "Run time of interation 0 of epoch 11 in seconds:  6.982436895370483\n",
      "Loss:  2.2410079695667235 ; Iteration number:  0\n",
      "Training accuracy:  0.25 ; Validation accuracy:  0.5\n",
      "Run time of interation 0 of epoch 12 in seconds:  7.243379831314087\n",
      "Loss:  2.1464731390332625 ; Iteration number:  0\n",
      "Training accuracy:  0.25 ; Validation accuracy:  0.5\n",
      "Run time of interation 0 of epoch 13 in seconds:  5.821195602416992\n",
      "Loss:  2.0308417248309563 ; Iteration number:  0\n",
      "Training accuracy:  0.25 ; Validation accuracy:  0.5\n",
      "Run time of interation 0 of epoch 14 in seconds:  6.241502046585083\n",
      "Loss:  2.2355677914511367 ; Iteration number:  0\n",
      "Training accuracy:  0.25 ; Validation accuracy:  0.5\n",
      "Run time of interation 0 of epoch 15 in seconds:  6.343087911605835\n",
      "Loss:  2.01928476434689 ; Iteration number:  0\n",
      "Training accuracy:  0.25 ; Validation accuracy:  0.5\n",
      "Run time of interation 0 of epoch 16 in seconds:  5.975549936294556\n",
      "Loss:  2.2485272272494963 ; Iteration number:  0\n",
      "Training accuracy:  0.25 ; Validation accuracy:  0.5\n",
      "Run time of interation 0 of epoch 17 in seconds:  5.719627141952515\n",
      "Loss:  2.0241374208424165 ; Iteration number:  0\n",
      "Training accuracy:  0.25 ; Validation accuracy:  0.5\n",
      "Run time of interation 0 of epoch 18 in seconds:  5.843522071838379\n",
      "Loss:  1.954399666177734 ; Iteration number:  0\n",
      "Training accuracy:  0.25 ; Validation accuracy:  0.5\n",
      "Run time of interation 0 of epoch 19 in seconds:  6.397960186004639\n",
      "Loss:  2.1729679095506746 ; Iteration number:  0\n",
      "Training accuracy:  0.25 ; Validation accuracy:  0.5\n",
      "Run time of interation 0 of epoch 20 in seconds:  6.07598090171814\n",
      "Loss:  1.9564377889006976 ; Iteration number:  0\n",
      "Training accuracy:  0.25 ; Validation accuracy:  0.5\n",
      "Run time of interation 0 of epoch 21 in seconds:  6.051245927810669\n",
      "Loss:  1.9807401802185434 ; Iteration number:  0\n",
      "Training accuracy:  0.25 ; Validation accuracy:  0.5\n",
      "Run time of interation 0 of epoch 22 in seconds:  5.947956085205078\n",
      "Loss:  2.044831496708488 ; Iteration number:  0\n",
      "Training accuracy:  0.25 ; Validation accuracy:  0.5\n",
      "Run time of interation 0 of epoch 23 in seconds:  5.996391296386719\n",
      "Loss:  1.973857732897074 ; Iteration number:  0\n",
      "Training accuracy:  0.25 ; Validation accuracy:  0.5\n",
      "Run time of interation 0 of epoch 24 in seconds:  6.041184902191162\n",
      "Loss:  1.9606679083059422 ; Iteration number:  0\n",
      "Training accuracy:  0.25 ; Validation accuracy:  0.5\n",
      "Run time of interation 0 of epoch 25 in seconds:  5.983260869979858\n",
      "Loss:  2.0582614721638204 ; Iteration number:  0\n",
      "Training accuracy:  0.25 ; Validation accuracy:  0.5\n",
      "Run time of interation 0 of epoch 26 in seconds:  6.097018003463745\n",
      "Loss:  2.0339179631704867 ; Iteration number:  0\n",
      "Training accuracy:  0.25 ; Validation accuracy:  0.5\n",
      "Run time of interation 0 of epoch 27 in seconds:  6.017637252807617\n",
      "Loss:  1.9928142398222268 ; Iteration number:  0\n",
      "Training accuracy:  0.25 ; Validation accuracy:  0.5\n",
      "Run time of interation 0 of epoch 28 in seconds:  5.938102960586548\n",
      "Loss:  2.1748344661880425 ; Iteration number:  0\n",
      "Training accuracy:  0.25 ; Validation accuracy:  0.5\n",
      "Run time of interation 0 of epoch 29 in seconds:  5.885468006134033\n",
      "Loss:  2.1227647029459065 ; Iteration number:  0\n",
      "Training accuracy:  0.25 ; Validation accuracy:  0.5\n",
      "Run time of interation 0 of epoch 30 in seconds:  9.046528816223145\n",
      "Loss:  1.9835540605407491 ; Iteration number:  0\n",
      "Training accuracy:  0.25 ; Validation accuracy:  0.5\n",
      "Run time of interation 0 of epoch 31 in seconds:  5.911038875579834\n",
      "Loss:  2.0355908084191383 ; Iteration number:  0\n",
      "Training accuracy:  0.25 ; Validation accuracy:  0.5\n",
      "Run time of interation 0 of epoch 32 in seconds:  5.760064125061035\n",
      "Loss:  1.9483336116594117 ; Iteration number:  0\n",
      "Training accuracy:  0.25 ; Validation accuracy:  0.5\n",
      "Run time of interation 0 of epoch 33 in seconds:  5.869971990585327\n",
      "Loss:  2.137710304484132 ; Iteration number:  0\n",
      "Training accuracy:  0.25 ; Validation accuracy:  0.5\n",
      "Run time of interation 0 of epoch 34 in seconds:  5.7722086906433105\n",
      "Loss:  2.190101413948094 ; Iteration number:  0\n",
      "Training accuracy:  0.25 ; Validation accuracy:  0.5\n",
      "Run time of interation 0 of epoch 35 in seconds:  6.068603038787842\n",
      "Loss:  1.9935915238652788 ; Iteration number:  0\n",
      "Training accuracy:  0.25 ; Validation accuracy:  0.5\n",
      "Run time of interation 0 of epoch 36 in seconds:  5.761714220046997\n",
      "Loss:  1.7196514812879151 ; Iteration number:  0\n",
      "Training accuracy:  0.25 ; Validation accuracy:  0.5\n",
      "Run time of interation 0 of epoch 37 in seconds:  5.692566871643066\n",
      "Loss:  1.7320663607507292 ; Iteration number:  0\n",
      "Training accuracy:  0.25 ; Validation accuracy:  0.5\n",
      "Run time of interation 0 of epoch 38 in seconds:  5.8172690868377686\n",
      "Loss:  2.1178211210111466 ; Iteration number:  0\n",
      "Training accuracy:  0.25 ; Validation accuracy:  0.5\n",
      "Run time of interation 0 of epoch 39 in seconds:  5.898941993713379\n",
      "Loss:  1.8861235625683 ; Iteration number:  0\n",
      "Training accuracy:  0.25 ; Validation accuracy:  0.5\n",
      "Run time of interation 0 of epoch 40 in seconds:  5.873763084411621\n",
      "Loss:  1.910466608008723 ; Iteration number:  0\n",
      "Training accuracy:  0.25 ; Validation accuracy:  0.5\n",
      "Run time of interation 0 of epoch 41 in seconds:  6.959195137023926\n",
      "Loss:  1.7645383732879782 ; Iteration number:  0\n",
      "Training accuracy:  0.25 ; Validation accuracy:  0.5\n",
      "Run time of interation 0 of epoch 42 in seconds:  6.566129684448242\n",
      "Loss:  1.89796687250119 ; Iteration number:  0\n",
      "Training accuracy:  0.25 ; Validation accuracy:  0.5\n",
      "Run time of interation 0 of epoch 43 in seconds:  5.841158151626587\n",
      "Loss:  2.124733291532307 ; Iteration number:  0\n",
      "Training accuracy:  0.25 ; Validation accuracy:  0.5\n",
      "Run time of interation 0 of epoch 44 in seconds:  6.054938077926636\n",
      "Loss:  2.0201220183796904 ; Iteration number:  0\n",
      "Training accuracy:  0.25 ; Validation accuracy:  0.5\n",
      "Run time of interation 0 of epoch 45 in seconds:  6.157296180725098\n",
      "Loss:  2.013212059095503 ; Iteration number:  0\n",
      "Training accuracy:  0.25 ; Validation accuracy:  0.5\n",
      "Run time of interation 0 of epoch 46 in seconds:  5.787666082382202\n",
      "Loss:  2.184567700036124 ; Iteration number:  0\n",
      "Training accuracy:  0.25 ; Validation accuracy:  0.5\n",
      "Run time of interation 0 of epoch 47 in seconds:  5.959537029266357\n",
      "Loss:  2.1030526999679306 ; Iteration number:  0\n",
      "Training accuracy:  0.25 ; Validation accuracy:  0.5\n",
      "Run time of interation 0 of epoch 48 in seconds:  5.8481080532073975\n",
      "Loss:  1.7811022520786535 ; Iteration number:  0\n",
      "Training accuracy:  0.25 ; Validation accuracy:  0.5\n",
      "Run time of interation 0 of epoch 49 in seconds:  6.112290859222412\n",
      "Total training time in seconds:  304.74024391174316\n"
     ]
    }
   ],
   "source": [
    "# SGD\n",
    "\n",
    "# Compilet net3 with SGD optimizer\n",
    "net3.compile(optimizer_name='sgd', lr=1e-2)\n",
    "loss_sgd, accuracy_sgd, validation_acc_history_sgd = net3.fit(x_dev, y_dev, x_val, y_val, mini_batch_sz = 15, n_epochs=50, acc_freq=2, print_every=6)"
   ]
  },
  {
   "cell_type": "markdown",
   "metadata": {},
   "source": [
    "### 7d. Evaluate and plot the different optimizer results\n",
    "\n",
    "Make 2 \"high quality\" plots showing the following\n",
    "\n",
    "- Plot the accuracy (y axis) for the three optimizers as a function of training epoch (x axis).\n",
    "- Plot the loss (y axis) for the three optimizers as a function of training iteration (x axis).\n",
    "\n",
    "A high quality plot consists of:\n",
    "- A useful title\n",
    "- X and Y axis labels\n",
    "- A legend"
   ]
  },
  {
   "cell_type": "code",
   "execution_count": 166,
   "metadata": {
    "deletable": false,
    "nbgrader": {
     "cell_type": "code",
     "checksum": "4d845385843185a61360d1315926f50b",
     "grade": false,
     "grade_id": "cell-e5fbccce38137bc5",
     "locked": false,
     "schema_version": 3,
     "solution": true,
     "task": false
    }
   },
   "outputs": [
    {
     "data": {
      "image/png": "[encoded data removed]",
      "text/plain": [
       "<Figure size 1000x500 with 1 Axes>"
      ]
     },
     "metadata": {},
     "output_type": "display_data"
    }
   ],
   "source": [
    "# Plot 1: Accuracy vs Epochs for Three Optimizers\n",
    "plt.figure(figsize=(10, 5))\n",
    "\n",
    "plt.plot(accuracy_sgd, label=\"SGD\", marker='o')\n",
    "plt.plot(train_acc_history_adam, label=\"Adam\", marker='s')\n",
    "plt.plot(accuracy_sgd_m, label=\"SGD-M\", marker='^')\n",
    "plt.title(\"Accuracy vs Epochs for Different Optimizers\")\n",
    "plt.xlabel(\"Epoch\")\n",
    "plt.ylabel(\"Accuracy\")\n",
    "plt.legend()\n",
    "plt.grid(True)\n",
    "plt.show()\n",
    "    "
   ]
  },
  {
   "cell_type": "code",
   "execution_count": 167,
   "metadata": {
    "deletable": false,
    "nbgrader": {
     "cell_type": "code",
     "checksum": "56644ae283448afd534e2c5601ba6c3f",
     "grade": false,
     "grade_id": "cell-e823467d4ec00fe4",
     "locked": false,
     "schema_version": 3,
     "solution": true,
     "task": false
    }
   },
   "outputs": [
    {
     "data": {
      "image/png": "[encoded data removed]",
      "text/plain": [
       "<Figure size 1000x500 with 1 Axes>"
      ]
     },
     "metadata": {},
     "output_type": "display_data"
    }
   ],
   "source": [
    "# Plot 2: Loss vs Iterations for Three Optimizers\n",
    "plt.figure(figsize=(10, 5))\n",
    "plt.plot(loss_sgd, label=\"SGD\", linestyle='-')\n",
    "plt.plot(loss_history_adam, label=\"Adam\")\n",
    "plt.plot(loss_sgd_m, label=\"SGD-M\", linestyle='-.')\n",
    "plt.title(\"Loss vs Iterations for Different Optimizers\")\n",
    "plt.xlabel(\"Iteration\")\n",
    "plt.ylabel(\"Loss\")\n",
    "plt.legend()\n",
    "plt.grid(True)\n",
    "plt.show()"
   ]
  },
  {
   "cell_type": "markdown",
   "metadata": {},
   "source": [
    "### 7e. Questions"
   ]
  },
  {
   "cell_type": "markdown",
   "metadata": {},
   "source": [
    "**Question 4**: Why does decreasing the mini-batch size make the loss print-outs more erratic in Task 7c?\n",
    "\n",
    "**Question 5**: Which optimizer works best and why do think it is best?\n",
    "\n",
    "**Question 6**: What is happening with the training set accuracy and why?"
   ]
  },
  {
   "cell_type": "markdown",
   "metadata": {},
   "source": [
    "**Answer 4:**"
   ]
  },
  {
   "cell_type": "markdown",
   "metadata": {
    "deletable": false,
    "nbgrader": {
     "cell_type": "markdown",
     "checksum": "16dcdbbe1266aa10d4ff638e9e705161",
     "grade": true,
     "grade_id": "cell-9f9ba3536af4d0cd",
     "locked": false,
     "points": 0,
     "schema_version": 3,
     "solution": true,
     "task": false
    }
   },
   "source": [
    "With a smaller mini-batch, each batch contains fewer examples, making it less representative of the overall dataset. As a result, the gradient computed from this batch is more influenced by the specific examples in that batch and is less smooth."
   ]
  },
  {
   "cell_type": "markdown",
   "metadata": {},
   "source": [
    "\n",
    "**Answer 5:**"
   ]
  },
  {
   "cell_type": "markdown",
   "metadata": {
    "deletable": false,
    "nbgrader": {
     "cell_type": "markdown",
     "checksum": "8710378c5d4a9ead75328b79616f34d5",
     "grade": true,
     "grade_id": "cell-48e1c48299cccfba",
     "locked": false,
     "points": 0,
     "schema_version": 3,
     "solution": true,
     "task": false
    }
   },
   "source": [
    "Adam works best as it reaches loss around 0 the fastest, and then SGD_M, and then SGD is way slower. \n",
    "\n",
    "Is is because Adam djusts the learning rate for each parameter based on estimates of the first and second moments of the gradients. This allows it to adaptively handle different scales of updates, which can accelerate convergence. Adam combines the benefits of momentum (which smooths updates and helps with faster convergence) and SGD (which scales learning rates based on the recent magnitudes of gradients)"
   ]
  },
  {
   "cell_type": "markdown",
   "metadata": {},
   "source": [
    "\n",
    "**Answer 6:**"
   ]
  },
  {
   "cell_type": "markdown",
   "metadata": {
    "deletable": false,
    "nbgrader": {
     "cell_type": "markdown",
     "checksum": "6f1f2e8b523fdf4389a4d126ab95cf48",
     "grade": true,
     "grade_id": "cell-ecf9f33371ff2fca",
     "locked": false,
     "points": 0,
     "schema_version": 3,
     "solution": true,
     "task": false
    }
   },
   "source": [
    "The training set accuracy reaches almost 100%, meaning that the networks are overfitting the training set as the loss functions converge to 0. The training accuracy functions increase exponentially and then plateau, because the networks end up memorizing the dataset (as the dataset are too small and n_epochs is quite large) instead of learning the dataset patterns \n"
   ]
  },
  {
   "cell_type": "markdown",
   "metadata": {},
   "source": [
    "## Task 8: Training your convolutional neural network on STL-10"
   ]
  },
  {
   "cell_type": "markdown",
   "metadata": {},
   "source": [
    "### 8a. Load in STL-10 at 32x32 resolution"
   ]
  },
  {
   "cell_type": "code",
   "execution_count": null,
   "metadata": {},
   "outputs": [],
   "source": [
    "# Download the STL-10 dataset from the internet, convert it to Numpy ndarray, resize to 16x16\n",
    "# cache it locally on your computer for faster loading next time.\n",
    "load_stl10_dataset.purge_cached_dataset()\n",
    "# preprocess and create splits\n",
    "x_train, y_train, x_test, y_test, x_val, y_val, x_dev, y_dev = preprocess_data.load_stl10(\n",
    "    n_train_samps=4398, n_test_samps=400, n_valid_samps=200, n_dev_samps=2, scale_fact=3)\n",
    "\n",
    "print ('Train data shape: ', x_train.shape)\n",
    "print ('Train labels shape: ', y_train.shape)\n",
    "print ('Test data shape: ', x_test.shape)\n",
    "print ('Test labels shape: ', y_test.shape)\n",
    "print ('Validation data shape: ', x_val.shape)\n",
    "print ('Validation labels shape: ', y_val.shape)\n",
    "print ('dev data shape: ', x_dev.shape)\n",
    "print ('dev labels shape: ', y_dev.shape)"
   ]
  },
  {
   "cell_type": "markdown",
   "metadata": {},
   "source": [
    "### 8b. Set up accelerated convolution and max pooling layers\n",
    "\n",
    "As you may have noticed, we had to downsize STL-10 to 16x16 resolution to train the network on the dev set (N=20) in a reasonable amount of time. The training set has N≅4000 samples, how will we ever manage to process that amount of data?!\n",
    "\n",
    "On one hand, this is an unfortunate inevitable reality of working with large (\"big\") datasets: you can easily find a dataset that is too time consuming to process for any computer, despite how fast/many CPU/GPUs it has.\n",
    "\n",
    "On the other hand, we can do better for this project and STL-10 :) If you were to time (profile) different parts of the training process, you'd notice that largest bottleneck is convolution and max pooling operations (both forward/backward). You implemented those operations intuitively, which does not always yield the best performance. **By swapping out forward/backward convolution and maxpooling for implementations that use different algorithms (im2col, reshaping) that are compiled to optimized machine code tailored for your computer using the JAX library, we will speed up training up by several orders of magnitude**. JAX should automatically \"max out\" all the CPU cores your computer has available to speed up training.\n",
    "\n",
    "Follow these steps to substitute in the \"accelerated\" convolution and max pooling layers.\n",
    "\n",
    "- Create a class called `Conv4NetAccel` in `network.py` by copy-pasting the contents of `Conv4Net`.\n",
    "- Import `accelerated_layer` at the top and replace the `Conv2D` and `MaxPooling2D` layers with `Conv2DAccel` and `MaxPooling2DAccel`."
   ]
  },
  {
   "cell_type": "markdown",
   "metadata": {},
   "source": [
    "### 8c. Training convolutional neural network on STL-10\n",
    "\n",
    "You are now ready to train on the entire training set.\n",
    "\n",
    "- Create a `Conv4NetAccel` object with hyperparameters of your choice.\n",
    "- Your goal is to achieve at least 45% accuracy on the test and/or validation set.\n",
    "\n",
    "#### Notes\n",
    "\n",
    "- I suggest using your intuition about hyperparameters and over/underfitting to guide your choice, rather than a grid search. This should not be overly challenging.\n",
    "- Use the best / most efficient optimizer based on your prior analysis.\n",
    "- It should take roughly 1 sec per training iteration. If that's way off, seek help as something could be wrong with running the acclerated code."
   ]
  },
  {
   "cell_type": "code",
   "execution_count": null,
   "metadata": {},
   "outputs": [],
   "source": [
    "from network import ConvNet4Accel"
   ]
  },
  {
   "cell_type": "code",
   "execution_count": null,
   "metadata": {
    "deletable": false,
    "nbgrader": {
     "cell_type": "code",
     "checksum": "67b5a69ba77a39e83f1a98613f51df03",
     "grade": false,
     "grade_id": "cell-ef006c949108630b",
     "locked": false,
     "schema_version": 3,
     "solution": true,
     "task": false
    }
   },
   "outputs": [],
   "source": [
    "# YOUR CODE HERE"
   ]
  },
  {
   "cell_type": "markdown",
   "metadata": {},
   "source": [
    "### 8d. Analysis of STL-10 training quality\n",
    "\n",
    "Use your trained network that achieves 45%+ accuracy on the test set to make \"high quality\" plots showing the following \n",
    "\n",
    "- Plot the accuracy of the training and validation sets as a function of training epoch. You may have to convert iterations to epochs.\n",
    "- Plot the loss as a function of training iteration."
   ]
  },
  {
   "cell_type": "code",
   "execution_count": null,
   "metadata": {
    "deletable": false,
    "nbgrader": {
     "cell_type": "code",
     "checksum": "5529cc7997d21254983d9d7779dc350e",
     "grade": false,
     "grade_id": "cell-7afa05bc42b8d14f",
     "locked": false,
     "schema_version": 3,
     "solution": true,
     "task": false
    }
   },
   "outputs": [],
   "source": [
    "# YOUR CODE HERE"
   ]
  },
  {
   "cell_type": "code",
   "execution_count": null,
   "metadata": {
    "deletable": false,
    "nbgrader": {
     "cell_type": "code",
     "checksum": "3fe7885947b173cd1263fb5d5f665b69",
     "grade": false,
     "grade_id": "cell-1223c3aa780f8dbe",
     "locked": false,
     "schema_version": 3,
     "solution": true,
     "task": false
    }
   },
   "outputs": [],
   "source": [
    "# YOUR CODE HERE"
   ]
  },
  {
   "cell_type": "markdown",
   "metadata": {},
   "source": [
    "### 8e. Visualize layer weights\n",
    "\n",
    "Run the following code and submit the inline image of the weight visualization of the 1st layer (convolutional layer) of the network.\n",
    "\n",
    "**Note:**\n",
    "- Setting optional parameter to `True` will let you save a .PNG file in your project folder of your weights. I'd suggest setting it to `False` unless look at your weights and they look like they are worth saving. You don't want a training run that produces undesirable weights to overwrite your good looking results!"
   ]
  },
  {
   "cell_type": "code",
   "execution_count": null,
   "metadata": {},
   "outputs": [],
   "source": [
    "def plot_weights(wts, saveFig=True, filename='convWts.png'):\n",
    "    grid_sz = int(np.sqrt(len(wts)))\n",
    "    plt.figure(figsize=(10,10))\n",
    "    for x in range(grid_sz):\n",
    "        for y in range(grid_sz):\n",
    "            lin_ind = np.ravel_multi_index((x, y), dims=(grid_sz, grid_sz))\n",
    "            plt.subplot(grid_sz, grid_sz, lin_ind+1)\n",
    "            currImg = wts[lin_ind]\n",
    "            low, high = np.min(currImg), np.max(currImg)\n",
    "            currImg = 255*(currImg - low) / (high - low)\n",
    "            currImg = currImg.astype('uint8')\n",
    "            plt.imshow(currImg)\n",
    "            plt.gca().axis('off')\n",
    "    plt.subplots_adjust(wspace=0.01, hspace=0.01)\n",
    "    if saveFig:\n",
    "        plt.savefig(filename)\n",
    "    plt.show()"
   ]
  },
  {
   "cell_type": "code",
   "execution_count": null,
   "metadata": {},
   "outputs": [],
   "source": [
    "# Subsitute your trained network below\n",
    "# netT is my network's name\n",
    "# Every weight should not look like RGB noise\n",
    "plot_weights(netT.layers[0].wts.transpose(0, 2, 3, 1), saveFig=True, filename='filters.png')"
   ]
  },
  {
   "cell_type": "markdown",
   "metadata": {},
   "source": [
    "### 8f. Questions"
   ]
  },
  {
   "cell_type": "markdown",
   "metadata": {},
   "source": [
    "**Question 7:** What do the learned filters look like? Does this make sense to you / is this what you expected? In which area of the brain do these filters resemble cell receptive fields?\n",
    "\n",
    "#### Note\n",
    "\n",
    "You should not see RGB \"noise\". If you do, and you pass the \"overfit\" test with the Adam optimizer, you probably need to increase the number of training epochs."
   ]
  },
  {
   "cell_type": "markdown",
   "metadata": {},
   "source": [
    "**Answer 7:**"
   ]
  },
  {
   "cell_type": "markdown",
   "metadata": {
    "deletable": false,
    "nbgrader": {
     "cell_type": "markdown",
     "checksum": "78a2913eaadc81218dc4d9e24003d6e8",
     "grade": true,
     "grade_id": "cell-c41dbb114339bc9f",
     "locked": false,
     "points": 0,
     "schema_version": 3,
     "solution": true,
     "task": false
    }
   },
   "source": [
    "YOUR ANSWER HERE"
   ]
  },
  {
   "cell_type": "markdown",
   "metadata": {},
   "source": [
    "## Task 9: Dropout\n",
    "\n",
    "Now you are ready to explore how adding a Dropout layer to your CNN affects training and the accuracy of predictions."
   ]
  },
  {
   "cell_type": "markdown",
   "metadata": {},
   "source": [
    "### 9a. Create ConvNet4AccelV2 network\n",
    "\n",
    "- Create a class in `network.py` called `ConvNet4AccelV2` that is the same as `ConvNet4Accel` except that we now add a single dropout layer before the output layer. The layers of your network should now look like:\n",
    "\n",
    "Conv2D → MaxPool2D → Flatten → Dense → **Dropout** → Dense"
   ]
  },
  {
   "cell_type": "code",
   "execution_count": null,
   "metadata": {},
   "outputs": [],
   "source": [
    "from network import ConvNet4AccelV2"
   ]
  },
  {
   "cell_type": "markdown",
   "metadata": {},
   "source": [
    "### 9b. Analyze effect of dropout on STL-10 loss and accuracy\n",
    "\n",
    "Run an experiment in which you train five separate `ConvNet4AccelV2` nets, each with the same default hyperparameters except set the dropout rates to be `[0.0, 0.1, 0.5, 0.9]`, respectively. For example, the first net should have 0 dropout, the 2nd should have 0.1 dropout, etc. \n",
    "\n",
    "Create two high quality plots showing the:\n",
    "1. training loss\n",
    "2. test accuracy\n",
    "\n",
    "produced by each network.\n",
    "\n",
    "**Training notes:**\n",
    "- Use the optimizer that you found performs best from above.\n",
    "- Use a random seed of `0` in all your nets.\n",
    "- You should be able to keep most/all hyperparameters to their default values for this experiment.\n",
    "- Training for only `5` epochs should be enough to produce the expected pattern of results. This means that the experiment should take only a few minutes to run. *You should be get higher accuracy if you train for more than 5 epochs (and you may do so if you so wish) but 5 epochs should be enough to demonstrate the effects of dropout, which is the goal here.*\n",
    "\n",
    "If everything is working properly, you should find that at least one of the dropout settings yields better test accuracy than you found in Task 8."
   ]
  },
  {
   "cell_type": "code",
   "execution_count": null,
   "metadata": {
    "deletable": false,
    "nbgrader": {
     "cell_type": "code",
     "checksum": "1b23703b9fddfd5bc731d85395f6c425",
     "grade": false,
     "grade_id": "cell-63e0ff40be1f9c58",
     "locked": false,
     "schema_version": 3,
     "solution": true,
     "task": false
    }
   },
   "outputs": [],
   "source": [
    "# YOUR CODE HERE"
   ]
  },
  {
   "cell_type": "code",
   "execution_count": null,
   "metadata": {
    "deletable": false,
    "nbgrader": {
     "cell_type": "code",
     "checksum": "72349d260e5af53c41f99b96bc1fa281",
     "grade": false,
     "grade_id": "cell-221d4190e89e55d4",
     "locked": false,
     "schema_version": 3,
     "solution": true,
     "task": false
    }
   },
   "outputs": [],
   "source": [
    "# YOUR CODE HERE"
   ]
  },
  {
   "cell_type": "markdown",
   "metadata": {},
   "source": [
    "### 9c. Questions\n",
    "\n",
    "**Question 8:** What is the relationship between dropout and your training loss? Based on this, how would you expect the validation loss to look for the different dropout levels?\n",
    "\n",
    "*There's no need to actually check the val loss here, this question is asking about your expectations based on your training loss results. You can check / do a deeper analysis for an extension (if you like).*\n",
    "\n",
    "**Question 9:** How does the dropout rate appear to effect your test accuracy?"
   ]
  },
  {
   "cell_type": "markdown",
   "metadata": {},
   "source": [
    "**Answer 8:** "
   ]
  },
  {
   "cell_type": "markdown",
   "metadata": {
    "deletable": false,
    "nbgrader": {
     "cell_type": "markdown",
     "checksum": "dfdb0cbbe966a227b2467d2ef22d1274",
     "grade": true,
     "grade_id": "cell-0d044caf8d0f542b",
     "locked": false,
     "points": 0,
     "schema_version": 3,
     "solution": true,
     "task": false
    }
   },
   "source": [
    "YOUR ANSWER HERE"
   ]
  },
  {
   "cell_type": "markdown",
   "metadata": {},
   "source": [
    "**Answer 9:** "
   ]
  },
  {
   "cell_type": "markdown",
   "metadata": {
    "deletable": false,
    "nbgrader": {
     "cell_type": "markdown",
     "checksum": "cae5cb339c7782ae0930d15efe3060b0",
     "grade": true,
     "grade_id": "cell-db026b88564240cd",
     "locked": false,
     "points": 0,
     "schema_version": 3,
     "solution": true,
     "task": false
    }
   },
   "source": [
    "YOUR ANSWER HERE"
   ]
  },
  {
   "cell_type": "markdown",
   "metadata": {},
   "source": [
    "## Task 10: Adam vs AdamW and weight decay\n",
    "\n",
    "In this task, you will compare how the Adam and AdamW optimizers handle regularization."
   ]
  },
  {
   "cell_type": "markdown",
   "metadata": {},
   "source": [
    "### 10a. Implement and test AdamW\n",
    "\n",
    "Implement AdamW in `optimizers.py`. You should be able to copy-paste the contents of your `Adam` class and add/change very few lines of code. This should be a very quick implementation. Review your class notes for the implementation strategy.\n",
    "\n",
    "**Note:** You will need to change something about the constructor compared to Adam..."
   ]
  },
  {
   "cell_type": "markdown",
   "metadata": {},
   "source": [
    "####  Test AdamW"
   ]
  },
  {
   "cell_type": "code",
   "execution_count": null,
   "metadata": {},
   "outputs": [],
   "source": [
    "rng = np.random.default_rng(0)\n",
    "\n",
    "wts = rng.standard_normal((3, 4))\n",
    "d_wts = rng.standard_normal((3, 4))\n",
    "\n",
    "optimizer = AdamW(lr=0.1, reg=0)\n",
    "optimizer.prepare(wts, d_wts)\n",
    "\n",
    "new_wts_1 = optimizer.update_weights()\n",
    "new_wts_2 = optimizer.update_weights()\n",
    "new_wts_3 = optimizer.update_weights()\n",
    "\n",
    "print('Test 1/2 (no reg):')\n",
    "print(f'AdamW: Wts after 1 iter\\n{new_wts_1}')\n",
    "print(f'AdamW: Wts after 2 iter\\n{new_wts_2}')\n",
    "print(f'AdamW: Wts after 3 iter\\n{new_wts_3}')\n",
    "print(45*'-')\n",
    "\n",
    "optimizer = AdamW(lr=0.1, reg=0.1)\n",
    "optimizer.prepare(wts, d_wts)\n",
    "\n",
    "new_wts_1 = optimizer.update_weights()\n",
    "new_wts_2 = optimizer.update_weights()\n",
    "new_wts_3 = optimizer.update_weights()\n",
    "\n",
    "print('Test 2/2 (w/ reg):')\n",
    "print(f'AdamW: Wts after 1 iter\\n{new_wts_1}')\n",
    "print(f'AdamW: Wts after 2 iter\\n{new_wts_2}')\n",
    "print(f'AdamW: Wts after 3 iter\\n{new_wts_3}')"
   ]
  },
  {
   "cell_type": "markdown",
   "metadata": {},
   "source": [
    "You should see:\n",
    "\n",
    "        Test 1/2 (no reg):\n",
    "        AdamW: Wts after 1 iter\n",
    "        [[ 0.2257302 -0.0321049  0.7404226  0.2049001]\n",
    "        [-0.4356694  0.4615951  1.204      0.847081 ]\n",
    "        [-0.6037352 -1.3654215 -0.5232745 -0.058674 ]]\n",
    "        AdamW: Wts after 2 iter\n",
    "        [[ 0.3257302  0.0678951  0.8404226  0.3049001]\n",
    "        [-0.3356694  0.561595   1.104      0.747081 ]\n",
    "        [-0.5037353 -1.4654215 -0.4232745 -0.158674 ]]\n",
    "        AdamW: Wts after 3 iter\n",
    "        [[ 0.4257302  0.1678951  0.9404226  0.4049001]\n",
    "        [-0.2356694  0.661595   1.0040001  0.647081 ]\n",
    "        [-0.4037353 -1.5654215 -0.3232745 -0.258674 ]]\n",
    "        ---------------------------------------------\n",
    "        Test 2/2 (w/ reg):\n",
    "        AdamW: Wts after 1 iter\n",
    "        [[ 0.5299875  0.2695741  1.0498269  0.5089491]\n",
    "        [-0.1380261  0.768211   0.9140401  0.5535518]\n",
    "        [-0.3077726 -1.6810757 -0.2265072 -0.3612607]]\n",
    "        AdamW: Wts after 2 iter\n",
    "        [[ 0.6352986  0.3723576  1.1603455  0.6140712]\n",
    "        [-0.0393622  0.8759553  0.8231163  0.4590636]\n",
    "        [-0.2107146 -1.7979054 -0.1287356 -0.4649343]]\n",
    "        AdamW: Wts after 3 iter\n",
    "        [[ 0.7416815  0.4763123  1.2720033  0.7202987]\n",
    "        [ 0.0603612  0.9848794  0.731178   0.3635911]\n",
    "        [-0.1124616 -1.9159352 -0.0299255 -0.5697447]]"
   ]
  },
  {
   "cell_type": "markdown",
   "metadata": {},
   "source": [
    "### 10b. Compare Adam and AdamW\n",
    "\n",
    "Below, train separate `ConvNet4AccelV2` (with dropout) nets with separate 4 regularization strengths `[0, 0.01, 0.1, 0.5]`. As in your dropout experiment, each net should use a different regularization value. In each case, train the net once with Adam and once again with AdamW. Compute/keep track of the test accuracy achieved by each net on STL-10.\n",
    "\n",
    "Default hyperparameters should be fine, except:\n",
    "- For consistency, you a random seed of `0` in all nets.\n",
    "- Train the networks for `10` epochs.\n",
    "\n",
    "Create a single high-quality plot showing the test accuracy achieved with the different regularization strengths and optimizers (i.e. 2 curves, 3 plot markers each).\n"
   ]
  },
  {
   "cell_type": "code",
   "execution_count": null,
   "metadata": {
    "deletable": false,
    "nbgrader": {
     "cell_type": "code",
     "checksum": "8140bd4e6c380ee1c1fa9cc3c5bca0e6",
     "grade": false,
     "grade_id": "cell-98f4ad01a393c121",
     "locked": false,
     "schema_version": 3,
     "solution": true,
     "task": false
    }
   },
   "outputs": [],
   "source": [
    "# YOUR CODE HERE"
   ]
  },
  {
   "cell_type": "code",
   "execution_count": null,
   "metadata": {
    "deletable": false,
    "nbgrader": {
     "cell_type": "code",
     "checksum": "b5498544c493a1e8cfca07d7912f4c6f",
     "grade": false,
     "grade_id": "cell-60d71478f36394a9",
     "locked": false,
     "schema_version": 3,
     "solution": true,
     "task": false
    }
   },
   "outputs": [],
   "source": [
    "# YOUR CODE HERE"
   ]
  },
  {
   "cell_type": "markdown",
   "metadata": {},
   "source": [
    "## Extensions\n",
    "\n",
    "### General guidelines\n",
    "\n",
    "1. Never integrate extensions into your base project so that they change the expected behavior of core functions. If your extension changes the core design/behavior, no problem, duplicate your working base project and add features from there.\n",
    "2. Check the rubric to keep in mind how extensions on this project will be graded.\n",
    "3. While I may consult your code and \"written log\" of what you did, **I am grading your extensions based on what you present in your 3-5 min video.**\n",
    "3. I suggest documenting your explorations in a \"log\" or \"lab notebook\" style (i.e. documenting your thought/progression/discovery/learning process). I'm not grading your writing, so you can keep it succinct. **Whatever is most useful to you to remember what you did.** \n",
    "4. I suggest taking a hypothesis driven approach. For example \"I was curious about X so I explored Y. I found Z, which was not what I expected because..., so then tried A...\"\n",
    "5. Make plots to help showcase your results.\n",
    "6. **More is not necessarily better.** Generally, a small number of \"in-depth\" extensions count for more than many \"shallow\" extensions.\n",
    "\n",
    "### AI guidelines\n",
    "\n",
    "You may use AI in mostly any capacity for extensions. However, keep in mind:\n",
    "1. There is no need to use AI at all!\n",
    "2. You are welcome to use AI as a tool (e.g. automate something that is tedious, help you get unstuck, etc.). However, you should be coding, you should be thinking, you should be writing, you should be creating. If you are spending most (or even close to most) of your time typing into a chatbot and copy-pasting, you have probably gone too far with AI use.\n",
    "3. I don't find large volumes of AI generated code/text/plots to be particularly impressive and you risk losing my interest while grading. Remember: I'm grading your extensions based on your video presentation. **More is not necessarily better.**\n",
    "\n",
    "### Video guidelines\n",
    "\n",
    "1. Please try to keep your video to 5 minutes (*I have other projects to grade!*). If you turn in a longer video, I make no promise that I will watch more than 5 minutes.\n",
    "2. Your screen should be shared as you show me what you did. A live video of your face should also appear somewhere on the screen (e.g. picture-in-picture overlay / split screen).\n",
    "3. Your partner should join you for the video and take turns talking, but, if necessary, it is fine to have one team member present during the record the video.\n",
    "4. Do not simply read text from your notebook, do not read from a prepared script. I am not grading how polished your video presentation is (see extension grading criteria on rubric). \n",
    "5. I am looking for original and creative explorations sparked by your curiosity/interest/passion in a topic. This should be apparent in your video.\n",
    "6. Be natural,, don't feel the need to impress me with fancy language. If it is helpful, imagine that we are talking one-on-one about your extension. Tell me what you did :)\n",
    "\n",
    "### Extension ideas"
   ]
  },
  {
   "cell_type": "markdown",
   "metadata": {},
   "source": [
    "#### 0. Pedal to the metal: achieve high accuracy on STL-10\n",
    "\n",
    "You can achieve higher (>50%) classification accuracy on the STL-10 test set. Find the hyperparameters to achieve this. You can use random, grid search, or simply hand tuning (trial and error) — keep in mind that even with the accelerated layers, each training run may take minutes (or longer) to complete."
   ]
  },
  {
   "cell_type": "markdown",
   "metadata": {},
   "source": [
    "#### 1. Experiment with different network architectures.\n",
    "\n",
    "The design of the `Network` class is modular. As long as you're careful about shapes, adding/removing network layers (e.g. `Conv2D`, `Dense`, etc.) should be straight forward. Experiment with adding another sequence of `Conv2D` and `MaxPool2D` layers. Add another `Dense` hidden layer before the output layer. Add additional dropout layers in between `Dense` layers (or around `Conv2D`/`MaxPool2D` if can get your implementation to support it). How do the changes affect classification accuracy and loss? "
   ]
  },
  {
   "cell_type": "markdown",
   "metadata": {},
   "source": [
    "#### 2. Experiment with different network hyperparameters.\n",
    "\n",
    "Explore the affect one or more change below has on classification. Be careful about how the hyperparameters may affect the shape of network layers. Thorough analysis will get you more points (not try a few ad hoc values).\n",
    "\n",
    "- Experiment with different numbers of hidden units in the Dense layers.\n",
    "- Experiment different max pooling window sizes and strides.\n",
    "- Experiment with kernel sizes (not 7x7). Can you get away with smaller ones? Do they perform just as well? What is the change in runtime like? What is the impact on their visualized appearance?\n",
    "- Experiment with number of kernels in the convolutional layer. Is more/fewer better? What is the impact on their visualized appearance?"
   ]
  },
  {
   "cell_type": "markdown",
   "metadata": {},
   "source": [
    "#### 3. Different hidden layer activation functions\n",
    "\n",
    "Implement and experiment with activation functions that are appropriate for hidden layers (e.g. Leaky ReLU, ELU, SELU, GELU, Sigmoid, Softplus, Mish, etc.). How do they affect speed of training and accuracy? These activation functions can replace ReLU in Dense and Conv2D layers."
   ]
  },
  {
   "cell_type": "markdown",
   "metadata": {},
   "source": [
    "####  4. Add and test some training bells and whistles\n",
    "\n",
    "Add features like early stopping, learning rate decay (learning rate at the end of an epoch becomes some fraction of its former value), etc and assess how they affect training loss convergence and accuracy. "
   ]
  },
  {
   "cell_type": "markdown",
   "metadata": {},
   "source": [
    "#### 5. Additional optimizers\n",
    "\n",
    "Research other optimizers used in backpropogation and implement one or more of them within the model structure. Compare its performance to ones you have implemented"
   ]
  },
  {
   "cell_type": "markdown",
   "metadata": {},
   "source": [
    "#### 6. Optimize your code\n",
    "\n",
    "Find the main performance bottlenecks in the network and improve your code to reduce runtime (e.g. reduce explicit for loops, increase vectorization, etc). Research faster algorithms to do operations like convolution and implement them. Given the complexity of the network, I suggest focusing on one area at a time and make sure everything you change passes the test code before proceeding. Quantify and discuss your performance improvements"
   ]
  },
  {
   "cell_type": "markdown",
   "metadata": {},
   "source": [
    "#### 7. Additional loss functions\n",
    "\n",
    "Implement support for sigmoid, or another activation functions and associated losses. Test it out and compare with softmax/cross entropy. Make sure any necessary changes to the layer's gradient are made."
   ]
  },
  {
   "cell_type": "markdown",
   "metadata": {},
   "source": [
    "#### 8. Additional datasets\n",
    "\n",
    "Do classification and analyze the results with an image dataset of your choice (MNIST, Fashion MNIST, CIFAR10, etc.)."
   ]
  },
  {
   "cell_type": "markdown",
   "metadata": {},
   "source": [
    "#### 9. Performance analysis\n",
    "\n",
    "Do a thorough comparative analysis of the non-accelerated network and accelerated networks with respect to runtime."
   ]
  },
  {
   "cell_type": "markdown",
   "metadata": {},
   "source": [
    "#### 10. Visualize network predictions\n",
    "\n",
    "Plot predicted class labels with a sample of test images to better assess where the network excels and where it struggles."
   ]
  },
  {
   "cell_type": "markdown",
   "metadata": {},
   "source": [
    "#### 11. Confusion matrix\n",
    "\n",
    "Make a confusion matrix and analyze the pattern of errors made by the network. For example, does the network confuse any two classes far more than others?"
   ]
  },
  {
   "cell_type": "markdown",
   "metadata": {},
   "source": [
    "#### 12. Effects of dropout\n",
    "\n",
    "- The experiment that you performed in the main project that focused on the effects of dropout was only limited to 5 epochs. Do a more thorough exploration and see whether `ConvNet4AccelV2` (with dropout) can outperform the net without it with respect to test accuracy. **Tip:** Try increasing the number of neurons in your convolutional and dense layers compared to the default values and experiment with different dropout rates.\n",
    "- Explore how dropout levels affect the validation loss."
   ]
  },
  {
   "cell_type": "markdown",
   "metadata": {},
   "source": [
    "#### 13. Effects of AdamW\n",
    "\n",
    "Continue to explore how AdamW interacts with regularization and dropout. What is the highest accuracy your most general network can achieve?"
   ]
  },
  {
   "cell_type": "code",
   "execution_count": null,
   "metadata": {
    "deletable": false,
    "nbgrader": {
     "cell_type": "code",
     "checksum": "ff51841e4fc7829ad4d6f30c4db3f7c7",
     "grade": false,
     "grade_id": "cell-78dc85c4d70d1d3e",
     "locked": false,
     "schema_version": 3,
     "solution": true,
     "task": false
    }
   },
   "outputs": [],
   "source": [
    "# YOUR CODE HERE"
   ]
  },
  {
   "cell_type": "code",
   "execution_count": null,
   "metadata": {},
   "outputs": [],
   "source": []
  }
 ],
 "metadata": {
  "kernelspec": {
   "display_name": "Python 3",
   "language": "python",
   "name": "python3"
  },
  "language_info": {
   "codemirror_mode": {
    "name": "ipython",
    "version": 3
   },
   "file_extension": ".py",
   "mimetype": "text/x-python",
   "name": "python",
   "nbconvert_exporter": "python",
   "pygments_lexer": "ipython3",
   "version": "3.10.9"
  }
 },
 "nbformat": 4,
 "nbformat_minor": 4
}
